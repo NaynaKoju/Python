{
 "cells": [
  {
   "cell_type": "markdown",
   "id": "62620d39-b8f5-4a59-8260-a0070a0103aa",
   "metadata": {},
   "source": [
    "#logical operator\n",
    "# and => all value true => true\n",
    "# or => any value true => true\n",
    "#not => opposite value"
   ]
  },
  {
   "cell_type": "code",
   "execution_count": 2,
   "id": "a35248fd-a11d-404c-a554-4cc273a346f6",
   "metadata": {},
   "outputs": [
    {
     "data": {
      "text/plain": [
       "True"
      ]
     },
     "execution_count": 2,
     "metadata": {},
     "output_type": "execute_result"
    }
   ],
   "source": [
    "True and True and True "
   ]
  },
  {
   "cell_type": "code",
   "execution_count": 3,
   "id": "f196608d-d00d-4ab7-84ee-37b156a43f81",
   "metadata": {},
   "outputs": [
    {
     "data": {
      "text/plain": [
       "False"
      ]
     },
     "execution_count": 3,
     "metadata": {},
     "output_type": "execute_result"
    }
   ],
   "source": [
    "True and False and True"
   ]
  },
  {
   "cell_type": "code",
   "execution_count": 4,
   "id": "75614592-52db-4067-bd83-b66ab19aaeda",
   "metadata": {},
   "outputs": [
    {
     "data": {
      "text/plain": [
       "True"
      ]
     },
     "execution_count": 4,
     "metadata": {},
     "output_type": "execute_result"
    }
   ],
   "source": [
    "True or False or True"
   ]
  },
  {
   "cell_type": "code",
   "execution_count": 5,
   "id": "ab8b0766-10bb-45ed-bebf-ff3da2e33b73",
   "metadata": {},
   "outputs": [
    {
     "data": {
      "text/plain": [
       "False"
      ]
     },
     "execution_count": 5,
     "metadata": {},
     "output_type": "execute_result"
    }
   ],
   "source": [
    "not True"
   ]
  },
  {
   "cell_type": "code",
   "execution_count": 6,
   "id": "b49240aa-cbc0-4560-bd03-a47816252da0",
   "metadata": {},
   "outputs": [
    {
     "data": {
      "text/plain": [
       "True"
      ]
     },
     "execution_count": 6,
     "metadata": {},
     "output_type": "execute_result"
    }
   ],
   "source": [
    "not not True"
   ]
  },
  {
   "cell_type": "code",
   "execution_count": 8,
   "id": "81e8258f-554d-411e-9cba-1d0803999947",
   "metadata": {},
   "outputs": [
    {
     "data": {
      "text/plain": [
       "False"
      ]
     },
     "execution_count": 8,
     "metadata": {},
     "output_type": "execute_result"
    }
   ],
   "source": [
    "False or True and False\n",
    "#precedence and ko dherei huncha so and paila calculate garne\n",
    "#priotities: small bracket- and - or"
   ]
  },
  {
   "cell_type": "code",
   "execution_count": 9,
   "id": "b36aea0f-6246-43e1-802c-b328db7463d6",
   "metadata": {},
   "outputs": [
    {
     "data": {
      "text/plain": [
       "True"
      ]
     },
     "execution_count": 9,
     "metadata": {},
     "output_type": "execute_result"
    }
   ],
   "source": [
    "True and (not(not True)) or (True and (not False))"
   ]
  },
  {
   "cell_type": "markdown",
   "id": "80f1a94b-5287-4f36-8b6b-ce688dbd97d8",
   "metadata": {},
   "source": [
    "ASSIGNMENT OPERATOR"
   ]
  },
  {
   "cell_type": "code",
   "execution_count": 11,
   "id": "4e3055b5-5dda-45ac-b4e4-e5759ae35737",
   "metadata": {},
   "outputs": [],
   "source": [
    "x=5"
   ]
  },
  {
   "cell_type": "code",
   "execution_count": 12,
   "id": "3e824db0-f4a9-4f94-a5d9-a2572dfe24e5",
   "metadata": {},
   "outputs": [],
   "source": [
    "x=5\n",
    "x=x+5  #assignment"
   ]
  },
  {
   "cell_type": "code",
   "execution_count": 14,
   "id": "30198398-30fc-4bb2-b9c4-f2e996629957",
   "metadata": {},
   "outputs": [
    {
     "name": "stdout",
     "output_type": "stream",
     "text": [
      "10\n"
     ]
    }
   ],
   "source": [
    "print (x)"
   ]
  },
  {
   "cell_type": "code",
   "execution_count": 19,
   "id": "048de146-3eb8-44b3-a5d6-1bbd4396b76b",
   "metadata": {},
   "outputs": [
    {
     "name": "stdout",
     "output_type": "stream",
     "text": [
      "10\n"
     ]
    }
   ],
   "source": [
    "x=5\n",
    "x+=5 # x= x+5\n",
    "print(x)"
   ]
  },
  {
   "cell_type": "code",
   "execution_count": 20,
   "id": "b4b48907-148b-4772-b64c-dcedeef7eaff",
   "metadata": {},
   "outputs": [
    {
     "name": "stdout",
     "output_type": "stream",
     "text": [
      "50\n"
     ]
    }
   ],
   "source": [
    "x=55\n",
    "x-=5\n",
    "print(x)"
   ]
  },
  {
   "cell_type": "code",
   "execution_count": 21,
   "id": "519aa0ef-22ea-4821-bb3c-5dbb52ca0622",
   "metadata": {},
   "outputs": [
    {
     "data": {
      "text/plain": [
       "True"
      ]
     },
     "execution_count": 21,
     "metadata": {},
     "output_type": "execute_result"
    }
   ],
   "source": [
    "x=2\n",
    "y=2\n",
    "x==y #=equal to"
   ]
  },
  {
   "cell_type": "code",
   "execution_count": 22,
   "id": "4c95e5dd-32cd-4be6-b44c-251c32c88542",
   "metadata": {},
   "outputs": [
    {
     "name": "stdout",
     "output_type": "stream",
     "text": [
      "140735263214040\n",
      "140735263214040\n"
     ]
    },
    {
     "data": {
      "text/plain": [
       "True"
      ]
     },
     "execution_count": 22,
     "metadata": {},
     "output_type": "execute_result"
    }
   ],
   "source": [
    "x=2\n",
    "y=2\n",
    "print (id(x))\n",
    "print (id(x))\n",
    "x is y #identity operator => memory address"
   ]
  },
  {
   "cell_type": "code",
   "execution_count": 23,
   "id": "0184f69f-80c7-45e7-b707-d45b3c150cff",
   "metadata": {},
   "outputs": [
    {
     "name": "stdout",
     "output_type": "stream",
     "text": [
      "2759269688688\n",
      "2759269688688\n"
     ]
    },
    {
     "data": {
      "text/plain": [
       "False"
      ]
     },
     "execution_count": 23,
     "metadata": {},
     "output_type": "execute_result"
    }
   ],
   "source": [
    "x=300\n",
    "y=300\n",
    "print (id(x))\n",
    "print (id(x))\n",
    "x is y #identity operator => memory address"
   ]
  },
  {
   "cell_type": "markdown",
   "id": "cf656f48-bd3f-43a5-b02b-c787c8aebb8a",
   "metadata": {},
   "source": [
    "# 0-256 => same memory address => optimized"
   ]
  },
  {
   "cell_type": "markdown",
   "id": "12624438-3594-448c-8d7a-74d144fc8ffb",
   "metadata": {},
   "source": [
    "Membership operator"
   ]
  },
  {
   "cell_type": "code",
   "execution_count": 31,
   "id": "dd9aaf11-aa1e-41a4-8ee7-cf4402c73fb9",
   "metadata": {},
   "outputs": [
    {
     "data": {
      "text/plain": [
       "True"
      ]
     },
     "execution_count": 31,
     "metadata": {},
     "output_type": "execute_result"
    }
   ],
   "source": [
    "1 in [1,2,3,4]"
   ]
  },
  {
   "cell_type": "code",
   "execution_count": 32,
   "id": "45212533-6788-471f-9711-8c0a8d1aa9df",
   "metadata": {},
   "outputs": [
    {
     "data": {
      "text/plain": [
       "False"
      ]
     },
     "execution_count": 32,
     "metadata": {},
     "output_type": "execute_result"
    }
   ],
   "source": [
    "\"a\" in [\"A\", \"b\", 2,3] #list"
   ]
  },
  {
   "cell_type": "code",
   "execution_count": 33,
   "id": "22ec3f6d-492d-4152-8e9b-0e2d614f6c41",
   "metadata": {},
   "outputs": [
    {
     "data": {
      "text/plain": [
       "True"
      ]
     },
     "execution_count": 33,
     "metadata": {},
     "output_type": "execute_result"
    }
   ],
   "source": [
    "\"na\" in \"nayna\""
   ]
  },
  {
   "cell_type": "code",
   "execution_count": 34,
   "id": "8341bddc-9316-4af8-bfe3-a0d1d13f6e35",
   "metadata": {},
   "outputs": [
    {
     "data": {
      "text/plain": [
       "False"
      ]
     },
     "execution_count": 34,
     "metadata": {},
     "output_type": "execute_result"
    }
   ],
   "source": [
    "\"ny\" in \"nayna\" #string"
   ]
  },
  {
   "cell_type": "code",
   "execution_count": 35,
   "id": "d1a3fee1-867a-4149-9c21-d0814427a241",
   "metadata": {},
   "outputs": [
    {
     "data": {
      "text/plain": [
       "False"
      ]
     },
     "execution_count": 35,
     "metadata": {},
     "output_type": "execute_result"
    }
   ],
   "source": [
    "\"a\" in (\"A\", \"b\", 2,3) #tuple"
   ]
  },
  {
   "cell_type": "code",
   "execution_count": 36,
   "id": "39fbb10a-f081-41fd-a29d-2810bb38289e",
   "metadata": {},
   "outputs": [
    {
     "data": {
      "text/plain": [
       "True"
      ]
     },
     "execution_count": 36,
     "metadata": {},
     "output_type": "execute_result"
    }
   ],
   "source": [
    "\"b\" in {\"A\", \"b\", 2,3} #set"
   ]
  },
  {
   "cell_type": "code",
   "execution_count": 37,
   "id": "930380e0-2498-4070-8e20-fe4a9b464b6f",
   "metadata": {},
   "outputs": [
    {
     "data": {
      "text/plain": [
       "True"
      ]
     },
     "execution_count": 37,
     "metadata": {},
     "output_type": "execute_result"
    }
   ],
   "source": [
    "#isinstance => for type comparison\n",
    "isinstance(x, int)"
   ]
  },
  {
   "cell_type": "code",
   "execution_count": 38,
   "id": "9c290145-12b7-417a-8b27-3dd344f24270",
   "metadata": {},
   "outputs": [
    {
     "data": {
      "text/plain": [
       "True"
      ]
     },
     "execution_count": 38,
     "metadata": {},
     "output_type": "execute_result"
    }
   ],
   "source": [
    "isinstance(x, (int, float)) #int or float?"
   ]
  },
  {
   "cell_type": "code",
   "execution_count": 39,
   "id": "0a14e658-9984-4854-88bc-83e48655403b",
   "metadata": {},
   "outputs": [
    {
     "data": {
      "text/plain": [
       "False"
      ]
     },
     "execution_count": 39,
     "metadata": {},
     "output_type": "execute_result"
    }
   ],
   "source": [
    "isinstance(x, (str, float)) #str or float?"
   ]
  },
  {
   "cell_type": "code",
   "execution_count": 41,
   "id": "1ed750b6-163e-4901-8f28-5e8f098c5de5",
   "metadata": {},
   "outputs": [
    {
     "name": "stdout",
     "output_type": "stream",
     "text": [
      "0.12345678901234568\n"
     ]
    }
   ],
   "source": [
    "# only gives 17 digits after decimal point\n",
    "b= 0.1234567890123456789 #rounds off after 17 digits\n",
    "print (b)"
   ]
  },
  {
   "cell_type": "code",
   "execution_count": 43,
   "id": "a938893e-3225-4f95-962b-d6565434dcb1",
   "metadata": {},
   "outputs": [
    {
     "data": {
      "text/plain": [
       "False"
      ]
     },
     "execution_count": 43,
     "metadata": {},
     "output_type": "execute_result"
    }
   ],
   "source": [
    "(1.1 + 2.2 ) == 3.3 #no precision in float"
   ]
  },
  {
   "cell_type": "code",
   "execution_count": 45,
   "id": "2257e9bb-b276-4584-9d36-3e704e5a9f2e",
   "metadata": {},
   "outputs": [
    {
     "name": "stdout",
     "output_type": "stream",
     "text": [
      "3.3\n"
     ]
    }
   ],
   "source": [
    "#decimal for precision => value string ma dine\n",
    "from decimal import Decimal\n",
    "print (Decimal (\"1.1\") + Decimal (\"2.2\"))"
   ]
  },
  {
   "cell_type": "code",
   "execution_count": 47,
   "id": "35e2f0b3-3e57-4518-b7ad-bc446a015214",
   "metadata": {},
   "outputs": [
    {
     "name": "stdout",
     "output_type": "stream",
     "text": [
      "3.3\n"
     ]
    }
   ],
   "source": [
    "from decimal import Decimal as D #alias => D\n",
    "print (Decimal (\"1.1\") + Decimal (\"2.2\"))"
   ]
  },
  {
   "cell_type": "code",
   "execution_count": 50,
   "id": "4499514f-c7ad-41a4-b0d1-edfc72dc9f75",
   "metadata": {},
   "outputs": [
    {
     "name": "stdout",
     "output_type": "stream",
     "text": [
      "3.3\n"
     ]
    }
   ],
   "source": [
    "#long method \n",
    "import decimal\n",
    "print (decimal.Decimal (\"1.1\") + decimal.Decimal (\"2.2\"))"
   ]
  },
  {
   "cell_type": "code",
   "execution_count": 52,
   "id": "4c183bb8-8bd9-4913-b074-8b6257528de8",
   "metadata": {},
   "outputs": [
    {
     "name": "stdout",
     "output_type": "stream",
     "text": [
      "3.141592653589793\n",
      "-1.0\n",
      "22026.465794806718\n",
      "3.0\n",
      "1.1752011936438014\n",
      "720\n"
     ]
    }
   ],
   "source": [
    "import math\n",
    "print (math.pi)\n",
    "print (math.cos(math.pi))    #cos(pi) = -1\n",
    "print (math.exp(10))\n",
    "print (math.log10(1000)) # log10(1000)=3\n",
    "print (math.sinh(1))\n",
    "print (math.factorial(6))"
   ]
  },
  {
   "cell_type": "code",
   "execution_count": 56,
   "id": "bf1071d5-dd63-48aa-9798-edd84ffb7d05",
   "metadata": {},
   "outputs": [],
   "source": [
    "#help(math) => aru formula haru ko lagi"
   ]
  },
  {
   "cell_type": "code",
   "execution_count": 57,
   "id": "6a5dcc3d-f75e-433f-9832-b669caf1323c",
   "metadata": {},
   "outputs": [],
   "source": [
    "#random vanne module\n",
    "import random"
   ]
  },
  {
   "cell_type": "code",
   "execution_count": 59,
   "id": "543cdfb4-f34f-4a12-a279-ffac8720093b",
   "metadata": {},
   "outputs": [
    {
     "name": "stdout",
     "output_type": "stream",
     "text": [
      "4\n"
     ]
    }
   ],
   "source": [
    "x= [1,2,3,4,5,6]\n",
    "print (random.choice(x))"
   ]
  },
  {
   "cell_type": "code",
   "execution_count": 64,
   "id": "c7c392cd-21d2-4d8b-aae5-512d5581594d",
   "metadata": {},
   "outputs": [
    {
     "name": "stdout",
     "output_type": "stream",
     "text": [
      "26\n"
     ]
    }
   ],
   "source": [
    "print (random.randrange(20,30))"
   ]
  },
  {
   "cell_type": "code",
   "execution_count": 68,
   "id": "f8a5dd72-514f-4602-bbe8-e4b7b8670e69",
   "metadata": {},
   "outputs": [
    {
     "name": "stdout",
     "output_type": "stream",
     "text": [
      "[3, 5, 6, 4, 2, 1]\n"
     ]
    }
   ],
   "source": [
    "x= [1,2,3,4,5,6]\n",
    "random.shuffle(x)\n",
    "print(x)"
   ]
  },
  {
   "cell_type": "code",
   "execution_count": 70,
   "id": "80b149f0-5e37-4be5-be0c-d75146bf513c",
   "metadata": {},
   "outputs": [
    {
     "name": "stdout",
     "output_type": "stream",
     "text": [
      "0.7221158042763444\n"
     ]
    }
   ],
   "source": [
    "print(random.random()) # 0-1 vitra ko random value"
   ]
  },
  {
   "cell_type": "code",
   "execution_count": 71,
   "id": "3eb4ee3a-d087-420c-ad8a-438794c4dc75",
   "metadata": {},
   "outputs": [],
   "source": [
    "#help (random) => for tutorials"
   ]
  },
  {
   "cell_type": "code",
   "execution_count": null,
   "id": "0c2371d9-1710-4d75-ba9b-796adc3f610e",
   "metadata": {},
   "outputs": [],
   "source": []
  }
 ],
 "metadata": {
  "kernelspec": {
   "display_name": "Python 3 (ipykernel)",
   "language": "python",
   "name": "python3"
  },
  "language_info": {
   "codemirror_mode": {
    "name": "ipython",
    "version": 3
   },
   "file_extension": ".py",
   "mimetype": "text/x-python",
   "name": "python",
   "nbconvert_exporter": "python",
   "pygments_lexer": "ipython3",
   "version": "3.12.5"
  }
 },
 "nbformat": 4,
 "nbformat_minor": 5
}
