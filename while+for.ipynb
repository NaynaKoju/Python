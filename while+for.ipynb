{
 "cells": [
  {
   "cell_type": "code",
   "execution_count": 1,
   "id": "ab1ad669-7e3c-4bd5-a894-901bbb5dfd17",
   "metadata": {},
   "outputs": [],
   "source": [
    "#for\n",
    "#finite iteration\n",
    "#if you know how many time you are iterating\n",
    "\n",
    "#while\n",
    "#infinite iteration\n",
    "#if you dont know how many times you are iterating"
   ]
  },
  {
   "cell_type": "code",
   "execution_count": 5,
   "id": "686dcd35-89a0-4548-8557-09bdebf57ef4",
   "metadata": {},
   "outputs": [
    {
     "name": "stdout",
     "output_type": "stream",
     "text": [
      "ram eats momo\n",
      "ram eats chaumin\n",
      "ram eats thukpa\n",
      "shyam eats momo\n",
      "shyam eats chaumin\n",
      "shyam eats thukpa\n",
      "gita eats momo\n",
      "gita eats chaumin\n",
      "gita eats thukpa\n",
      "sita eats momo\n",
      "sita eats chaumin\n",
      "sita eats thukpa\n"
     ]
    }
   ],
   "source": [
    "#output ma ram le tintai khani shyam le pani tintai khani and so on\n",
    "names=[\"ram\", \"shyam\", \"gita\", \"sita\"]\n",
    "foods= [\"momo\", \"chaumin\", \"thukpa\"]\n",
    "for persons in names:\n",
    "    for food in foods: #nested for loop\n",
    "        print(f\"{persons} eats {food}\")"
   ]
  },
  {
   "cell_type": "code",
   "execution_count": 6,
   "id": "20df70f0-300d-401b-ab50-b19639d3ee14",
   "metadata": {},
   "outputs": [
    {
     "name": "stdout",
     "output_type": "stream",
     "text": [
      "ram\n",
      "shyam\n",
      "gita\n",
      "sita\n"
     ]
    }
   ],
   "source": [
    "names= [\"ram\", \"shyam\", \"gita\", \"sita\"]\n",
    "for i in names:\n",
    "    print (i)"
   ]
  },
  {
   "cell_type": "markdown",
   "id": "6f832923-a661-4dce-88e1-b12bef0e44c2",
   "metadata": {},
   "source": [
    "# While loop"
   ]
  },
  {
   "cell_type": "code",
   "execution_count": 10,
   "id": "43bf05ba-b66c-40a4-9ac9-9241701d3cde",
   "metadata": {},
   "outputs": [
    {
     "name": "stdout",
     "output_type": "stream",
     "text": [
      "ram\n",
      "shyam\n",
      "gita\n",
      "sita\n"
     ]
    }
   ],
   "source": [
    "names= [\"ram\", \"shyam\", \"gita\", \"sita\"]\n",
    "i=0                   #initialize\n",
    "while i<len(names):   #condition\n",
    "    print(names[i])  \n",
    "    i+=1              #incrementer/ decrementer"
   ]
  },
  {
   "cell_type": "code",
   "execution_count": null,
   "id": "5d91a119-b532-4157-bcdf-3ca553d6e455",
   "metadata": {},
   "outputs": [],
   "source": []
  },
  {
   "cell_type": "code",
   "execution_count": 8,
   "id": "952ade07-0b7c-4406-937a-7a82017557d5",
   "metadata": {},
   "outputs": [
    {
     "name": "stdout",
     "output_type": "stream",
     "text": [
      "10\n"
     ]
    }
   ],
   "source": [
    "\n",
    "numbers= [1,2,3,4]\n",
    "sum=0\n",
    "i=0\n",
    "while i< len(numbers): #4<4\n",
    "    sum+=numbers[i] #0+1+2+3+4\n",
    "    i+=1 #4\n",
    "print (sum)"
   ]
  },
  {
   "cell_type": "code",
   "execution_count": 8,
   "id": "c2048630-5e5b-435c-9d73-3800b41921b4",
   "metadata": {},
   "outputs": [
    {
     "name": "stdin",
     "output_type": "stream",
     "text": [
      "Enter your age 13\n",
      "Enter your age 33\n"
     ]
    },
    {
     "name": "stdout",
     "output_type": "stream",
     "text": [
      "welcome\n"
     ]
    }
   ],
   "source": [
    "age= int(input(\"Enter your age\"))\n",
    "while age<=18:\n",
    "    age= int(input(\"Enter your age\"))\n",
    "print (\"welcome\")"
   ]
  },
  {
   "cell_type": "code",
   "execution_count": null,
   "id": "c02bdae8-ffa8-44b7-aedb-c88c573feca2",
   "metadata": {},
   "outputs": [],
   "source": []
  }
 ],
 "metadata": {
  "kernelspec": {
   "display_name": "Python 3 (ipykernel)",
   "language": "python",
   "name": "python3"
  },
  "language_info": {
   "codemirror_mode": {
    "name": "ipython",
    "version": 3
   },
   "file_extension": ".py",
   "mimetype": "text/x-python",
   "name": "python",
   "nbconvert_exporter": "python",
   "pygments_lexer": "ipython3",
   "version": "3.12.5"
  }
 },
 "nbformat": 4,
 "nbformat_minor": 5
}
