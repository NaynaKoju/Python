{
 "cells": [
  {
   "cell_type": "code",
   "execution_count": 14,
   "id": "5f5a741a-5475-4320-9189-725d7010c00d",
   "metadata": {},
   "outputs": [],
   "source": [
    "gravity_of_earth = 9.8 #float"
   ]
  },
  {
   "cell_type": "code",
   "execution_count": 15,
   "id": "f70cbdca-5f0c-496d-ae9e-dea93d58d3e8",
   "metadata": {},
   "outputs": [],
   "source": [
    "g = 9.8"
   ]
  },
  {
   "cell_type": "code",
   "execution_count": 16,
   "id": "4464db06-108d-443e-9ec8-91bdc7053ae8",
   "metadata": {},
   "outputs": [],
   "source": [
    "#binary, octal, decimal,hexadecimal"
   ]
  },
  {
   "cell_type": "code",
   "execution_count": 19,
   "id": "7bf8b7d6-75a2-430e-ac75-73a3bfeb3fd5",
   "metadata": {},
   "outputs": [],
   "source": [
    "a= 0b1010  #binary literals => 2 digits 0,1\n",
    "b= 100     #decimal literals => 10 digits 0-9\n",
    "c= 0o310   # octal literals  => 8 digits  0-7\n",
    "d= 0x12cd  # hexadecimal literal => 16 digit 0-9 a-f"
   ]
  },
  {
   "cell_type": "code",
   "execution_count": 18,
   "id": "16c1f09f-cb59-4317-8abb-1b3c01b770cf",
   "metadata": {},
   "outputs": [
    {
     "name": "stdout",
     "output_type": "stream",
     "text": [
      "10 100 200 4813\n"
     ]
    }
   ],
   "source": [
    "print (a, b, c, d)"
   ]
  },
  {
   "cell_type": "code",
   "execution_count": 20,
   "id": "940600ed-7f61-49d5-b8ad-7a82e50c9d9a",
   "metadata": {},
   "outputs": [],
   "source": [
    "a= 1.5"
   ]
  },
  {
   "cell_type": "code",
   "execution_count": 21,
   "id": "8b36d705-1515-4fc7-a756-a5d64465bd71",
   "metadata": {},
   "outputs": [
    {
     "name": "stdout",
     "output_type": "stream",
     "text": [
      "<class 'float'>\n"
     ]
    }
   ],
   "source": [
    "print (type (a))"
   ]
  },
  {
   "cell_type": "code",
   "execution_count": 23,
   "id": "4f694198-8117-4220-9689-9e8d4f80f1ec",
   "metadata": {},
   "outputs": [
    {
     "name": "stdout",
     "output_type": "stream",
     "text": [
      "<class 'int'>\n"
     ]
    }
   ],
   "source": [
    "s= 1\n",
    "print (type(s))"
   ]
  },
  {
   "cell_type": "code",
   "execution_count": 25,
   "id": "03ad9b63-4784-4d0b-b621-d5ee706c77c2",
   "metadata": {},
   "outputs": [],
   "source": [
    "# dynamically typed language => run time mai value(datatype of variable) change hune vayera"
   ]
  },
  {
   "cell_type": "code",
   "execution_count": 26,
   "id": "40525f98-3c80-418b-8044-2549b3cca685",
   "metadata": {},
   "outputs": [
    {
     "name": "stdout",
     "output_type": "stream",
     "text": [
      "2164289522016\n"
     ]
    }
   ],
   "source": [
    "a= \"ram\"\n",
    "print (id (a))"
   ]
  },
  {
   "cell_type": "code",
   "execution_count": 28,
   "id": "b9c40344-d53e-4b5b-8562-9a108d0db46b",
   "metadata": {},
   "outputs": [
    {
     "name": "stdout",
     "output_type": "stream",
     "text": [
      "2164288930768\n"
     ]
    }
   ],
   "source": [
    "a= 2.6\n",
    "print (id (a))"
   ]
  },
  {
   "cell_type": "code",
   "execution_count": 29,
   "id": "b4973da4-620d-4c5d-b5f6-e2a0763c96cd",
   "metadata": {},
   "outputs": [],
   "source": [
    "#garbage collected language => a vanne ram ko value aafai hataucha 2.6 ko value/ jun last ma deko cha tei value ko address matrai point garcha"
   ]
  },
  {
   "cell_type": "code",
   "execution_count": 32,
   "id": "2196ccf5-7a3a-4ff1-be64-02cf3f5edc76",
   "metadata": {},
   "outputs": [
    {
     "name": "stdout",
     "output_type": "stream",
     "text": [
      "<class 'str'>\n"
     ]
    }
   ],
   "source": [
    "r= \"ramesh\"\n",
    "print (type (r))"
   ]
  },
  {
   "cell_type": "code",
   "execution_count": 33,
   "id": "0091a9b3-1054-4b1a-8704-00c267d1b23d",
   "metadata": {},
   "outputs": [
    {
     "name": "stdout",
     "output_type": "stream",
     "text": [
      "<class 'str'>\n"
     ]
    }
   ],
   "source": [
    "r= 'ramesh'\n",
    "print (type (r))"
   ]
  },
  {
   "cell_type": "code",
   "execution_count": 35,
   "id": "6e5cb585-f47f-4751-bc33-a8507a4d6a5e",
   "metadata": {},
   "outputs": [
    {
     "name": "stdout",
     "output_type": "stream",
     "text": [
      "<class 'str'>\n"
     ]
    }
   ],
   "source": [
    "r= \"\"\"ramesh\"\"\"\n",
    "print (type (r))"
   ]
  },
  {
   "cell_type": "code",
   "execution_count": 37,
   "id": "cbf300ce-b1d6-4914-b1c3-ab4c8814ec2e",
   "metadata": {},
   "outputs": [
    {
     "name": "stdout",
     "output_type": "stream",
     "text": [
      "True <class 'bool'>\n"
     ]
    }
   ],
   "source": [
    "#boolean\n",
    "x= True \n",
    "print (x, type(x))"
   ]
  },
  {
   "cell_type": "code",
   "execution_count": 38,
   "id": "f06e23ce-c39c-49d3-918c-ac7a4b7811e0",
   "metadata": {},
   "outputs": [
    {
     "name": "stdout",
     "output_type": "stream",
     "text": [
      "False <class 'bool'>\n"
     ]
    }
   ],
   "source": [
    "x= False \n",
    "print (x, type(x))"
   ]
  },
  {
   "cell_type": "code",
   "execution_count": 39,
   "id": "c33f7535-997e-4ce0-bd53-d0643c4544e6",
   "metadata": {},
   "outputs": [
    {
     "name": "stdout",
     "output_type": "stream",
     "text": [
      "[1, 2, 3, 4] <class 'list'>\n"
     ]
    }
   ],
   "source": [
    "#list datatype are muteble\n",
    "x= [1,2,3,4]\n",
    "print (x, type(x))"
   ]
  },
  {
   "cell_type": "code",
   "execution_count": 40,
   "id": "1bbf2715-cd7c-4e0b-9ba4-470db5789f69",
   "metadata": {},
   "outputs": [
    {
     "name": "stdout",
     "output_type": "stream",
     "text": [
      "(1, 2, 3, 4) <class 'tuple'>\n"
     ]
    }
   ],
   "source": [
    "#tuple datatype are immutable\n",
    "x= (1,2,3,4)\n",
    "print (x, type(x))"
   ]
  },
  {
   "cell_type": "code",
   "execution_count": 41,
   "id": "1108cf3d-0a64-4284-8a77-0654d59b4ff5",
   "metadata": {},
   "outputs": [
    {
     "name": "stdout",
     "output_type": "stream",
     "text": [
      "{1, 2, 3, 4} <class 'set'>\n"
     ]
    }
   ],
   "source": [
    "#set datatype only contains unique values\n",
    "x= {1,2,3,4}\n",
    "print (x, type(x))"
   ]
  },
  {
   "cell_type": "code",
   "execution_count": 45,
   "id": "4ea3eb82-1c6c-4875-bd7f-c01c6df6b605",
   "metadata": {},
   "outputs": [
    {
     "name": "stdout",
     "output_type": "stream",
     "text": [
      "{'name': 'ram', 'age': 22, 'address': 'ktm'} <class 'dict'>\n"
     ]
    }
   ],
   "source": [
    "#dictionary datatype\n",
    "person= {\n",
    "    \"name\":\"ram\", #key value pair with comma seperated\n",
    "    \"age\" : 22,\n",
    "    \"address\" : \"ktm\" #last comma is optional \n",
    "}\n",
    "print (person, type(person))"
   ]
  },
  {
   "cell_type": "code",
   "execution_count": 49,
   "id": "f91b4f9b-4086-4847-9212-5177d02bb478",
   "metadata": {},
   "outputs": [
    {
     "name": "stdout",
     "output_type": "stream",
     "text": [
      "welcome to python course. \n",
      " i am nayna. \n",
      " hello everyone \n"
     ]
    }
   ],
   "source": [
    "#return statement \\n\n",
    "s= \"welcome to python course. \\n i am nayna. \\n hello everyone \" #line break dina lai \\n\n",
    "print (s)"
   ]
  },
  {
   "cell_type": "code",
   "execution_count": 51,
   "id": "406b7ea4-ccc5-4675-b6d6-2245ffdd6f24",
   "metadata": {},
   "outputs": [
    {
     "name": "stdout",
     "output_type": "stream",
     "text": [
      "welcome to python class.\n",
      "python is dynamically typed language. \n",
      "learn it.\n"
     ]
    }
   ],
   "source": [
    "# multiline string => \\n ko satta tinwota quotation rakhna milcha\n",
    "s= \"\"\"welcome to python class.\n",
    "python is dynamically typed language. \n",
    "learn it.\"\"\"\n",
    "print (s)"
   ]
  },
  {
   "cell_type": "code",
   "execution_count": 52,
   "id": "f1e0a3b5-fbda-40c3-8d16-0b56d6b2d48d",
   "metadata": {},
   "outputs": [
    {
     "name": "stdout",
     "output_type": "stream",
     "text": [
      "welcome to python course. \\n i am nayna. \\n hello everyone \n"
     ]
    }
   ],
   "source": [
    "s= \"welcome to python course. \\\\n i am nayna. \\\\n hello everyone \" #\\n pani print garnu paryo vane double slash\n",
    "print (s)"
   ]
  },
  {
   "cell_type": "code",
   "execution_count": 54,
   "id": "9b09b7fb-9663-4ba0-a639-d023ba4c7c90",
   "metadata": {},
   "outputs": [
    {
     "name": "stdout",
     "output_type": "stream",
     "text": [
      "welcome to python course. \\n i am nayna. \\n hello everyone \n"
     ]
    }
   ],
   "source": [
    "#raw string => j cha tei print garne\n",
    "s= r\"welcome to python course. \\n i am nayna. \\n hello everyone \"\n",
    "print (s)"
   ]
  },
  {
   "cell_type": "code",
   "execution_count": 58,
   "id": "2a2757c9-1a27-48eb-b6d8-720a35a85410",
   "metadata": {},
   "outputs": [
    {
     "name": "stdin",
     "output_type": "stream",
     "text": [
      "Enter the value of x: 2\n",
      "Enter the value of y: 3\n"
     ]
    },
    {
     "name": "stdout",
     "output_type": "stream",
     "text": [
      "5\n"
     ]
    }
   ],
   "source": [
    "#user sanga input magna lai\n",
    "x= input(\"Enter the value of x:\")\n",
    "y= input(\"Enter the value of y:\")\n",
    "\n",
    "sum = int(x)+ int(y)\n",
    "print (sum)"
   ]
  },
  {
   "cell_type": "code",
   "execution_count": 65,
   "id": "d518ba0e-af7c-4c30-82b5-97891d44448c",
   "metadata": {},
   "outputs": [
    {
     "name": "stdout",
     "output_type": "stream",
     "text": [
      "So your name isnayna koju\n"
     ]
    }
   ],
   "source": [
    "first_name=\"nayna\"\n",
    "last_name= \"koju\"\n",
    "full_name= first_name + \" \" + last_name #concatenation\n",
    "print (\"So your name is\" + full_name)"
   ]
  },
  {
   "cell_type": "code",
   "execution_count": 64,
   "id": "c2794c61-2b49-4d56-8e2b-0d54a46929ff",
   "metadata": {},
   "outputs": [
    {
     "name": "stdin",
     "output_type": "stream",
     "text": [
      "enter your first name nayna\n",
      "enter last name koju\n"
     ]
    },
    {
     "name": "stdout",
     "output_type": "stream",
     "text": [
      "nayna koju\n"
     ]
    }
   ],
   "source": [
    "first_name=input (\"enter your first name\")\n",
    "last_name= input(\"enter last name\")\n",
    "full_name= first_name + \" \" + last_name #concatenation\n",
    "print (full_name)"
   ]
  },
  {
   "cell_type": "code",
   "execution_count": 4,
   "id": "5015ec1b-d940-4d2c-a88e-c4f281353533",
   "metadata": {},
   "outputs": [],
   "source": [
    "def func_name():\n",
    "    first_name=input (\"enter your first name\")\n",
    "    last_name= input(\"enter last name\")\n",
    "    full_name= first_name + \" \" + last_name #concatenation\n",
    "    return (full_name)"
   ]
  },
  {
   "cell_type": "code",
   "execution_count": 5,
   "id": "0de52f6e-c8ce-4368-95a0-18792266333d",
   "metadata": {},
   "outputs": [
    {
     "name": "stdin",
     "output_type": "stream",
     "text": [
      "enter your first name nayna\n",
      "enter last name koju\n"
     ]
    }
   ],
   "source": [
    "full_name = func_name()"
   ]
  },
  {
   "cell_type": "code",
   "execution_count": 6,
   "id": "cc1c6a11-0f1f-4025-901b-d0ee5b2da856",
   "metadata": {},
   "outputs": [
    {
     "name": "stdout",
     "output_type": "stream",
     "text": [
      "nayna koju\n"
     ]
    }
   ],
   "source": [
    "print (full_name)"
   ]
  },
  {
   "cell_type": "code",
   "execution_count": 9,
   "id": "1ac799a3-cfde-4672-a8e2-f415b0fa0014",
   "metadata": {},
   "outputs": [],
   "source": [
    "#function \n",
    "def sum():\n",
    "    x= input(\"enter first num\" )\n",
    "    y= input(\"enter second num\" )\n",
    "    sum = int(x)+int(y) \n",
    "    return (sum)"
   ]
  },
  {
   "cell_type": "code",
   "execution_count": 10,
   "id": "d3db258a-9792-4629-bd1b-baf04ec520c1",
   "metadata": {},
   "outputs": [
    {
     "name": "stdin",
     "output_type": "stream",
     "text": [
      "enter first num 2\n",
      "enter second num 3\n"
     ]
    },
    {
     "data": {
      "text/plain": [
       "5"
      ]
     },
     "execution_count": 10,
     "metadata": {},
     "output_type": "execute_result"
    }
   ],
   "source": [
    "sum()"
   ]
  },
  {
   "cell_type": "code",
   "execution_count": 11,
   "id": "7d96c05c-6b1d-44d5-a6c7-fc5ce16a533a",
   "metadata": {},
   "outputs": [],
   "source": [
    "#type casting => specify a type on to a variable\n",
    "def sum():\n",
    "    x= int(input(\"enter first num\" ))\n",
    "    y= int (input(\"enter second num\" ))\n",
    "    return x+y\n"
   ]
  },
  {
   "cell_type": "code",
   "execution_count": 12,
   "id": "cf096e1b-211e-4399-8780-e78e260694f8",
   "metadata": {},
   "outputs": [
    {
     "name": "stdin",
     "output_type": "stream",
     "text": [
      "enter first num 4\n",
      "enter second num 5\n"
     ]
    },
    {
     "data": {
      "text/plain": [
       "9"
      ]
     },
     "execution_count": 12,
     "metadata": {},
     "output_type": "execute_result"
    }
   ],
   "source": [
    "sum()"
   ]
  },
  {
   "cell_type": "code",
   "execution_count": 13,
   "id": "3eac42f0-79ff-4947-9a45-24e3a473f5ca",
   "metadata": {},
   "outputs": [],
   "source": [
    "#parameters\n",
    "def sum(x=10, y=5):\n",
    "    return x+y\n"
   ]
  },
  {
   "cell_type": "code",
   "execution_count": 14,
   "id": "8f30ebfd-5a34-4859-9899-5ba799c9882e",
   "metadata": {},
   "outputs": [
    {
     "data": {
      "text/plain": [
       "15"
      ]
     },
     "execution_count": 14,
     "metadata": {},
     "output_type": "execute_result"
    }
   ],
   "source": [
    "sum()"
   ]
  },
  {
   "cell_type": "code",
   "execution_count": 15,
   "id": "9887a57b-1af7-4f97-9daf-0f946dbd582c",
   "metadata": {},
   "outputs": [
    {
     "data": {
      "text/plain": [
       "6"
      ]
     },
     "execution_count": 15,
     "metadata": {},
     "output_type": "execute_result"
    }
   ],
   "source": [
    "sum(x=2, y=4)"
   ]
  },
  {
   "cell_type": "code",
   "execution_count": 16,
   "id": "45c1c44a-4fcd-4a5c-bb45-e3d9bbccc5e5",
   "metadata": {},
   "outputs": [],
   "source": [
    "x =(2, 3, 4)"
   ]
  },
  {
   "cell_type": "code",
   "execution_count": 17,
   "id": "0e6540b7-e403-4d55-a6dc-0e304aa98126",
   "metadata": {},
   "outputs": [],
   "source": [
    "y = [1, 2, 3, 4]"
   ]
  },
  {
   "cell_type": "code",
   "execution_count": 18,
   "id": "e7b34880-be61-4302-adc2-e2e1447c8bfd",
   "metadata": {},
   "outputs": [],
   "source": [
    "y.append(5)"
   ]
  },
  {
   "cell_type": "code",
   "execution_count": 19,
   "id": "41388640-9fb7-42eb-9960-59581c3f1fb6",
   "metadata": {},
   "outputs": [
    {
     "data": {
      "text/plain": [
       "[1, 2, 3, 4, 5]"
      ]
     },
     "execution_count": 19,
     "metadata": {},
     "output_type": "execute_result"
    }
   ],
   "source": [
    "y"
   ]
  },
  {
   "cell_type": "code",
   "execution_count": 21,
   "id": "de2f77e9-bd26-4777-890f-8cd556a5a520",
   "metadata": {},
   "outputs": [],
   "source": [
    "y[0]=7"
   ]
  },
  {
   "cell_type": "code",
   "execution_count": 22,
   "id": "5298575f-baa6-47c0-bddf-be19a49f5463",
   "metadata": {},
   "outputs": [
    {
     "data": {
      "text/plain": [
       "[7, 2, 3, 4, 5]"
      ]
     },
     "execution_count": 22,
     "metadata": {},
     "output_type": "execute_result"
    }
   ],
   "source": [
    "y"
   ]
  },
  {
   "cell_type": "code",
   "execution_count": 24,
   "id": "ac86a90b-2f2e-4943-8eeb-04d8ae5fd32c",
   "metadata": {},
   "outputs": [
    {
     "ename": "TypeError",
     "evalue": "'tuple' object does not support item assignment",
     "output_type": "error",
     "traceback": [
      "\u001b[1;31m---------------------------------------------------------------------------\u001b[0m",
      "\u001b[1;31mTypeError\u001b[0m                                 Traceback (most recent call last)",
      "Cell \u001b[1;32mIn[24], line 1\u001b[0m\n\u001b[1;32m----> 1\u001b[0m \u001b[43mx\u001b[49m\u001b[43m[\u001b[49m\u001b[38;5;241;43m0\u001b[39;49m\u001b[43m]\u001b[49m\u001b[38;5;241m=\u001b[39m\u001b[38;5;241m5\u001b[39m\n",
      "\u001b[1;31mTypeError\u001b[0m: 'tuple' object does not support item assignment"
     ]
    }
   ],
   "source": [
    "x[0]=5 #immutable"
   ]
  },
  {
   "cell_type": "code",
   "execution_count": 25,
   "id": "21a0824d-1a7a-4685-9cd3-7dc71d6a07f0",
   "metadata": {},
   "outputs": [],
   "source": [
    "a = {1, 2, 3, 3}"
   ]
  },
  {
   "cell_type": "code",
   "execution_count": 26,
   "id": "f5cd1149-b847-4ba0-b163-e8099a4895e0",
   "metadata": {},
   "outputs": [
    {
     "data": {
      "text/plain": [
       "{1, 2, 3}"
      ]
     },
     "execution_count": 26,
     "metadata": {},
     "output_type": "execute_result"
    }
   ],
   "source": [
    "a #set ma repetitive element cha vane euta matra lincha"
   ]
  },
  {
   "cell_type": "code",
   "execution_count": 27,
   "id": "939a9976-b5bb-4397-bf5d-0ec753822baf",
   "metadata": {},
   "outputs": [],
   "source": [
    "#dictionary\n",
    "a = {'a': 2, 'b': 3, 'c': 4}"
   ]
  },
  {
   "cell_type": "code",
   "execution_count": 28,
   "id": "56079701-6d90-4bd7-92ec-3aa915cf7519",
   "metadata": {},
   "outputs": [
    {
     "data": {
      "text/plain": [
       "dict"
      ]
     },
     "execution_count": 28,
     "metadata": {},
     "output_type": "execute_result"
    }
   ],
   "source": [
    "type(a)"
   ]
  },
  {
   "cell_type": "code",
   "execution_count": 31,
   "id": "62f692ec-e5dd-439e-8bbc-ee52dc804b3e",
   "metadata": {},
   "outputs": [
    {
     "data": {
      "text/plain": [
       "dict_keys(['a', 'b', 'c'])"
      ]
     },
     "execution_count": 31,
     "metadata": {},
     "output_type": "execute_result"
    }
   ],
   "source": [
    "a.keys()"
   ]
  },
  {
   "cell_type": "code",
   "execution_count": 32,
   "id": "0d80e625-09e3-4193-8a84-aeed24c76305",
   "metadata": {},
   "outputs": [
    {
     "data": {
      "text/plain": [
       "dict_values([2, 3, 4])"
      ]
     },
     "execution_count": 32,
     "metadata": {},
     "output_type": "execute_result"
    }
   ],
   "source": [
    "a.values()"
   ]
  },
  {
   "cell_type": "code",
   "execution_count": 33,
   "id": "9749dd65-3745-43c6-9c36-11fcadcc31c5",
   "metadata": {},
   "outputs": [
    {
     "data": {
      "text/plain": [
       "dict_items([('a', 2), ('b', 3), ('c', 4)])"
      ]
     },
     "execution_count": 33,
     "metadata": {},
     "output_type": "execute_result"
    }
   ],
   "source": [
    "a.items()"
   ]
  },
  {
   "cell_type": "code",
   "execution_count": 34,
   "id": "ca8c236b-b025-4f9d-8cd1-b4c3cab6f966",
   "metadata": {},
   "outputs": [
    {
     "data": {
      "text/plain": [
       "3"
      ]
     },
     "execution_count": 34,
     "metadata": {},
     "output_type": "execute_result"
    }
   ],
   "source": [
    "a['b']"
   ]
  },
  {
   "cell_type": "code",
   "execution_count": 213,
   "id": "bd1f7106-d2bd-44be-9066-1b58438da109",
   "metadata": {},
   "outputs": [],
   "source": [
    "a = [1, 2, 3, 7, 5, 8]"
   ]
  },
  {
   "cell_type": "code",
   "execution_count": 214,
   "id": "1f46c574-2e03-4ffa-87a3-77659a97b8ff",
   "metadata": {},
   "outputs": [
    {
     "data": {
      "text/plain": [
       "3"
      ]
     },
     "execution_count": 214,
     "metadata": {},
     "output_type": "execute_result"
    }
   ],
   "source": [
    "#indexing\n",
    "a[2]"
   ]
  },
  {
   "cell_type": "code",
   "execution_count": 215,
   "id": "cee433b2-b5d4-471f-82c3-2f81ab2eaa94",
   "metadata": {},
   "outputs": [
    {
     "data": {
      "text/plain": [
       "2"
      ]
     },
     "execution_count": 215,
     "metadata": {},
     "output_type": "execute_result"
    }
   ],
   "source": [
    "a[1]"
   ]
  },
  {
   "cell_type": "code",
   "execution_count": 216,
   "id": "0d4b7cdf-cee3-4db5-8f99-f3c42ca3350b",
   "metadata": {},
   "outputs": [
    {
     "data": {
      "text/plain": [
       "[1, 2]"
      ]
     },
     "execution_count": 216,
     "metadata": {},
     "output_type": "execute_result"
    }
   ],
   "source": [
    "#slicing\n",
    "a[0:2]"
   ]
  },
  {
   "cell_type": "code",
   "execution_count": 217,
   "id": "a21fd3ea-f58b-4935-b8ff-67855fa50609",
   "metadata": {},
   "outputs": [
    {
     "data": {
      "text/plain": [
       "[1, 2, 3]"
      ]
     },
     "execution_count": 217,
     "metadata": {},
     "output_type": "execute_result"
    }
   ],
   "source": [
    "a[0:3]"
   ]
  },
  {
   "cell_type": "code",
   "execution_count": 221,
   "id": "987d7cab-b6c7-4485-8e56-1261b3c74c0f",
   "metadata": {},
   "outputs": [
    {
     "data": {
      "text/plain": [
       "[2, 3, 7, 5, 8]"
      ]
     },
     "execution_count": 221,
     "metadata": {},
     "output_type": "execute_result"
    }
   ],
   "source": [
    "a[1:7]"
   ]
  },
  {
   "cell_type": "code",
   "execution_count": 227,
   "id": "6efb6bb1-455b-4cb0-be5f-b08621f1ca84",
   "metadata": {},
   "outputs": [],
   "source": [
    "a = [1, 2, 3, 4, 5, 6, 7, 8]"
   ]
  },
  {
   "cell_type": "code",
   "execution_count": 228,
   "id": "4553274b-dc36-45de-ae4d-94b809ba4e71",
   "metadata": {},
   "outputs": [
    {
     "data": {
      "text/plain": [
       "[1, 3, 5, 7]"
      ]
     },
     "execution_count": 228,
     "metadata": {},
     "output_type": "execute_result"
    }
   ],
   "source": [
    "a[0:7:2] #[starting index: end index: skip]"
   ]
  },
  {
   "cell_type": "code",
   "execution_count": 229,
   "id": "c1a18fd9-491b-48d3-8105-20396e8c39a4",
   "metadata": {},
   "outputs": [
    {
     "data": {
      "text/plain": [
       "[1, 4, 7]"
      ]
     },
     "execution_count": 229,
     "metadata": {},
     "output_type": "execute_result"
    }
   ],
   "source": [
    "a[0:7:3]"
   ]
  },
  {
   "cell_type": "code",
   "execution_count": 233,
   "id": "f90cf7cc-6663-4805-9bec-8a0825d1d7e1",
   "metadata": {},
   "outputs": [
    {
     "data": {
      "text/plain": [
       "[8, 6, 4, 2]"
      ]
     },
     "execution_count": 233,
     "metadata": {},
     "output_type": "execute_result"
    }
   ],
   "source": [
    "#- rakhda negative indexing\n",
    "a[::-2]"
   ]
  },
  {
   "cell_type": "code",
   "execution_count": 235,
   "id": "d42852cf-e1cc-4d69-ad3f-3c99ef863459",
   "metadata": {},
   "outputs": [],
   "source": [
    "# string\n",
    "name= \"nayna koju\""
   ]
  },
  {
   "cell_type": "code",
   "execution_count": 236,
   "id": "2c0d49c6-77fd-4798-b4bb-0f2cfa1c4088",
   "metadata": {},
   "outputs": [
    {
     "data": {
      "text/plain": [
       "'k'"
      ]
     },
     "execution_count": 236,
     "metadata": {},
     "output_type": "execute_result"
    }
   ],
   "source": [
    "name[6]"
   ]
  },
  {
   "cell_type": "code",
   "execution_count": 237,
   "id": "f809e499-62a2-4b72-aba0-e72944ef5c4b",
   "metadata": {},
   "outputs": [
    {
     "data": {
      "text/plain": [
       "'ayna'"
      ]
     },
     "execution_count": 237,
     "metadata": {},
     "output_type": "execute_result"
    }
   ],
   "source": [
    "#slicing in string\n",
    "name[1:5]"
   ]
  },
  {
   "cell_type": "code",
   "execution_count": 238,
   "id": "e99591b3-ea40-45c8-8137-88c64c2cf9ba",
   "metadata": {},
   "outputs": [
    {
     "data": {
      "text/plain": [
       "'ujok anyan'"
      ]
     },
     "execution_count": 238,
     "metadata": {},
     "output_type": "execute_result"
    }
   ],
   "source": [
    "#naam ulto\n",
    "name[::-1]"
   ]
  },
  {
   "cell_type": "code",
   "execution_count": 239,
   "id": "86f06163-7644-4343-b47d-73fe66c444f5",
   "metadata": {},
   "outputs": [],
   "source": [
    "#functions of string upper/lower/title\n",
    "name= \"nayna koju\""
   ]
  },
  {
   "cell_type": "code",
   "execution_count": 241,
   "id": "b1fa1259-bd2c-4cc4-aa20-95e7131eaae3",
   "metadata": {},
   "outputs": [
    {
     "data": {
      "text/plain": [
       "'NAYNA KOJU'"
      ]
     },
     "execution_count": 241,
     "metadata": {},
     "output_type": "execute_result"
    }
   ],
   "source": [
    "name.upper()"
   ]
  },
  {
   "cell_type": "code",
   "execution_count": 242,
   "id": "8f0e2b39-f734-4a4c-af04-f16a55d56e3c",
   "metadata": {},
   "outputs": [
    {
     "data": {
      "text/plain": [
       "'Nayna Koju'"
      ]
     },
     "execution_count": 242,
     "metadata": {},
     "output_type": "execute_result"
    }
   ],
   "source": [
    "name.title()"
   ]
  },
  {
   "cell_type": "code",
   "execution_count": 245,
   "id": "ad62e2a8-e0ec-4a3b-97dd-ccbc7f1d6847",
   "metadata": {},
   "outputs": [
    {
     "data": {
      "text/plain": [
       "10"
      ]
     },
     "execution_count": 245,
     "metadata": {},
     "output_type": "execute_result"
    }
   ],
   "source": [
    "len(name)"
   ]
  },
  {
   "cell_type": "code",
   "execution_count": 252,
   "id": "bbd9580f-e422-4a1a-9b06-6f73dbb14b1a",
   "metadata": {},
   "outputs": [],
   "source": [
    "#space haru hatauna lai\n",
    "name=\"    nayna       kojuuuu     \""
   ]
  },
  {
   "cell_type": "code",
   "execution_count": 253,
   "id": "945ae208-45a8-4545-9e1c-dc3daed8ec77",
   "metadata": {},
   "outputs": [
    {
     "data": {
      "text/plain": [
       "'nayna       kojuuuu'"
      ]
     },
     "execution_count": 253,
     "metadata": {},
     "output_type": "execute_result"
    }
   ],
   "source": [
    "name.strip()"
   ]
  },
  {
   "cell_type": "code",
   "execution_count": 254,
   "id": "6eb6a867-f60d-48bb-8e28-4efa6b485f3a",
   "metadata": {},
   "outputs": [
    {
     "data": {
      "text/plain": [
       "['nayna', 'kojuuuu']"
      ]
     },
     "execution_count": 254,
     "metadata": {},
     "output_type": "execute_result"
    }
   ],
   "source": [
    "name.split()"
   ]
  },
  {
   "cell_type": "code",
   "execution_count": 255,
   "id": "385f128b-3190-48ef-a067-81e821f51c9a",
   "metadata": {},
   "outputs": [
    {
     "data": {
      "text/plain": [
       "['    n', 'yn', '       kojuuuu     ']"
      ]
     },
     "execution_count": 255,
     "metadata": {},
     "output_type": "execute_result"
    }
   ],
   "source": [
    "name.split(\"a\")"
   ]
  },
  {
   "cell_type": "code",
   "execution_count": 256,
   "id": "7fa352f1-3fb7-4378-9368-0e5c038afca1",
   "metadata": {},
   "outputs": [],
   "source": [
    "a=[\"nayna\", \"koju\",\"esha\",\"praz\"]"
   ]
  },
  {
   "cell_type": "code",
   "execution_count": 257,
   "id": "73c20dc9-acca-4faf-9e68-431acaf17d2f",
   "metadata": {},
   "outputs": [
    {
     "data": {
      "text/plain": [
       "'nayna koju esha praz'"
      ]
     },
     "execution_count": 257,
     "metadata": {},
     "output_type": "execute_result"
    }
   ],
   "source": [
    "\" \".join(a)"
   ]
  },
  {
   "cell_type": "code",
   "execution_count": 258,
   "id": "b1dc1c03-92b6-46ff-a140-2b90aced62a9",
   "metadata": {},
   "outputs": [
    {
     "data": {
      "text/plain": [
       "'nayna-koju-esha-praz'"
      ]
     },
     "execution_count": 258,
     "metadata": {},
     "output_type": "execute_result"
    }
   ],
   "source": [
    "\"-\".join(a)"
   ]
  },
  {
   "cell_type": "code",
   "execution_count": 259,
   "id": "386aa7ca-c472-4eb0-bb0e-239b87bd515b",
   "metadata": {},
   "outputs": [],
   "source": [
    "a= \"123\""
   ]
  },
  {
   "cell_type": "code",
   "execution_count": 260,
   "id": "7436d708-a1b1-49f9-aecb-67a9c40aa754",
   "metadata": {},
   "outputs": [
    {
     "data": {
      "text/plain": [
       "True"
      ]
     },
     "execution_count": 260,
     "metadata": {},
     "output_type": "execute_result"
    }
   ],
   "source": [
    "a.isdigit()"
   ]
  },
  {
   "cell_type": "code",
   "execution_count": 261,
   "id": "285c46d2-4926-4324-935f-9799f3f29d32",
   "metadata": {},
   "outputs": [],
   "source": [
    "a=\"111nay\""
   ]
  },
  {
   "cell_type": "code",
   "execution_count": 263,
   "id": "7204eaf7-6fed-42db-9f66-402b70288c78",
   "metadata": {},
   "outputs": [
    {
     "data": {
      "text/plain": [
       "True"
      ]
     },
     "execution_count": 263,
     "metadata": {},
     "output_type": "execute_result"
    }
   ],
   "source": [
    "a.isalnum()"
   ]
  },
  {
   "cell_type": "code",
   "execution_count": 275,
   "id": "abb898d5-194b-4d27-b3f7-8de57183d86d",
   "metadata": {},
   "outputs": [
    {
     "name": "stdin",
     "output_type": "stream",
     "text": [
      "enter your email nayna@gmail.com\n"
     ]
    }
   ],
   "source": [
    "email=input(\"enter your email\")\n",
    "splitted= email.split(\"@\")"
   ]
  },
  {
   "cell_type": "code",
   "execution_count": 276,
   "id": "d17424a8-05c0-4cc2-a6ad-309c515a1fbb",
   "metadata": {},
   "outputs": [
    {
     "data": {
      "text/plain": [
       "['nayna', 'gmail.com']"
      ]
     },
     "execution_count": 276,
     "metadata": {},
     "output_type": "execute_result"
    }
   ],
   "source": [
    "splitted"
   ]
  },
  {
   "cell_type": "code",
   "execution_count": 277,
   "id": "e3100430-e2c1-407d-8093-1e77ac5cabde",
   "metadata": {},
   "outputs": [
    {
     "data": {
      "text/plain": [
       "'nayna'"
      ]
     },
     "execution_count": 277,
     "metadata": {},
     "output_type": "execute_result"
    }
   ],
   "source": [
    "splitted[0]"
   ]
  },
  {
   "cell_type": "code",
   "execution_count": 281,
   "id": "30970136-b95c-441f-ac92-c412a61cc003",
   "metadata": {},
   "outputs": [
    {
     "name": "stdout",
     "output_type": "stream",
     "text": [
      "hi nayna\n"
     ]
    }
   ],
   "source": [
    "print(\"hi\", splitted[0])"
   ]
  },
  {
   "cell_type": "code",
   "execution_count": 62,
   "id": "92bd5780-0bdb-4a59-a9d8-b3ef6c1d1ab9",
   "metadata": {},
   "outputs": [
    {
     "name": "stdout",
     "output_type": "stream",
     "text": [
      "1\n",
      "2\n",
      "3\n",
      "4\n",
      "5\n",
      "6\n",
      "7\n",
      "8\n",
      "9\n"
     ]
    }
   ],
   "source": [
    "#for loop \n",
    "for index in range(1, 10):\n",
    "    print(index)"
   ]
  },
  {
   "cell_type": "code",
   "execution_count": 63,
   "id": "74e227f1-46d5-42db-a92f-a39390dbe9a8",
   "metadata": {},
   "outputs": [],
   "source": [
    "#nested list\n",
    "a = [1, 2, [1, 3, 4]]"
   ]
  },
  {
   "cell_type": "code",
   "execution_count": 64,
   "id": "e2a31856-02a4-4edc-a379-647772c3a37a",
   "metadata": {},
   "outputs": [
    {
     "data": {
      "text/plain": [
       "[1, 3, 4]"
      ]
     },
     "execution_count": 64,
     "metadata": {},
     "output_type": "execute_result"
    }
   ],
   "source": [
    "a[2]"
   ]
  },
  {
   "cell_type": "code",
   "execution_count": 65,
   "id": "8f7fc2f0-15e7-4902-a757-2ee3d562e77e",
   "metadata": {},
   "outputs": [
    {
     "data": {
      "text/plain": [
       "3"
      ]
     },
     "execution_count": 65,
     "metadata": {},
     "output_type": "execute_result"
    }
   ],
   "source": [
    "a[2][1]"
   ]
  },
  {
   "cell_type": "code",
   "execution_count": 66,
   "id": "d4f85d75-8a8c-4ff1-b78c-c13807b430ba",
   "metadata": {},
   "outputs": [],
   "source": [
    "a= [[1,2,3], [3, 4, 5], [6,7,8]]"
   ]
  },
  {
   "cell_type": "code",
   "execution_count": 67,
   "id": "92c23faf-126c-4283-a375-d285f84a0ffc",
   "metadata": {},
   "outputs": [
    {
     "data": {
      "text/plain": [
       "[3, 4, 5]"
      ]
     },
     "execution_count": 67,
     "metadata": {},
     "output_type": "execute_result"
    }
   ],
   "source": [
    "a[1]"
   ]
  },
  {
   "cell_type": "code",
   "execution_count": 68,
   "id": "04b81950-fa18-4a30-b2b0-5d4e57a08197",
   "metadata": {},
   "outputs": [
    {
     "data": {
      "text/plain": [
       "7"
      ]
     },
     "execution_count": 68,
     "metadata": {},
     "output_type": "execute_result"
    }
   ],
   "source": [
    "a[2][1]"
   ]
  },
  {
   "cell_type": "code",
   "execution_count": 69,
   "id": "707d8f8a-35f8-4ae7-bee2-c3347d0abd32",
   "metadata": {},
   "outputs": [
    {
     "data": {
      "text/plain": [
       "[3, 4]"
      ]
     },
     "execution_count": 69,
     "metadata": {},
     "output_type": "execute_result"
    }
   ],
   "source": [
    "a[1][0:2]"
   ]
  },
  {
   "cell_type": "code",
   "execution_count": 70,
   "id": "13d1db4c-a2de-458a-8721-8b659cd057d2",
   "metadata": {},
   "outputs": [],
   "source": [
    "# list of dict\n",
    "a = [1, 'b', True, \"nayna\", 1.0]"
   ]
  },
  {
   "cell_type": "code",
   "execution_count": 71,
   "id": "2386982f-51f2-458f-a906-2caa32569308",
   "metadata": {},
   "outputs": [
    {
     "data": {
      "text/plain": [
       "[1, 'b', True, 'nayna', 1.0]"
      ]
     },
     "execution_count": 71,
     "metadata": {},
     "output_type": "execute_result"
    }
   ],
   "source": [
    "a"
   ]
  },
  {
   "cell_type": "code",
   "execution_count": 72,
   "id": "65acfb9c-4daf-4fc3-b65f-ea7989d63a21",
   "metadata": {},
   "outputs": [],
   "source": [
    "a = [{'a':1, 'b':2}, {'c':3, 'd':4}]"
   ]
  },
  {
   "cell_type": "code",
   "execution_count": 73,
   "id": "e4763388-2661-411f-8fff-e29e4776be2b",
   "metadata": {},
   "outputs": [
    {
     "data": {
      "text/plain": [
       "3"
      ]
     },
     "execution_count": 73,
     "metadata": {},
     "output_type": "execute_result"
    }
   ],
   "source": [
    "a[1]['c']"
   ]
  },
  {
   "cell_type": "code",
   "execution_count": 74,
   "id": "add502b0-17a7-40e8-971a-f7f5af362e8a",
   "metadata": {},
   "outputs": [
    {
     "data": {
      "text/plain": [
       "4"
      ]
     },
     "execution_count": 74,
     "metadata": {},
     "output_type": "execute_result"
    }
   ],
   "source": [
    "a[1]['d']"
   ]
  },
  {
   "cell_type": "code",
   "execution_count": 75,
   "id": "14cda262-17ed-4922-b110-a4316fe7ffed",
   "metadata": {},
   "outputs": [
    {
     "data": {
      "text/plain": [
       "2"
      ]
     },
     "execution_count": 75,
     "metadata": {},
     "output_type": "execute_result"
    }
   ],
   "source": [
    "a[0]['b']"
   ]
  },
  {
   "cell_type": "code",
   "execution_count": 76,
   "id": "a833164a-3dc2-4edf-9b33-a3a635b1d791",
   "metadata": {},
   "outputs": [],
   "source": [
    "a = [1, 2, 3, 4, 5, 6, 7]"
   ]
  },
  {
   "cell_type": "code",
   "execution_count": 77,
   "id": "95bb41cb-2ad8-4e34-8d53-5c9729acd9cc",
   "metadata": {},
   "outputs": [],
   "source": [
    "# if (condition):\n",
    "#     if true\n",
    "# else:\n",
    "#     if false"
   ]
  },
  {
   "cell_type": "code",
   "execution_count": 78,
   "id": "aa4c9ea6-3adf-4bb0-87b4-87c3f95ef111",
   "metadata": {},
   "outputs": [
    {
     "name": "stdout",
     "output_type": "stream",
     "text": [
      "1\n",
      "2\n",
      "3\n",
      "4\n",
      "5\n",
      "6\n",
      "7\n"
     ]
    }
   ],
   "source": [
    "for element in a:\n",
    "    print(element)"
   ]
  },
  {
   "cell_type": "code",
   "execution_count": 79,
   "id": "e0f54e3d-279e-4d3f-8d27-67efd246bf06",
   "metadata": {},
   "outputs": [],
   "source": [
    "a = [[1,2,3], [3, 4, 5], [6,7,8]]"
   ]
  },
  {
   "cell_type": "code",
   "execution_count": 80,
   "id": "29241a0d-71bf-47e9-8f60-cd58caa8d7f7",
   "metadata": {},
   "outputs": [
    {
     "name": "stdout",
     "output_type": "stream",
     "text": [
      "[1, 2, 3]\n",
      "[3, 4, 5]\n",
      "[6, 7, 8]\n"
     ]
    }
   ],
   "source": [
    "for element in a:\n",
    "    print (element)"
   ]
  },
  {
   "cell_type": "code",
   "execution_count": 81,
   "id": "50589c38-de41-40f1-9131-a57421ef8c75",
   "metadata": {},
   "outputs": [],
   "source": [
    "a = range(1, 10)"
   ]
  },
  {
   "cell_type": "code",
   "execution_count": null,
   "id": "b974c721-abc7-4c0d-bcf6-65052165a709",
   "metadata": {},
   "outputs": [],
   "source": []
  },
  {
   "cell_type": "code",
   "execution_count": 82,
   "id": "c701a450-bf08-4eae-b26e-c7e48e9a44a1",
   "metadata": {},
   "outputs": [
    {
     "name": "stdout",
     "output_type": "stream",
     "text": [
      "1\n",
      "3\n",
      "5\n",
      "7\n",
      "9\n"
     ]
    }
   ],
   "source": [
    "for element in range(0,10):\n",
    "    if element%2!=0:\n",
    "        print (element)\n",
    "    "
   ]
  },
  {
   "cell_type": "code",
   "execution_count": 83,
   "id": "4718b1f4-9207-4c09-b48e-cf21febd1042",
   "metadata": {},
   "outputs": [
    {
     "data": {
      "text/plain": [
       "0"
      ]
     },
     "execution_count": 83,
     "metadata": {},
     "output_type": "execute_result"
    }
   ],
   "source": [
    "4%2"
   ]
  },
  {
   "cell_type": "code",
   "execution_count": 84,
   "id": "a2a38857-a93a-4e6c-bb86-7571f0a3f9a1",
   "metadata": {},
   "outputs": [
    {
     "name": "stdout",
     "output_type": "stream",
     "text": [
      "0\n",
      "2\n",
      "4\n",
      "6\n",
      "8\n"
     ]
    }
   ],
   "source": [
    "for element in range(0,10):\n",
    "    if element%2==0:\n",
    "        print (element)\n",
    "    "
   ]
  },
  {
   "cell_type": "code",
   "execution_count": 85,
   "id": "57f3f419-a8d5-46c2-8049-12fcfa5e328d",
   "metadata": {},
   "outputs": [],
   "source": [
    "#NESTED DICT\n",
    "b = {\"a\": {'b': 1, 'c':2}}"
   ]
  },
  {
   "cell_type": "code",
   "execution_count": 86,
   "id": "68498977-6738-46e5-b3aa-485121fb903a",
   "metadata": {},
   "outputs": [
    {
     "data": {
      "text/plain": [
       "{'b': 1, 'c': 2}"
      ]
     },
     "execution_count": 86,
     "metadata": {},
     "output_type": "execute_result"
    }
   ],
   "source": [
    "b[\"a\"]"
   ]
  },
  {
   "cell_type": "code",
   "execution_count": 87,
   "id": "a85a1dac-50ed-4aa5-ae2e-8b2172c4bcdc",
   "metadata": {},
   "outputs": [
    {
     "data": {
      "text/plain": [
       "2"
      ]
     },
     "execution_count": 87,
     "metadata": {},
     "output_type": "execute_result"
    }
   ],
   "source": [
    "b[\"a\"][\"c\"]"
   ]
  },
  {
   "cell_type": "code",
   "execution_count": 88,
   "id": "3a2ce12e-5d51-47a7-a407-ed88db916331",
   "metadata": {},
   "outputs": [],
   "source": [
    "a = [{\"widget\": {\n",
    "    \"debug\": \"on\",\n",
    "    \"window\": {\n",
    "        \"title\": \"Sample Konfabulator Widget\",\n",
    "        \"name\": \"main_window\",\n",
    "        \"width\": 500,\n",
    "        \"height\": 500\n",
    "    },\n",
    "    \"image\": { \n",
    "        \"src\": \"Images/Sun.png\",\n",
    "        \"name\": \"sun1\",\n",
    "        \"hOffset\": 250,\n",
    "        \"vOffset\": 250,\n",
    "        \"alignment\": \"center\"\n",
    "    },\n",
    "    \"text\": {\n",
    "        \"data\": \"Click Here\",\n",
    "        \"size\": 36,\n",
    "        \"style\": \"bold\",\n",
    "        \"name\": \"text1\",\n",
    "        \"hOffset\": 250,\n",
    "        \"vOffset\": 100,\n",
    "        \"alignment\": \"center\",\n",
    "        \"onMouseUp\": \"sun1.opacity = (sun1.opacity / 100) * 90;\"\n",
    "    }\n",
    "}}  ]"
   ]
  },
  {
   "cell_type": "code",
   "execution_count": 89,
   "id": "0665a89a-af49-46a2-a91f-29228469dcc7",
   "metadata": {},
   "outputs": [
    {
     "data": {
      "text/plain": [
       "{'debug': 'on',\n",
       " 'window': {'title': 'Sample Konfabulator Widget',\n",
       "  'name': 'main_window',\n",
       "  'width': 500,\n",
       "  'height': 500},\n",
       " 'image': {'src': 'Images/Sun.png',\n",
       "  'name': 'sun1',\n",
       "  'hOffset': 250,\n",
       "  'vOffset': 250,\n",
       "  'alignment': 'center'},\n",
       " 'text': {'data': 'Click Here',\n",
       "  'size': 36,\n",
       "  'style': 'bold',\n",
       "  'name': 'text1',\n",
       "  'hOffset': 250,\n",
       "  'vOffset': 100,\n",
       "  'alignment': 'center',\n",
       "  'onMouseUp': 'sun1.opacity = (sun1.opacity / 100) * 90;'}}"
      ]
     },
     "execution_count": 89,
     "metadata": {},
     "output_type": "execute_result"
    }
   ],
   "source": [
    "a[0][\"widget\"]"
   ]
  },
  {
   "cell_type": "code",
   "execution_count": 90,
   "id": "eea689e1-a958-4e6e-a3d9-688d7ea49cda",
   "metadata": {},
   "outputs": [
    {
     "data": {
      "text/plain": [
       "{'data': 'Click Here',\n",
       " 'size': 36,\n",
       " 'style': 'bold',\n",
       " 'name': 'text1',\n",
       " 'hOffset': 250,\n",
       " 'vOffset': 100,\n",
       " 'alignment': 'center',\n",
       " 'onMouseUp': 'sun1.opacity = (sun1.opacity / 100) * 90;'}"
      ]
     },
     "execution_count": 90,
     "metadata": {},
     "output_type": "execute_result"
    }
   ],
   "source": [
    "a[0][\"widget\"]['text']"
   ]
  },
  {
   "cell_type": "code",
   "execution_count": 91,
   "id": "439264cd-b2dd-426f-a9d0-5b01ba2513db",
   "metadata": {},
   "outputs": [
    {
     "data": {
      "text/plain": [
       "'text1'"
      ]
     },
     "execution_count": 91,
     "metadata": {},
     "output_type": "execute_result"
    }
   ],
   "source": [
    "a[0][\"widget\"]['text'][\"name\"]"
   ]
  },
  {
   "cell_type": "code",
   "execution_count": 92,
   "id": "e97b4736-9e00-4dfa-9964-d56d47b555c2",
   "metadata": {},
   "outputs": [],
   "source": [
    "#write a function which gives odd if odd but if even gives multiply 5 (0,100) odd = [1, 3, 5, 7.....] even = [0, 10, 20, .....] "
   ]
  },
  {
   "cell_type": "code",
   "execution_count": 93,
   "id": "afd0c97a-f4d6-4206-8a06-7761ec78b66b",
   "metadata": {},
   "outputs": [],
   "source": [
    "d= range (0,100)"
   ]
  },
  {
   "cell_type": "code",
   "execution_count": 94,
   "id": "4f770916-1eaa-49d1-a8ce-f980a462ee60",
   "metadata": {},
   "outputs": [
    {
     "name": "stdout",
     "output_type": "stream",
     "text": [
      "0\n",
      "1\n",
      "2\n",
      "3\n",
      "4\n",
      "5\n",
      "6\n",
      "7\n",
      "8\n",
      "9\n",
      "10\n",
      "11\n",
      "12\n",
      "13\n",
      "14\n",
      "15\n",
      "16\n",
      "17\n",
      "18\n",
      "19\n",
      "20\n",
      "21\n",
      "22\n",
      "23\n",
      "24\n",
      "25\n",
      "26\n",
      "27\n",
      "28\n",
      "29\n",
      "30\n",
      "31\n",
      "32\n",
      "33\n",
      "34\n",
      "35\n",
      "36\n",
      "37\n",
      "38\n",
      "39\n",
      "40\n",
      "41\n",
      "42\n",
      "43\n",
      "44\n",
      "45\n",
      "46\n",
      "47\n",
      "48\n",
      "49\n",
      "50\n",
      "51\n",
      "52\n",
      "53\n",
      "54\n",
      "55\n",
      "56\n",
      "57\n",
      "58\n",
      "59\n",
      "60\n",
      "61\n",
      "62\n",
      "63\n",
      "64\n",
      "65\n",
      "66\n",
      "67\n",
      "68\n",
      "69\n",
      "70\n",
      "71\n",
      "72\n",
      "73\n",
      "74\n",
      "75\n",
      "76\n",
      "77\n",
      "78\n",
      "79\n",
      "80\n",
      "81\n",
      "82\n",
      "83\n",
      "84\n",
      "85\n",
      "86\n",
      "87\n",
      "88\n",
      "89\n",
      "90\n",
      "91\n",
      "92\n",
      "93\n",
      "94\n",
      "95\n",
      "96\n",
      "97\n",
      "98\n",
      "99\n"
     ]
    }
   ],
   "source": [
    "for d in range(0,100):\n",
    "    print(d)"
   ]
  },
  {
   "cell_type": "code",
   "execution_count": 95,
   "id": "d063c3b4-2c8d-4d76-a64d-b2011897bcc4",
   "metadata": {},
   "outputs": [
    {
     "name": "stdout",
     "output_type": "stream",
     "text": [
      "0\n",
      "1\n",
      "10\n",
      "3\n",
      "20\n",
      "5\n",
      "30\n",
      "7\n",
      "40\n",
      "9\n",
      "50\n",
      "11\n",
      "60\n",
      "13\n",
      "70\n",
      "15\n",
      "80\n",
      "17\n",
      "90\n",
      "19\n",
      "100\n",
      "21\n",
      "110\n",
      "23\n",
      "120\n",
      "25\n",
      "130\n",
      "27\n",
      "140\n",
      "29\n",
      "150\n",
      "31\n",
      "160\n",
      "33\n",
      "170\n",
      "35\n",
      "180\n",
      "37\n",
      "190\n",
      "39\n",
      "200\n",
      "41\n",
      "210\n",
      "43\n",
      "220\n",
      "45\n",
      "230\n",
      "47\n",
      "240\n",
      "49\n",
      "250\n",
      "51\n",
      "260\n",
      "53\n",
      "270\n",
      "55\n",
      "280\n",
      "57\n",
      "290\n",
      "59\n",
      "300\n",
      "61\n",
      "310\n",
      "63\n",
      "320\n",
      "65\n",
      "330\n",
      "67\n",
      "340\n",
      "69\n",
      "350\n",
      "71\n",
      "360\n",
      "73\n",
      "370\n",
      "75\n",
      "380\n",
      "77\n",
      "390\n",
      "79\n",
      "400\n",
      "81\n",
      "410\n",
      "83\n",
      "420\n",
      "85\n",
      "430\n",
      "87\n",
      "440\n",
      "89\n",
      "450\n",
      "91\n",
      "460\n",
      "93\n",
      "470\n",
      "95\n",
      "480\n",
      "97\n",
      "490\n",
      "99\n"
     ]
    }
   ],
   "source": [
    "for d in range(0,100):\n",
    "    if d%2!= 0:\n",
    "       print(d)\n",
    "    else:\n",
    "        print(d*5)"
   ]
  },
  {
   "cell_type": "code",
   "execution_count": 96,
   "id": "36d5089f-916e-49d3-81a8-ecf944ef0e09",
   "metadata": {},
   "outputs": [
    {
     "data": {
      "text/plain": [
       "5.0"
      ]
     },
     "execution_count": 96,
     "metadata": {},
     "output_type": "execute_result"
    }
   ],
   "source": [
    "#type conversion\n",
    "float(5)"
   ]
  },
  {
   "cell_type": "code",
   "execution_count": 97,
   "id": "1138cf52-4d09-4283-bc65-14a55f4453aa",
   "metadata": {},
   "outputs": [
    {
     "data": {
      "text/plain": [
       "2"
      ]
     },
     "execution_count": 97,
     "metadata": {},
     "output_type": "execute_result"
    }
   ],
   "source": [
    "int(2.5)"
   ]
  },
  {
   "cell_type": "code",
   "execution_count": 98,
   "id": "1f833245-fc23-4008-9aa9-4c9ae70a01c3",
   "metadata": {},
   "outputs": [
    {
     "data": {
      "text/plain": [
       "'2'"
      ]
     },
     "execution_count": 98,
     "metadata": {},
     "output_type": "execute_result"
    }
   ],
   "source": [
    "str(2)"
   ]
  },
  {
   "cell_type": "code",
   "execution_count": 99,
   "id": "d1fec323-c36b-4a33-a092-8f44cc6f645b",
   "metadata": {},
   "outputs": [
    {
     "ename": "ValueError",
     "evalue": "invalid literal for int() with base 10: '1p'",
     "output_type": "error",
     "traceback": [
      "\u001b[1;31m---------------------------------------------------------------------------\u001b[0m",
      "\u001b[1;31mValueError\u001b[0m                                Traceback (most recent call last)",
      "Cell \u001b[1;32mIn[99], line 2\u001b[0m\n\u001b[0;32m      1\u001b[0m \u001b[38;5;66;03m#CONVERSION TO AND FROM STRING MUST CONTAIN COMPATIBLE VALUES\u001b[39;00m\n\u001b[1;32m----> 2\u001b[0m \u001b[38;5;28;43mint\u001b[39;49m\u001b[43m(\u001b[49m\u001b[38;5;124;43m\"\u001b[39;49m\u001b[38;5;124;43m1p\u001b[39;49m\u001b[38;5;124;43m\"\u001b[39;49m\u001b[43m)\u001b[49m\n",
      "\u001b[1;31mValueError\u001b[0m: invalid literal for int() with base 10: '1p'"
     ]
    }
   ],
   "source": [
    "#CONVERSION TO AND FROM STRING MUST CONTAIN COMPATIBLE VALUES\n",
    "int(\"1p\")"
   ]
  },
  {
   "cell_type": "code",
   "execution_count": 100,
   "id": "c58f3236-b11c-4711-a4a6-ee6407dbaa1b",
   "metadata": {},
   "outputs": [
    {
     "name": "stdin",
     "output_type": "stream",
     "text": [
      "Enter the value of P: 4000\n",
      "Enter the value of T: 4\n",
      "Enter the value of R: 4\n"
     ]
    },
    {
     "name": "stdout",
     "output_type": "stream",
     "text": [
      "640.0\n"
     ]
    }
   ],
   "source": [
    "P= int(input(\"Enter the value of P:\"))\n",
    "T= int(input(\"Enter the value of T:\"))\n",
    "R= int(input(\"Enter the value of R:\"))\n",
    "\n",
    "Simple_Interest = (P*T*R)/100\n",
    "print (Simple_Interest)"
   ]
  },
  {
   "cell_type": "code",
   "execution_count": 30,
   "id": "cb89ee85-13fa-4eaf-9c11-414918cebe3e",
   "metadata": {},
   "outputs": [
    {
     "name": "stdin",
     "output_type": "stream",
     "text": [
      "Enter the value of P: 4000\n",
      "Enter the value of T: 4\n",
      "ETnter the value of R: 4\n"
     ]
    },
    {
     "name": "stdout",
     "output_type": "stream",
     "text": [
      "the simple interest is: 640.0 /- only\n"
     ]
    }
   ],
   "source": [
    "#f-string interpolation\n",
    "P= int(input(\"Enter the value of P:\"))\n",
    "T= int(input(\"Enter the value of T:\"))\n",
    "R= int(input(\"ETnter the value of R:\"))\n",
    "\n",
    "Simple_Interest = (P*T*R)/100\n",
    "print (f\"the simple interest is: {Simple_Interest} /- only\")"
   ]
  },
  {
   "cell_type": "code",
   "execution_count": 31,
   "id": "48fee72f-4c49-4ca1-9051-e0287cb73183",
   "metadata": {},
   "outputs": [
    {
     "data": {
      "text/plain": [
       "1"
      ]
     },
     "execution_count": 31,
     "metadata": {},
     "output_type": "execute_result"
    }
   ],
   "source": [
    "4%3 #modulus remainder operator"
   ]
  },
  {
   "cell_type": "code",
   "execution_count": 32,
   "id": "4799b523-327b-4fb5-bf18-b590b6afe72a",
   "metadata": {},
   "outputs": [
    {
     "data": {
      "text/plain": [
       "2.5"
      ]
     },
     "execution_count": 32,
     "metadata": {},
     "output_type": "execute_result"
    }
   ],
   "source": [
    "5/2"
   ]
  },
  {
   "cell_type": "code",
   "execution_count": 33,
   "id": "2f61b624-0dd2-400c-98c8-8ebf09e2fe4e",
   "metadata": {},
   "outputs": [
    {
     "data": {
      "text/plain": [
       "2"
      ]
     },
     "execution_count": 33,
     "metadata": {},
     "output_type": "execute_result"
    }
   ],
   "source": [
    "5//2 #floor division/ integer division"
   ]
  },
  {
   "cell_type": "code",
   "execution_count": 42,
   "id": "02733445-7d1e-4003-be32-d67b374c871f",
   "metadata": {},
   "outputs": [
    {
     "data": {
      "text/plain": [
       "4"
      ]
     },
     "execution_count": 42,
     "metadata": {},
     "output_type": "execute_result"
    }
   ],
   "source": [
    "#power operators\n",
    "2**2"
   ]
  },
  {
   "cell_type": "code",
   "execution_count": 43,
   "id": "cb0c1f9f-b609-4813-9cf7-79b69dd5fb57",
   "metadata": {},
   "outputs": [
    {
     "data": {
      "text/plain": [
       "8"
      ]
     },
     "execution_count": 43,
     "metadata": {},
     "output_type": "execute_result"
    }
   ],
   "source": [
    "2**3"
   ]
  },
  {
   "cell_type": "code",
   "execution_count": 44,
   "id": "b3517f4c-37f6-4157-86c4-bd576c3b0f3c",
   "metadata": {},
   "outputs": [
    {
     "data": {
      "text/plain": [
       "16"
      ]
     },
     "execution_count": 44,
     "metadata": {},
     "output_type": "execute_result"
    }
   ],
   "source": [
    "2**4"
   ]
  },
  {
   "cell_type": "code",
   "execution_count": 45,
   "id": "e5329dfb-1479-46b0-b913-c5b7d918a75a",
   "metadata": {},
   "outputs": [
    {
     "data": {
      "text/plain": [
       "False"
      ]
     },
     "execution_count": 45,
     "metadata": {},
     "output_type": "execute_result"
    }
   ],
   "source": [
    "#comparison operator\n",
    "2>4 #greater than                             #less then(<) #equal to (==) #not equal to (!=)"
   ]
  },
  {
   "cell_type": "code",
   "execution_count": 46,
   "id": "360a97d8-dc65-4a3b-bde9-c46541f5333e",
   "metadata": {},
   "outputs": [
    {
     "data": {
      "text/plain": [
       "True"
      ]
     },
     "execution_count": 46,
     "metadata": {},
     "output_type": "execute_result"
    }
   ],
   "source": [
    "4>2"
   ]
  },
  {
   "cell_type": "code",
   "execution_count": 47,
   "id": "4a6c8877-0933-4830-b848-b49aaac67157",
   "metadata": {},
   "outputs": [
    {
     "data": {
      "text/plain": [
       "False"
      ]
     },
     "execution_count": 47,
     "metadata": {},
     "output_type": "execute_result"
    }
   ],
   "source": [
    "2>=4 #greaterthan equal to"
   ]
  },
  {
   "cell_type": "code",
   "execution_count": 48,
   "id": "91abf353-a233-4c05-be0b-92ef6470f1ed",
   "metadata": {},
   "outputs": [
    {
     "data": {
      "text/plain": [
       "True"
      ]
     },
     "execution_count": 48,
     "metadata": {},
     "output_type": "execute_result"
    }
   ],
   "source": [
    "2>=2"
   ]
  },
  {
   "cell_type": "code",
   "execution_count": 49,
   "id": "2819b495-4460-4e99-8023-670d4dd9c533",
   "metadata": {},
   "outputs": [
    {
     "data": {
      "text/plain": [
       "True"
      ]
     },
     "execution_count": 49,
     "metadata": {},
     "output_type": "execute_result"
    }
   ],
   "source": [
    "5>=2 #kunai euta condition mile huncha"
   ]
  },
  {
   "cell_type": "code",
   "execution_count": 51,
   "id": "e92fef2e-0555-48ef-bc8e-8931d1a1b368",
   "metadata": {},
   "outputs": [
    {
     "name": "stdout",
     "output_type": "stream",
     "text": [
      "6\n"
     ]
    }
   ],
   "source": [
    "name=\"ramesh\"\n",
    "print(len(name))"
   ]
  },
  {
   "cell_type": "code",
   "execution_count": 53,
   "id": "bc4dcc25-170c-4c79-9c3f-54dbee2a4c4d",
   "metadata": {},
   "outputs": [
    {
     "data": {
      "text/plain": [
       "False"
      ]
     },
     "execution_count": 53,
     "metadata": {},
     "output_type": "execute_result"
    }
   ],
   "source": [
    "len(\"apple\") == len(\"banana\")"
   ]
  },
  {
   "cell_type": "code",
   "execution_count": 106,
   "id": "c9593bb1-86df-42d2-acd2-ccb34a3bea64",
   "metadata": {},
   "outputs": [],
   "source": [
    "#returning multiple values in function\n",
    "def func_name (num1, num2):\n",
    "    add= num1+num2\n",
    "    mult= num1*num2\n",
    "    div= num2/num1\n",
    "    power= num1**num2\n",
    "    return (add, mult, div, power)"
   ]
  },
  {
   "cell_type": "code",
   "execution_count": 107,
   "id": "33976254-8016-4762-ac97-12c9f5661e28",
   "metadata": {},
   "outputs": [
    {
     "data": {
      "text/plain": [
       "(3, 2, 2.0, 1)"
      ]
     },
     "execution_count": 107,
     "metadata": {},
     "output_type": "execute_result"
    }
   ],
   "source": [
    "func_name (1,2)"
   ]
  },
  {
   "cell_type": "code",
   "execution_count": 119,
   "id": "dfd5e1ce-52ff-4194-b6e7-7e934a6627dc",
   "metadata": {},
   "outputs": [],
   "source": [
    "#tuple unpacking\n",
    "add, mult,div,power = func_name(1,2)"
   ]
  },
  {
   "cell_type": "code",
   "execution_count": 120,
   "id": "bdf736a0-fb87-4501-88e5-cf9f0e7ae6f0",
   "metadata": {},
   "outputs": [
    {
     "data": {
      "text/plain": [
       "3"
      ]
     },
     "execution_count": 120,
     "metadata": {},
     "output_type": "execute_result"
    }
   ],
   "source": [
    "add"
   ]
  },
  {
   "cell_type": "code",
   "execution_count": 121,
   "id": "26ed9071-d4d5-4c73-bfe5-aae5e675f39b",
   "metadata": {},
   "outputs": [
    {
     "data": {
      "text/plain": [
       "2"
      ]
     },
     "execution_count": 121,
     "metadata": {},
     "output_type": "execute_result"
    }
   ],
   "source": [
    "mult"
   ]
  },
  {
   "cell_type": "code",
   "execution_count": 122,
   "id": "3d7fe0e0-6677-4038-91f0-f9317f602eed",
   "metadata": {},
   "outputs": [
    {
     "data": {
      "text/plain": [
       "2.0"
      ]
     },
     "execution_count": 122,
     "metadata": {},
     "output_type": "execute_result"
    }
   ],
   "source": [
    "div"
   ]
  },
  {
   "cell_type": "code",
   "execution_count": 123,
   "id": "0d41ad4b-25d9-4221-ba43-c5a1d1bf3527",
   "metadata": {},
   "outputs": [
    {
     "data": {
      "text/plain": [
       "1"
      ]
     },
     "execution_count": 123,
     "metadata": {},
     "output_type": "execute_result"
    }
   ],
   "source": [
    "power"
   ]
  },
  {
   "cell_type": "code",
   "execution_count": 145,
   "id": "16796d03-8839-419b-826c-c931dbb42167",
   "metadata": {},
   "outputs": [],
   "source": [
    "#user sanga input magera odd/even\n",
    "def number(num):\n",
    "    if num%2!=0:\n",
    "        return \"odd\"\n",
    "    else:\n",
    "        return \"even\""
   ]
  },
  {
   "cell_type": "code",
   "execution_count": 146,
   "id": "ab5feea6-765f-4244-a475-f2ddc1be397f",
   "metadata": {},
   "outputs": [],
   "source": [
    "def user_inp():\n",
    "    num = int(input(\"enter number\"))\n",
    "    odd_or_even = number(num)\n",
    "    print(odd_or_even)"
   ]
  },
  {
   "cell_type": "code",
   "execution_count": 147,
   "id": "5acc260d-5364-46c1-8f92-94582d6c52ae",
   "metadata": {},
   "outputs": [
    {
     "name": "stdin",
     "output_type": "stream",
     "text": [
      "enter number 5\n"
     ]
    },
    {
     "name": "stdout",
     "output_type": "stream",
     "text": [
      "odd\n"
     ]
    }
   ],
   "source": [
    "user_inp()"
   ]
  },
  {
   "cell_type": "code",
   "execution_count": 148,
   "id": "0c894ae9-e092-4946-a27a-cb442968c90b",
   "metadata": {},
   "outputs": [],
   "source": [
    "#user sanga duita num, add/sub...\n",
    "def number():\n",
    "    num1=int(input(\"Enter first num\"))\n",
    "    num2= int(input(\"Enter second num\"))\n",
    "    add= num1+num2\n",
    "    mult= num1*num2\n",
    "    div= num2/num1\n",
    "    power= num1**num2\n",
    "    return (add, mult, div, power)"
   ]
  },
  {
   "cell_type": "code",
   "execution_count": 151,
   "id": "ede0294a-d261-4048-a2ab-935d90b11389",
   "metadata": {},
   "outputs": [
    {
     "name": "stdin",
     "output_type": "stream",
     "text": [
      "Enter first num 2\n",
      "Enter second num 3\n"
     ]
    },
    {
     "data": {
      "text/plain": [
       "(5, 6, 1.5, 8)"
      ]
     },
     "execution_count": 151,
     "metadata": {},
     "output_type": "execute_result"
    }
   ],
   "source": [
    "number()"
   ]
  },
  {
   "cell_type": "code",
   "execution_count": 156,
   "id": "2825548a-dd72-4054-ab4f-f114eefd1437",
   "metadata": {},
   "outputs": [],
   "source": [
    "#user sanga f_name l_name input liyera print garaune\n",
    "def name():\n",
    "    F_name=str(input(\"Enter first name\"))\n",
    "    L_name= str(input(\"Enter last name\"))\n",
    "    full_name= F_name + \" \" + L_name\n",
    "    return (full_name)"
   ]
  },
  {
   "cell_type": "code",
   "execution_count": 157,
   "id": "19f7c05b-2193-442c-96d0-5ea019fe5833",
   "metadata": {},
   "outputs": [
    {
     "name": "stdin",
     "output_type": "stream",
     "text": [
      "Enter first name nayna\n",
      "Enter last name koju\n"
     ]
    },
    {
     "data": {
      "text/plain": [
       "'nayna koju'"
      ]
     },
     "execution_count": 157,
     "metadata": {},
     "output_type": "execute_result"
    }
   ],
   "source": [
    "name()"
   ]
  },
  {
   "cell_type": "code",
   "execution_count": 165,
   "id": "3745c265-de37-4a02-959d-47b8561094ee",
   "metadata": {},
   "outputs": [
    {
     "name": "stdout",
     "output_type": "stream",
     "text": [
      "2\n",
      "4\n",
      "6\n",
      "8\n",
      "10\n",
      "12\n",
      "14\n",
      "16\n",
      "18\n",
      "20\n"
     ]
    }
   ],
   "source": [
    "#print multiplication table of 2\n",
    "for number in range (1,11):\n",
    "    print (number*2)"
   ]
  },
  {
   "cell_type": "code",
   "execution_count": 173,
   "id": "eed73e99-efe2-4aa3-8d0f-361b430c7f66",
   "metadata": {},
   "outputs": [
    {
     "name": "stdin",
     "output_type": "stream",
     "text": [
      "enter any number 22\n"
     ]
    },
    {
     "name": "stdout",
     "output_type": "stream",
     "text": [
      "22\n",
      "44\n",
      "66\n",
      "88\n",
      "110\n",
      "132\n",
      "154\n",
      "176\n",
      "198\n",
      "220\n"
     ]
    }
   ],
   "source": [
    "#user sanga input liyera 10 samma ko multiplication table nikalne\n",
    "a= int(input(\"enter any number\"))\n",
    "for num in range (1,11):\n",
    "    print (num*a)"
   ]
  },
  {
   "cell_type": "code",
   "execution_count": 190,
   "id": "e27bb134-39c4-4fc1-a7a9-028fc1080111",
   "metadata": {},
   "outputs": [
    {
     "name": "stdin",
     "output_type": "stream",
     "text": [
      "enter a number -55\n"
     ]
    },
    {
     "name": "stdout",
     "output_type": "stream",
     "text": [
      "The number is negative\n"
     ]
    }
   ],
   "source": [
    "#positive, negative and zero\n",
    "a= int(input(\"enter a number\"))\n",
    "if a>0:\n",
    "    print(\"The number is positive\")\n",
    "elif a<0:\n",
    "    print(\"The number is negative\")\n",
    "else:\n",
    "    print(\"The number is zero\")"
   ]
  },
  {
   "cell_type": "code",
   "execution_count": 183,
   "id": "b0eacf53-3fb7-4438-8fa4-0a6929d80e6f",
   "metadata": {},
   "outputs": [
    {
     "name": "stdin",
     "output_type": "stream",
     "text": [
      "enter 1st number 44\n",
      "enter 2nd number 55\n",
      "enter 3rd number 22\n"
     ]
    },
    {
     "name": "stdout",
     "output_type": "stream",
     "text": [
      "b is greatest\n"
     ]
    }
   ],
   "source": [
    "#find largest in three number\n",
    "a= int(input(\"enter 1st number\"))\n",
    "b= int(input(\"enter 2nd number\"))\n",
    "c= int(input(\"enter 3rd number\"))\n",
    "if a>b and b>c:\n",
    "    print (\"a is greatest\")\n",
    "elif b>c and a>c:\n",
    "    print(\"b is greatest\")\n",
    "else:\n",
    "    print (\"c is greatest\")"
   ]
  },
  {
   "cell_type": "code",
   "execution_count": 195,
   "id": "9e098225-bd7a-4f11-bc34-c3bcd9d5940a",
   "metadata": {},
   "outputs": [
    {
     "name": "stdin",
     "output_type": "stream",
     "text": [
      "enter your mark to find grade 105\n"
     ]
    },
    {
     "name": "stdout",
     "output_type": "stream",
     "text": [
      "Mark invalid\n"
     ]
    }
   ],
   "source": [
    "#grade calculator\n",
    "mark= int(input(\"enter your mark to find grade\"))\n",
    "if mark>0 and mark<40:\n",
    "    print (\"You are fail\")\n",
    "elif mark>40 and mark<60:\n",
    "    print(\"You got A\")\n",
    "elif mark>60 and mark<100:\n",
    "    print (\"You got A+\")\n",
    "else:\n",
    "    print(\"Mark invalid\")"
   ]
  },
  {
   "cell_type": "code",
   "execution_count": 200,
   "id": "9d081f66-d436-4525-89e8-17150f80beee",
   "metadata": {},
   "outputs": [
    {
     "name": "stdin",
     "output_type": "stream",
     "text": [
      "enter the number 77\n"
     ]
    },
    {
     "name": "stdout",
     "output_type": "stream",
     "text": [
      "The number is not divisible\n"
     ]
    }
   ],
   "source": [
    "#user le deko input 5 ra 10 le divisible cha ki chaina herne\n",
    "number= int(input(\"enter the number\"))\n",
    "if number%5==0 and number%10==0:\n",
    "    print(\"the number is divisible\")\n",
    "elif number%5==0 and number%10!=0:\n",
    "     print(\"the number is only divisible by 5\")\n",
    "elif number%5!=0 and number%10==0:\n",
    "     print(\"the number is only divisible by 10\")\n",
    "else:\n",
    "    print(\"The number is not divisible\")\n",
    "    "
   ]
  },
  {
   "cell_type": "code",
   "execution_count": 201,
   "id": "e3651cfe-673e-49dd-a735-0a7846c6a960",
   "metadata": {},
   "outputs": [],
   "source": [
    "a=[1,2,3,4,5,6,7,8,9,10]\n",
    "a.append(11)"
   ]
  },
  {
   "cell_type": "code",
   "execution_count": 202,
   "id": "639f7fe3-7ecb-4334-9cee-602fbdcb8930",
   "metadata": {},
   "outputs": [
    {
     "data": {
      "text/plain": [
       "[1, 2, 3, 4, 5, 6, 7, 8, 9, 10, 11]"
      ]
     },
     "execution_count": 202,
     "metadata": {},
     "output_type": "execute_result"
    }
   ],
   "source": [
    "a"
   ]
  },
  {
   "cell_type": "code",
   "execution_count": 203,
   "id": "60beb11a-8197-4c25-b03a-7b9a7080667b",
   "metadata": {},
   "outputs": [
    {
     "data": {
      "text/plain": [
       "6"
      ]
     },
     "execution_count": 203,
     "metadata": {},
     "output_type": "execute_result"
    }
   ],
   "source": [
    "a[5]"
   ]
  },
  {
   "cell_type": "code",
   "execution_count": 204,
   "id": "e664216d-866c-42a2-b036-91f83e6bf8cf",
   "metadata": {},
   "outputs": [
    {
     "data": {
      "text/plain": [
       "[5, 6, 7, 8, 9, 10]"
      ]
     },
     "execution_count": 204,
     "metadata": {},
     "output_type": "execute_result"
    }
   ],
   "source": [
    "#slicing()\n",
    "a[4:10]"
   ]
  },
  {
   "cell_type": "code",
   "execution_count": 15,
   "id": "096255ea-4ffc-4e73-98a2-367613c63fce",
   "metadata": {},
   "outputs": [],
   "source": [
    "#practice\n",
    "data = [\n",
    "    {\"name\": \" Alice \", \"age\": \" 21\", \"email\": \"ALICE@example.COM\"},\n",
    "    {\"name\": \"Bob\", \"age\": None, \"email\": \"bob@example.com\"},\n",
    "    {\"name\": \"   CHARLIE\", \"age\": \"20\", \"email\": \"charlie@example.COM\"},\n",
    "    {\"name\": \"david\", \"age\": \"19\", \"email\": \"  DAVID@example.com \"}\n",
    "]"
   ]
  },
  {
   "cell_type": "code",
   "execution_count": 16,
   "id": "d66cd247-64e4-4914-8006-4be84b75b961",
   "metadata": {},
   "outputs": [],
   "source": [
    "sp=(data[0][\"name\"].strip().title(), data[1][\"name\"].strip().title(), data[2][\"name\"].strip().title(), data[3][\"name\"].strip().title())"
   ]
  },
  {
   "cell_type": "code",
   "execution_count": 17,
   "id": "00ae7756-17a3-4bee-be34-8b6306befaf4",
   "metadata": {},
   "outputs": [
    {
     "data": {
      "text/plain": [
       "('Alice', 'Bob', 'Charlie', 'David')"
      ]
     },
     "execution_count": 17,
     "metadata": {},
     "output_type": "execute_result"
    }
   ],
   "source": [
    "sp"
   ]
  },
  {
   "cell_type": "code",
   "execution_count": 18,
   "id": "f621cf7f-f55d-421e-a02f-59a7a930ce0a",
   "metadata": {},
   "outputs": [],
   "source": [
    "em= data[0][\"email\"].lower().strip(),data[1][\"email\"].lower().strip(),data[2][\"email\"].lower().strip(),data[3][\"email\"].lower().strip()"
   ]
  },
  {
   "cell_type": "code",
   "execution_count": 19,
   "id": "5e118f96-ef7e-4777-820c-6d8520e3453c",
   "metadata": {},
   "outputs": [
    {
     "data": {
      "text/plain": [
       "('alice@example.com',\n",
       " 'bob@example.com',\n",
       " 'charlie@example.com',\n",
       " 'david@example.com')"
      ]
     },
     "execution_count": 19,
     "metadata": {},
     "output_type": "execute_result"
    }
   ],
   "source": [
    "em"
   ]
  },
  {
   "cell_type": "code",
   "execution_count": 24,
   "id": "f6fd9c5f-954e-4849-92c3-29447ea7b179",
   "metadata": {},
   "outputs": [],
   "source": [
    "em= data[0][\"email\"].lower().split(\"@\"),data[1][\"email\"].lower().split(\"@\"),data[2][\"email\"].lower().split(\"@\"),data[3][\"email\"].lower().strip().split(\"@\")"
   ]
  },
  {
   "cell_type": "code",
   "execution_count": 25,
   "id": "20a1f79d-fc1d-41c3-b25c-9fa18c0680bc",
   "metadata": {},
   "outputs": [
    {
     "data": {
      "text/plain": [
       "(['alice', 'example.com'],\n",
       " ['bob', 'example.com'],\n",
       " ['charlie', 'example.com'],\n",
       " ['david', 'example.com'])"
      ]
     },
     "execution_count": 25,
     "metadata": {},
     "output_type": "execute_result"
    }
   ],
   "source": [
    "em"
   ]
  },
  {
   "cell_type": "code",
   "execution_count": 26,
   "id": "c706d6a4-762a-429e-a363-3d541c2ed6b6",
   "metadata": {},
   "outputs": [
    {
     "name": "stdout",
     "output_type": "stream",
     "text": [
      "{'alice'} {'bob'} {'charlie'} {'david'}\n"
     ]
    }
   ],
   "source": [
    "print ({em[0][0]},{em[1][0]},{em[2][0]},{em[3][0]})"
   ]
  },
  {
   "cell_type": "code",
   "execution_count": 27,
   "id": "213ecf19-e68a-46fb-8aad-44ac91de8651",
   "metadata": {},
   "outputs": [
    {
     "name": "stdout",
     "output_type": "stream",
     "text": [
      "Hello: alice,bob,charlie,david\n"
     ]
    }
   ],
   "source": [
    "print (f\"Hello: {em[0][0]},{em[1][0]},{em[2][0]},{em[3][0]}\")"
   ]
  },
  {
   "cell_type": "code",
   "execution_count": 36,
   "id": "005d6965-de62-4555-b2a4-5e8d508f89a3",
   "metadata": {},
   "outputs": [],
   "source": [
    "data = [\n",
    "    {\"name\": \" Alice \", \"age\": \" 21\", \"email\": \"ALICE@example.COM\"},\n",
    "    {\"name\": \"Bob\", \"age\": None, \"email\": \"bob@example.com\"},\n",
    "    {\"name\": \"   CHARLIE\", \"age\": \"20\", \"email\": \"charlie@example.COM\"},\n",
    "    {\"name\": \"david\", \"age\": \"19\", \"email\": \"  DAVID@example.com \"}\n",
    "]\n",
    "sp = list(users[\"name\"].strip().title() for users in data)"
   ]
  },
  {
   "cell_type": "code",
   "execution_count": 37,
   "id": "61b961e1-5b4c-4b9c-9933-44abeca48ad3",
   "metadata": {},
   "outputs": [
    {
     "data": {
      "text/plain": [
       "['Alice', 'Bob', 'Charlie', 'David']"
      ]
     },
     "execution_count": 37,
     "metadata": {},
     "output_type": "execute_result"
    }
   ],
   "source": [
    "sp"
   ]
  },
  {
   "cell_type": "code",
   "execution_count": 33,
   "id": "13ec538b-6531-44fb-99f9-2933ca31f1eb",
   "metadata": {},
   "outputs": [],
   "source": [
    "em=tuple(mails[\"email\"].lower() .strip() for mails in data)"
   ]
  },
  {
   "cell_type": "code",
   "execution_count": 34,
   "id": "a1735f6d-4989-440b-9648-0fc44b3c33aa",
   "metadata": {},
   "outputs": [
    {
     "data": {
      "text/plain": [
       "('alice@example.com',\n",
       " 'bob@example.com',\n",
       " 'charlie@example.com',\n",
       " 'david@example.com')"
      ]
     },
     "execution_count": 34,
     "metadata": {},
     "output_type": "execute_result"
    }
   ],
   "source": [
    "em"
   ]
  },
  {
   "cell_type": "code",
   "execution_count": 45,
   "id": "2c8915ec-ec03-46c7-8274-e508ceb71778",
   "metadata": {},
   "outputs": [],
   "source": [
    "#...........assignment 2..........\n",
    "# typecasting : product_id: int, quantity: int, price: float\n",
    "sales = [\n",
    "    {\"product_id\": \"1\", \"quantity\": \"10\", \"price\": \"20.5\"},\n",
    "    {\"product_id\": \"2\", \"quantity\": \"15\", \"price\": \"30.75\"},\n",
    "    {\"product_id\": \"3\", \"quantity\": \"8\", \"price\": \"25.0\"},\n",
    "]"
   ]
  },
  {
   "cell_type": "code",
   "execution_count": 46,
   "id": "fc234457-63d8-49fe-b55d-99f7bc3f807f",
   "metadata": {},
   "outputs": [],
   "source": [
    "typ_cas= tuple (int(p_id[\"product_id\"]) for p_id in sales)"
   ]
  },
  {
   "cell_type": "code",
   "execution_count": 47,
   "id": "d2bf72ae-f26a-434f-961c-2b8758e10952",
   "metadata": {},
   "outputs": [
    {
     "data": {
      "text/plain": [
       "(1, 2, 3)"
      ]
     },
     "execution_count": 47,
     "metadata": {},
     "output_type": "execute_result"
    }
   ],
   "source": [
    "typ_cas"
   ]
  },
  {
   "cell_type": "code",
   "execution_count": 52,
   "id": "848fb4dd-fbde-408f-80ee-83f0ec45986a",
   "metadata": {},
   "outputs": [
    {
     "name": "stdout",
     "output_type": "stream",
     "text": [
      "(10, 15, 8)\n"
     ]
    }
   ],
   "source": [
    "quan= tuple (int(q_id[\"quantity\"]) for q_id in sales)\n",
    "print (quan)"
   ]
  },
  {
   "cell_type": "code",
   "execution_count": 55,
   "id": "e9444fe8-7e11-4476-9b91-1a9c3e36f23d",
   "metadata": {},
   "outputs": [
    {
     "name": "stdout",
     "output_type": "stream",
     "text": [
      "(20.5, 30.75, 25.0)\n"
     ]
    }
   ],
   "source": [
    "pri= tuple (float(pri_id[\"price\"]) for pri_id in sales)\n",
    "print(pri)"
   ]
  },
  {
   "cell_type": "code",
   "execution_count": 57,
   "id": "156b7bdb-8384-42d8-9dfb-b8e37f3cc08f",
   "metadata": {},
   "outputs": [],
   "source": [
    "#..................assignment 3............\n",
    "# 3: duplicate rows remove\n",
    "employees = [\n",
    "    {\"id\": 1, \"name\": \"John Doe\", \"email\": \"john@example.com\"},\n",
    "    {\"id\": 2, \"name\": \"Jane Smith\", \"email\": \"jane@example.com\"},\n",
    "    {\"id\": 1, \"name\": \"John Doe\", \"email\": \"john@example.com\"},\n",
    "    {\"id\": 3, \"name\": \"Emily Davis\", \"email\": \"emily@example.com\"},\n",
    "]"
   ]
  },
  {
   "cell_type": "code",
   "execution_count": 63,
   "id": "623b5249-f632-4f0f-9fca-e10d3f81b24c",
   "metadata": {},
   "outputs": [],
   "source": [
    "a=[]\n",
    "for i in range (0,10):\n",
    "    a.append(i)"
   ]
  },
  {
   "cell_type": "code",
   "execution_count": 64,
   "id": "fef209d3-c58a-4ad6-869b-8c8f04d18986",
   "metadata": {},
   "outputs": [
    {
     "data": {
      "text/plain": [
       "[0, 1, 2, 3, 4, 5, 6, 7, 8, 9]"
      ]
     },
     "execution_count": 64,
     "metadata": {},
     "output_type": "execute_result"
    }
   ],
   "source": [
    "a"
   ]
  },
  {
   "cell_type": "code",
   "execution_count": 65,
   "id": "f9602e7f-9944-480e-86e3-d4cf04981e71",
   "metadata": {},
   "outputs": [],
   "source": [
    "#list comprehension\n",
    "a= [i for i in range(0,10)]"
   ]
  },
  {
   "cell_type": "code",
   "execution_count": 66,
   "id": "bd15b81e-bc70-4459-9bca-9a3044c67ffd",
   "metadata": {},
   "outputs": [
    {
     "data": {
      "text/plain": [
       "[0, 1, 2, 3, 4, 5, 6, 7, 8, 9]"
      ]
     },
     "execution_count": 66,
     "metadata": {},
     "output_type": "execute_result"
    }
   ],
   "source": [
    "a"
   ]
  },
  {
   "cell_type": "code",
   "execution_count": 72,
   "id": "b2049b88-1568-4577-a0ea-bc8884b41547",
   "metadata": {},
   "outputs": [],
   "source": [
    "b=[i*2 for i in range(0,10)]"
   ]
  },
  {
   "cell_type": "code",
   "execution_count": 73,
   "id": "4d0e57fe-bd1f-4811-876f-7010af1b33e9",
   "metadata": {},
   "outputs": [
    {
     "data": {
      "text/plain": [
       "[0, 2, 4, 6, 8, 10, 12, 14, 16, 18]"
      ]
     },
     "execution_count": 73,
     "metadata": {},
     "output_type": "execute_result"
    }
   ],
   "source": [
    "b"
   ]
  },
  {
   "cell_type": "code",
   "execution_count": 87,
   "id": "51e12daf-7b6b-4959-8b05-9afafc6d38bf",
   "metadata": {},
   "outputs": [
    {
     "name": "stdin",
     "output_type": "stream",
     "text": [
      "Enter a number 11\n",
      "Enter other number 2\n",
      "Press 1 to proceed 1\n",
      "ADD for addition, sub for subtraction, div for division, mult for multiplication sub\n"
     ]
    },
    {
     "name": "stdout",
     "output_type": "stream",
     "text": [
      "9\n"
     ]
    }
   ],
   "source": [
    "#calculator\n",
    "a=int(input(\"Enter a number\"))\n",
    "b=int(input(\"Enter other number\"))\n",
    "c= input(\"Press 1 to proceed\")\n",
    "if c==\"1\":\n",
    "    opt=input(\"ADD for addition, sub for subtraction, div for division, mult for multiplication\")\n",
    "    if opt==\"ADD\":\n",
    "        print(a+b)\n",
    "    elif opt==\"sub\":\n",
    "        print (a-b)\n",
    "    elif opt== \"div\":\n",
    "        print (a/b)\n",
    "    elif opt== \"mult\":\n",
    "        print (a*b)\n",
    "    else:\n",
    "        print(\"Choose valid operator\")\n",
    "else:\n",
    "    print (\"please click 1 to proceed\")"
   ]
  },
  {
   "cell_type": "markdown",
   "id": "2597df0e-4ae2-484d-91eb-67592dfc775b",
   "metadata": {},
   "source": [
    "# heading 1\n",
    "## heading 2\n",
    "### heading 3"
   ]
  },
  {
   "cell_type": "markdown",
   "id": "5b359781-c971-4f79-b6b8-bb9e2d7a2b19",
   "metadata": {},
   "source": [
    "*this is italic*"
   ]
  },
  {
   "cell_type": "markdown",
   "id": "1bd27a9b-f8e3-4e29-967d-6acabe35e7ae",
   "metadata": {},
   "source": [
    "**this is bold**"
   ]
  },
  {
   "cell_type": "code",
   "execution_count": 104,
   "id": "47e6640f-a33c-4863-8379-924b27c6c703",
   "metadata": {},
   "outputs": [
    {
     "name": "stdout",
     "output_type": "stream",
     "text": [
      "96\n"
     ]
    },
    {
     "name": "stdin",
     "output_type": "stream",
     "text": [
      "What's your guess 6\n"
     ]
    },
    {
     "name": "stdout",
     "output_type": "stream",
     "text": [
      "Keep guessing\n"
     ]
    },
    {
     "name": "stdin",
     "output_type": "stream",
     "text": [
      "What's your guess 96\n"
     ]
    },
    {
     "name": "stdout",
     "output_type": "stream",
     "text": [
      "Hoorray!! the number matches\n"
     ]
    }
   ],
   "source": [
    "###task................\n",
    "#guessing the number\n",
    "import random;\n",
    "rand= random.randint(0,100)\n",
    "print(rand)\n",
    "# for num in range (0,100):\n",
    "#     if number== rand:\n",
    "#         print(\"Hoorray!! the number matches\")\n",
    "#         break\n",
    "#     else:\n",
    "#         print(\"Next guess please\")\n",
    "var=True\n",
    "while (var):\n",
    "    number = int(input(\"What's your guess\"))\n",
    "    if number==rand:\n",
    "        print(\"Hoorray!! the number matches\")\n",
    "        var=False\n",
    "    else:\n",
    "        print(\"Keep guessing\")"
   ]
  },
  {
   "cell_type": "code",
   "execution_count": 105,
   "id": "72231115-7f61-49fa-945d-40e39876e81d",
   "metadata": {},
   "outputs": [
    {
     "name": "stdin",
     "output_type": "stream",
     "text": [
      "please enter exit to exit exit\n"
     ]
    }
   ],
   "source": [
    "#example of while loop\n",
    "user_inp = input(\"please enter exit to exit\")\n",
    "var = True\n",
    "while (var):\n",
    "    if user_inp == \"exit\":\n",
    "        var = False\n",
    "    else:\n",
    "        user_inp = input(\"please enter exit to exit\")\n",
    "        "
   ]
  },
  {
   "cell_type": "code",
   "execution_count": 116,
   "id": "08bb9a1e-ee72-4d53-b535-fc14cb0375ab",
   "metadata": {},
   "outputs": [
    {
     "name": "stdout",
     "output_type": "stream",
     "text": [
      "16\n"
     ]
    },
    {
     "name": "stdin",
     "output_type": "stream",
     "text": [
      "Please enter any number 3\n"
     ]
    },
    {
     "name": "stdout",
     "output_type": "stream",
     "text": [
      "Keep guessing\n"
     ]
    },
    {
     "name": "stdin",
     "output_type": "stream",
     "text": [
      "Please enter any number 16\n"
     ]
    },
    {
     "name": "stdout",
     "output_type": "stream",
     "text": [
      "Correct guess\n"
     ]
    }
   ],
   "source": [
    "#### task................\n",
    "#guessing the number\n",
    "import random;\n",
    "rand = random.randint(0,20)\n",
    "print(rand)\n",
    "var= True\n",
    "while (var):\n",
    "    user_input= int(input(\"Please enter any number\"))\n",
    "    if user_input==rand:\n",
    "        print(\"Correct guess\")\n",
    "        var=False\n",
    "    else:\n",
    "        print(\"Keep guessing\")"
   ]
  },
  {
   "cell_type": "code",
   "execution_count": 118,
   "id": "b45786ec-4035-4548-be9b-09895e487a20",
   "metadata": {},
   "outputs": [
    {
     "name": "stdout",
     "output_type": "stream",
     "text": [
      "1\n",
      "2\n",
      "3\n",
      "4\n",
      "5\n"
     ]
    }
   ],
   "source": [
    "var = True\n",
    "num = 1\n",
    "while(var):\n",
    "    print(num)\n",
    "    if num == 5:\n",
    "        var = False\n",
    "    num = num + 1\n",
    "    "
   ]
  },
  {
   "cell_type": "code",
   "execution_count": 133,
   "id": "1f48cded-ff92-42c0-8478-3c971a66992d",
   "metadata": {},
   "outputs": [
    {
     "name": "stdout",
     "output_type": "stream",
     "text": [
      "1\n",
      "2\n",
      "3\n",
      "4\n",
      "5\n"
     ]
    }
   ],
   "source": [
    "num=1\n",
    "while(num<=5):\n",
    "    print(num)    \n",
    "    num+=1"
   ]
  },
  {
   "cell_type": "code",
   "execution_count": 138,
   "id": "6d5681a5-a13b-4298-995a-5e82df6257b0",
   "metadata": {},
   "outputs": [
    {
     "name": "stdin",
     "output_type": "stream",
     "text": [
      "Enter any number 5\n"
     ]
    },
    {
     "name": "stdout",
     "output_type": "stream",
     "text": [
      "1\n",
      "2\n",
      "3\n",
      "4\n",
      "5\n"
     ]
    }
   ],
   "source": [
    "user_input= int(input(\"Enter any number\"))\n",
    "number=1\n",
    "while (number<=user_input):\n",
    "    print(number)\n",
    "    number+= 1 # num = num + user"
   ]
  },
  {
   "cell_type": "code",
   "execution_count": null,
   "id": "da5f0d2c-7eeb-49c9-9638-b9cfbf046289",
   "metadata": {},
   "outputs": [],
   "source": []
  }
 ],
 "metadata": {
  "kernelspec": {
   "display_name": "Python 3 (ipykernel)",
   "language": "python",
   "name": "python3"
  },
  "language_info": {
   "codemirror_mode": {
    "name": "ipython",
    "version": 3
   },
   "file_extension": ".py",
   "mimetype": "text/x-python",
   "name": "python",
   "nbconvert_exporter": "python",
   "pygments_lexer": "ipython3",
   "version": "3.12.5"
  }
 },
 "nbformat": 4,
 "nbformat_minor": 5
}
