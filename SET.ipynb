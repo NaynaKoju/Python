{
 "cells": [
  {
   "cell_type": "code",
   "execution_count": 1,
   "id": "6d49678f-3b2e-4d9f-941b-f63d254f38cc",
   "metadata": {},
   "outputs": [
    {
     "name": "stdout",
     "output_type": "stream",
     "text": [
      "{1, 2, 3, 4} <class 'set'>\n"
     ]
    }
   ],
   "source": [
    "#SET...............\n",
    "s= {1,2,3,4}\n",
    "print (s, type(s))"
   ]
  },
  {
   "cell_type": "code",
   "execution_count": 4,
   "id": "c43488e0-487b-4f56-8087-8a43ea6fe4be",
   "metadata": {},
   "outputs": [
    {
     "name": "stdout",
     "output_type": "stream",
     "text": [
      "{1, 3, 4.5, 'hari', (7, 8, 9), 'ram'}\n"
     ]
    }
   ],
   "source": [
    "#unordered and unique collection\n",
    "s={1, \"hari\", 3, 4.5, \"ram\", (7,8,9), \"ram\", \"ram\", (7,8,9)}\n",
    "print (s)"
   ]
  },
  {
   "cell_type": "code",
   "execution_count": 6,
   "id": "ef7d2854-f5b6-46d5-949d-eccd2b2991c8",
   "metadata": {},
   "outputs": [
    {
     "ename": "TypeError",
     "evalue": "unhashable type: 'list'",
     "output_type": "error",
     "traceback": [
      "\u001b[1;31m---------------------------------------------------------------------------\u001b[0m",
      "\u001b[1;31mTypeError\u001b[0m                                 Traceback (most recent call last)",
      "Cell \u001b[1;32mIn[6], line 3\u001b[0m\n\u001b[0;32m      1\u001b[0m \u001b[38;5;66;03m#set vitra mutable data structure rakhna mildaina \u001b[39;00m\n\u001b[0;32m      2\u001b[0m \u001b[38;5;66;03m#cannot store mutable/ unhashable datastructure\u001b[39;00m\n\u001b[1;32m----> 3\u001b[0m s\u001b[38;5;241m=\u001b[39m{\u001b[38;5;241m1\u001b[39m, \u001b[38;5;124m\"\u001b[39m\u001b[38;5;124mhari\u001b[39m\u001b[38;5;124m\"\u001b[39m, \u001b[38;5;241m3\u001b[39m, \u001b[38;5;241m4.5\u001b[39m, \u001b[38;5;124m\"\u001b[39m\u001b[38;5;124mram\u001b[39m\u001b[38;5;124m\"\u001b[39m, (\u001b[38;5;241m7\u001b[39m,\u001b[38;5;241m8\u001b[39m,\u001b[38;5;241m9\u001b[39m), \u001b[38;5;124m\"\u001b[39m\u001b[38;5;124mram\u001b[39m\u001b[38;5;124m\"\u001b[39m, \u001b[38;5;124m\"\u001b[39m\u001b[38;5;124mram\u001b[39m\u001b[38;5;124m\"\u001b[39m, (\u001b[38;5;241m7\u001b[39m,\u001b[38;5;241m8\u001b[39m,\u001b[38;5;241m9\u001b[39m), [\u001b[38;5;241m1\u001b[39m,\u001b[38;5;241m2\u001b[39m,\u001b[38;5;241m3\u001b[39m,\u001b[38;5;241m4\u001b[39m]}\n\u001b[0;32m      4\u001b[0m \u001b[38;5;28mprint\u001b[39m (s)\n",
      "\u001b[1;31mTypeError\u001b[0m: unhashable type: 'list'"
     ]
    }
   ],
   "source": [
    "#set vitra mutable data structure rakhna mildaina \n",
    "#cannot store mutable/ unhashable datastructure = [list haru]\n",
    "s={1, \"hari\", 3, 4.5, \"ram\", (7,8,9), \"ram\", \"ram\", (7,8,9), [1,2,3,4]}\n",
    "print (s)"
   ]
  },
  {
   "cell_type": "code",
   "execution_count": 7,
   "id": "76822e72-49da-45cf-ab44-707e04f6c373",
   "metadata": {},
   "outputs": [],
   "source": [
    "empty_string = '' # str()\n",
    "empty_list  = [] # list()\n",
    "empty_tuple = () #tuple()\n",
    "empty_dict = {} #dict()\n",
    "empty_set = set()"
   ]
  },
  {
   "cell_type": "code",
   "execution_count": 8,
   "id": "bda4da1d-3e9c-49f5-a597-6fd4419baf40",
   "metadata": {},
   "outputs": [
    {
     "name": "stdout",
     "output_type": "stream",
     "text": [
      "{'sita', 'hari', 'gita', 'ram', 'shyam'}\n"
     ]
    }
   ],
   "source": [
    "tea = {\"ram\", \"hari\", \"sita\"}\n",
    "coffee= {\"shyam\", \"sita\", \"gita\"}\n",
    "tea_or_coffee = tea | coffee #union\n",
    "print (tea_or_coffee)"
   ]
  },
  {
   "cell_type": "code",
   "execution_count": 9,
   "id": "77c870df-bf6a-4d59-9cc5-f7b927b918ab",
   "metadata": {},
   "outputs": [
    {
     "name": "stdout",
     "output_type": "stream",
     "text": [
      "{'sita', 'hari', 'gita', 'ram', 'shyam'}\n"
     ]
    }
   ],
   "source": [
    "tea = {\"ram\", \"hari\", \"sita\"}\n",
    "coffee= {\"shyam\", \"sita\", \"gita\"}\n",
    "tea_or_coffee = tea.union (coffee) #union\n",
    "print (tea_or_coffee)\n"
   ]
  },
  {
   "cell_type": "code",
   "execution_count": 10,
   "id": "224be56a-7c90-46c5-b1b2-cad65fc728e1",
   "metadata": {},
   "outputs": [
    {
     "name": "stdout",
     "output_type": "stream",
     "text": [
      "{'sita'}\n"
     ]
    }
   ],
   "source": [
    "tea = {\"ram\", \"hari\", \"sita\"}\n",
    "coffee= {\"shyam\", \"sita\", \"gita\"}\n",
    "tea_and_coffee = tea & coffee #intersection\n",
    "print (tea_and_coffee)"
   ]
  },
  {
   "cell_type": "code",
   "execution_count": 11,
   "id": "270f2c3d-1d5b-4819-8b43-a8f8fd5c613d",
   "metadata": {},
   "outputs": [
    {
     "name": "stdout",
     "output_type": "stream",
     "text": [
      "{'sita'}\n"
     ]
    }
   ],
   "source": [
    "tea = {\"ram\", \"hari\", \"sita\"}\n",
    "coffee= {\"shyam\", \"sita\", \"gita\"}\n",
    "tea_and_coffee = tea.intersection(coffee) #intersection\n",
    "print (tea_and_coffee)"
   ]
  },
  {
   "cell_type": "code",
   "execution_count": 13,
   "id": "734569e4-0389-4bb7-bad6-d2766ed1f03d",
   "metadata": {},
   "outputs": [
    {
     "name": "stdout",
     "output_type": "stream",
     "text": [
      "{'ram', 'hari'}\n"
     ]
    }
   ],
   "source": [
    "tea = {\"ram\", \"hari\", \"sita\"}\n",
    "coffee= {\"shyam\", \"sita\", \"gita\"}\n",
    "tea_only = tea - coffee #difference\n",
    "print (tea_only)"
   ]
  },
  {
   "cell_type": "code",
   "execution_count": 14,
   "id": "94f97f8f-e3df-4d4f-bda4-dae5477fba3d",
   "metadata": {},
   "outputs": [
    {
     "name": "stdout",
     "output_type": "stream",
     "text": [
      "{'ram', 'hari'}\n"
     ]
    }
   ],
   "source": [
    "tea = {\"ram\", \"hari\", \"sita\"}\n",
    "coffee= {\"shyam\", \"sita\", \"gita\"}\n",
    "tea_only = tea.difference(coffee) #difference\n",
    "print (tea_only)"
   ]
  },
  {
   "cell_type": "code",
   "execution_count": 15,
   "id": "4d44a3d4-bc8d-4d5b-9908-35b4a157ccee",
   "metadata": {},
   "outputs": [
    {
     "name": "stdout",
     "output_type": "stream",
     "text": [
      "{'hari', 'shyam', 'gita', 'ram'}\n"
     ]
    }
   ],
   "source": [
    "#tea matra khane/ coffee matra khane (symmetric difference)\n",
    "tea = {\"ram\", \"hari\", \"sita\"}\n",
    "coffee= {\"shyam\", \"sita\", \"gita\"}\n",
    "tea_only_or_coffee_only = tea.symmetric_difference(coffee) #symmetric_difference\n",
    "print (tea_only_or_coffee_only)"
   ]
  },
  {
   "cell_type": "code",
   "execution_count": 21,
   "id": "a4c53805-1b31-412b-a58f-a048a6ea7c8d",
   "metadata": {},
   "outputs": [
    {
     "name": "stdout",
     "output_type": "stream",
     "text": [
      "{1, 3, 4.5, 'hari', (7, 8, 9), 'ram', '33'}\n"
     ]
    }
   ],
   "source": [
    "#value thapna lai #add\n",
    "s={1, \"hari\", 3, 4.5, \"ram\", (7,8,9), \"ram\", \"ram\", (7,8,9)}\n",
    "s.add(\"33\")\n",
    "print (s)"
   ]
  },
  {
   "cell_type": "code",
   "execution_count": 22,
   "id": "fab106d4-3cb2-449c-b80b-5eeec2942565",
   "metadata": {},
   "outputs": [],
   "source": [
    "#help(add)"
   ]
  },
  {
   "cell_type": "code",
   "execution_count": 23,
   "id": "43a5108f-5bb2-432f-8f4c-ee7dedaf144b",
   "metadata": {},
   "outputs": [
    {
     "name": "stdout",
     "output_type": "stream",
     "text": [
      "set()\n"
     ]
    }
   ],
   "source": [
    "s={1, \"hari\", 3, 4.5, \"ram\", (7,8,9), \"ram\", \"ram\", (7,8,9)}\n",
    "s.clear()\n",
    "print (s)"
   ]
  },
  {
   "cell_type": "code",
   "execution_count": 24,
   "id": "11dafde2-8f5d-4394-8d3d-b436b6a58a84",
   "metadata": {},
   "outputs": [
    {
     "name": "stdout",
     "output_type": "stream",
     "text": [
      "{1, 3, 4.5, 'hari', (7, 8, 9), 'ram', (1, 2, 3)}\n"
     ]
    }
   ],
   "source": [
    "s={1, \"hari\", 3, 4.5, \"ram\", (7,8,9), \"ram\", \"ram\", (7,8,9)}\n",
    "s.add((1,2,3)) #tuple add garya\n",
    "print (s)"
   ]
  },
  {
   "cell_type": "code",
   "execution_count": 26,
   "id": "54a7c00e-5bbe-45c2-8670-92a81cdc7e6e",
   "metadata": {},
   "outputs": [
    {
     "name": "stdout",
     "output_type": "stream",
     "text": [
      "{1, 3, 4.5, 10, 11, 22, 'hari', (7, 8, 9), 'ram'}\n"
     ]
    }
   ],
   "source": [
    "s={1, \"hari\", 3, 4.5, \"ram\", (7,8,9), \"ram\", \"ram\", (7,8,9)}\n",
    "s.update((10,22,11))\n",
    "print (s)"
   ]
  },
  {
   "cell_type": "code",
   "execution_count": 30,
   "id": "1c77e293-16ce-4153-8190-88afe4c0a5eb",
   "metadata": {},
   "outputs": [
    {
     "name": "stdout",
     "output_type": "stream",
     "text": [
      "{1, 3, 'hari', (7, 8, 9), 'ram'}\n"
     ]
    }
   ],
   "source": [
    "s={1, \"hari\", 3, 4.5, \"ram\", (7,8,9), \"ram\", \"ram\", (7,8,9)}\n",
    "s.remove((4.5))  \n",
    "print (s)"
   ]
  },
  {
   "cell_type": "code",
   "execution_count": 31,
   "id": "76b6d12b-ee80-44dd-8951-5c12f15d01b6",
   "metadata": {},
   "outputs": [
    {
     "ename": "KeyError",
     "evalue": "44",
     "output_type": "error",
     "traceback": [
      "\u001b[1;31m---------------------------------------------------------------------------\u001b[0m",
      "\u001b[1;31mKeyError\u001b[0m                                  Traceback (most recent call last)",
      "Cell \u001b[1;32mIn[31], line 3\u001b[0m\n\u001b[0;32m      1\u001b[0m \u001b[38;5;66;03m#navako item remove garna khojda key error aucha\u001b[39;00m\n\u001b[0;32m      2\u001b[0m s\u001b[38;5;241m=\u001b[39m{\u001b[38;5;241m1\u001b[39m, \u001b[38;5;124m\"\u001b[39m\u001b[38;5;124mhari\u001b[39m\u001b[38;5;124m\"\u001b[39m, \u001b[38;5;241m3\u001b[39m, \u001b[38;5;241m4.5\u001b[39m, \u001b[38;5;124m\"\u001b[39m\u001b[38;5;124mram\u001b[39m\u001b[38;5;124m\"\u001b[39m, (\u001b[38;5;241m7\u001b[39m,\u001b[38;5;241m8\u001b[39m,\u001b[38;5;241m9\u001b[39m), \u001b[38;5;124m\"\u001b[39m\u001b[38;5;124mram\u001b[39m\u001b[38;5;124m\"\u001b[39m, \u001b[38;5;124m\"\u001b[39m\u001b[38;5;124mram\u001b[39m\u001b[38;5;124m\"\u001b[39m, (\u001b[38;5;241m7\u001b[39m,\u001b[38;5;241m8\u001b[39m,\u001b[38;5;241m9\u001b[39m)}\n\u001b[1;32m----> 3\u001b[0m \u001b[43ms\u001b[49m\u001b[38;5;241;43m.\u001b[39;49m\u001b[43mremove\u001b[49m\u001b[43m(\u001b[49m\u001b[43m(\u001b[49m\u001b[38;5;241;43m44\u001b[39;49m\u001b[43m)\u001b[49m\u001b[43m)\u001b[49m \n\u001b[0;32m      4\u001b[0m \u001b[38;5;28mprint\u001b[39m (s)\n",
      "\u001b[1;31mKeyError\u001b[0m: 44"
     ]
    }
   ],
   "source": [
    " #navako item remove garna khojda key error aucha\n",
    "s={1, \"hari\", 3, 4.5, \"ram\", (7,8,9), \"ram\", \"ram\", (7,8,9)}\n",
    "s.remove((44)) \n",
    "print (s)"
   ]
  },
  {
   "cell_type": "code",
   "execution_count": 32,
   "id": "ade3a91c-e8d0-4e10-a727-87ddb984503a",
   "metadata": {},
   "outputs": [
    {
     "name": "stdout",
     "output_type": "stream",
     "text": [
      "{1, 3, 4.5, 'hari', (7, 8, 9), 'ram'}\n"
     ]
    }
   ],
   "source": [
    "#discard le chai navako element hatauna khojda pani error audaina\n",
    "s={1, \"hari\", 3, 4.5, \"ram\", (7,8,9), \"ram\", \"ram\", (7,8,9)}\n",
    "s.discard((44))  \n",
    "print (s)"
   ]
  },
  {
   "cell_type": "code",
   "execution_count": 33,
   "id": "5102a7e3-44e4-46b4-8849-2a764f8a257a",
   "metadata": {},
   "outputs": [
    {
     "name": "stdout",
     "output_type": "stream",
     "text": [
      "{1, 3, 'hari', (7, 8, 9), 'ram'}\n"
     ]
    }
   ],
   "source": [
    "s={1, \"hari\", 3, 4.5, \"ram\", (7,8,9), \"ram\", \"ram\", (7,8,9)}\n",
    "s.discard((4.5))  \n",
    "print (s)"
   ]
  },
  {
   "cell_type": "code",
   "execution_count": 34,
   "id": "96f666a2-ea0a-4c4a-83f2-153a59c3009d",
   "metadata": {},
   "outputs": [
    {
     "name": "stdout",
     "output_type": "stream",
     "text": [
      "{3, 4.5, 'hari', (7, 8, 9), 'ram'}\n"
     ]
    }
   ],
   "source": [
    "#pop le data hataucha tara random hataidincha\n",
    "s={1, \"hari\", 3, 4.5, \"ram\", (7,8,9), \"ram\", \"ram\", (7,8,9)}\n",
    "s.pop()  \n",
    "print (s)"
   ]
  },
  {
   "cell_type": "code",
   "execution_count": 37,
   "id": "8a08ca95-d769-4935-88c6-379848f29024",
   "metadata": {},
   "outputs": [
    {
     "data": {
      "text/plain": [
       "1"
      ]
     },
     "execution_count": 37,
     "metadata": {},
     "output_type": "execute_result"
    }
   ],
   "source": [
    "#list ko max, min, sum valie herna lai\n",
    "x= [1,2,3,4,5]\n",
    "min(x)"
   ]
  },
  {
   "cell_type": "code",
   "execution_count": 38,
   "id": "987a186c-6972-42af-84ce-31a7c36fc93a",
   "metadata": {},
   "outputs": [
    {
     "data": {
      "text/plain": [
       "5"
      ]
     },
     "execution_count": 38,
     "metadata": {},
     "output_type": "execute_result"
    }
   ],
   "source": [
    "x= [1,2,3,4,5]\n",
    "max(x)"
   ]
  },
  {
   "cell_type": "code",
   "execution_count": 40,
   "id": "d858b387-e0bd-4de3-a511-fb63307a3e0a",
   "metadata": {},
   "outputs": [
    {
     "data": {
      "text/plain": [
       "15"
      ]
     },
     "execution_count": 40,
     "metadata": {},
     "output_type": "execute_result"
    }
   ],
   "source": [
    "x= [1,2,3,4,5]\n",
    "sum(x)"
   ]
  },
  {
   "cell_type": "code",
   "execution_count": 42,
   "id": "19442dc6-6878-4053-acfc-ac5f53382a6f",
   "metadata": {},
   "outputs": [
    {
     "data": {
      "text/plain": [
       "[1, 2, 3, 7, 9, 73, 77]"
      ]
     },
     "execution_count": 42,
     "metadata": {},
     "output_type": "execute_result"
    }
   ],
   "source": [
    "# ascending order\n",
    "x= [2,77,7,1,9,3, 73]\n",
    "sorted(x)"
   ]
  },
  {
   "cell_type": "code",
   "execution_count": 43,
   "id": "1be3f66c-5bf9-4a4d-9f4f-f7b6193791ff",
   "metadata": {},
   "outputs": [
    {
     "data": {
      "text/plain": [
       "[77, 73, 9, 7, 3, 2, 1]"
      ]
     },
     "execution_count": 43,
     "metadata": {},
     "output_type": "execute_result"
    }
   ],
   "source": [
    "# descending order\n",
    "x= [2,77,7,1,9,3, 73]\n",
    "sorted(x, reverse= True)"
   ]
  },
  {
   "cell_type": "code",
   "execution_count": 46,
   "id": "57b12268-f3a5-4ddc-86b5-8a5c8cfd7b1b",
   "metadata": {},
   "outputs": [
    {
     "data": {
      "text/plain": [
       "7"
      ]
     },
     "execution_count": 46,
     "metadata": {},
     "output_type": "execute_result"
    }
   ],
   "source": [
    "x= [2,77,7,1,9,3,73]\n",
    "len(x)"
   ]
  }
 ],
 "metadata": {
  "kernelspec": {
   "display_name": "Python 3 (ipykernel)",
   "language": "python",
   "name": "python3"
  },
  "language_info": {
   "codemirror_mode": {
    "name": "ipython",
    "version": 3
   },
   "file_extension": ".py",
   "mimetype": "text/x-python",
   "name": "python",
   "nbconvert_exporter": "python",
   "pygments_lexer": "ipython3",
   "version": "3.12.5"
  }
 },
 "nbformat": 4,
 "nbformat_minor": 5
}
