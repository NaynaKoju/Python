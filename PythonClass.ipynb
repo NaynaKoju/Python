{
 "cells": [
  {
   "cell_type": "code",
   "execution_count": 1,
   "id": "b738578e-9a1c-4747-8a74-97607dcc955b",
   "metadata": {},
   "outputs": [
    {
     "name": "stdout",
     "output_type": "stream",
     "text": [
      "6\n",
      "2.0\n",
      "(2.7-4j)\n",
      "2.0\n"
     ]
    }
   ],
   "source": [
    "x=2                       #variable => value store => number => integer datatype/ datastructure\n",
    "y=4                       #variable => value store => number => integer datatype/ datastructure\n",
    "z= 1 + 4j                 #complex\n",
    "a= 3.7                    #float\n",
    "u= \"ram\"                  # both single or double quotation supported\n",
    "sum= x+y\n",
    "print (sum)\n",
    "divide = y/x\n",
    "print (divide)\n",
    "subtract = a-z\n",
    "print (subtract)\n",
    "modulus = y/x\n",
    "print (modulus)"
   ]
  },
  {
   "cell_type": "code",
   "execution_count": 2,
   "id": "d8bc1860-d28e-49b4-a3d6-bb007864326f",
   "metadata": {},
   "outputs": [],
   "source": [
    "gravity_of_earth = 9.8 #float"
   ]
  },
  {
   "cell_type": "code",
   "execution_count": 3,
   "id": "7d4a3c53-fdbc-49df-86ab-f01bcc134581",
   "metadata": {},
   "outputs": [],
   "source": [
    "g = 9.8"
   ]
  },
  {
   "cell_type": "code",
   "execution_count": 4,
   "id": "63b2a9d2-7e4b-4ef7-9b7c-bfa35243ae75",
   "metadata": {},
   "outputs": [],
   "source": [
    "#binary, octal, decimal,hexadecimal\n",
    "a= 0b1010  #binary literals => 2 digits 0,1\n",
    "b= 100     #decimal literals => 10 digits 0-9\n",
    "c= 0o310   # octal literals  => 8 digits  0-7\n",
    "d= 0x12cd  # hexadecimal literal => 16 digit 0-9 a-f"
   ]
  },
  {
   "cell_type": "code",
   "execution_count": 5,
   "id": "87fcf97f-b4e5-45b5-879f-831df52e950f",
   "metadata": {},
   "outputs": [
    {
     "name": "stdout",
     "output_type": "stream",
     "text": [
      "10 100 200 4813\n"
     ]
    }
   ],
   "source": [
    "print (a, b, c, d)"
   ]
  },
  {
   "cell_type": "code",
   "execution_count": 6,
   "id": "d625501c-7482-4707-9536-4db06cbedd3c",
   "metadata": {},
   "outputs": [],
   "source": [
    "a= 1.5"
   ]
  },
  {
   "cell_type": "code",
   "execution_count": 7,
   "id": "d5faa77c-946e-49c6-8ab5-620c4a572e6a",
   "metadata": {},
   "outputs": [
    {
     "name": "stdout",
     "output_type": "stream",
     "text": [
      "<class 'float'>\n"
     ]
    }
   ],
   "source": [
    "print (type (a))"
   ]
  },
  {
   "cell_type": "code",
   "execution_count": 8,
   "id": "6120c1f1-7900-451e-936c-22aca87b7c72",
   "metadata": {},
   "outputs": [
    {
     "name": "stdout",
     "output_type": "stream",
     "text": [
      "<class 'int'>\n"
     ]
    }
   ],
   "source": [
    "s= 1\n",
    "print (type(s))"
   ]
  },
  {
   "cell_type": "code",
   "execution_count": 9,
   "id": "cab8ed3b-cb5d-4f3b-b860-d6fa82324a8b",
   "metadata": {},
   "outputs": [],
   "source": [
    "# dynamically typed language => run time mai value(datatype of variable) change hune vayera"
   ]
  },
  {
   "cell_type": "code",
   "execution_count": 10,
   "id": "76bcabae-ea3a-4862-a69f-a213ab027786",
   "metadata": {},
   "outputs": [
    {
     "name": "stdout",
     "output_type": "stream",
     "text": [
      "2108710845680\n"
     ]
    }
   ],
   "source": [
    "a= \"ram\"\n",
    "print (id (a))"
   ]
  },
  {
   "cell_type": "code",
   "execution_count": 11,
   "id": "0d338ec9-5cfa-447c-88b7-c61a8ea35bc6",
   "metadata": {},
   "outputs": [
    {
     "name": "stdout",
     "output_type": "stream",
     "text": [
      "2108687981808\n"
     ]
    }
   ],
   "source": [
    "a= 2.6\n",
    "print (id (a))"
   ]
  },
  {
   "cell_type": "code",
   "execution_count": 12,
   "id": "6cffc51c-71ab-4a45-8a8c-c2a4eead2be9",
   "metadata": {},
   "outputs": [],
   "source": [
    "#garbage collected language => a vanne ram ko value aafai hataucha 2.6 ko value/ jun last ma deko cha tei value ko address matrai point garcha"
   ]
  },
  {
   "cell_type": "code",
   "execution_count": 13,
   "id": "d53754ec-845c-4766-9848-80c16a2ac29b",
   "metadata": {},
   "outputs": [
    {
     "name": "stdout",
     "output_type": "stream",
     "text": [
      "<class 'str'>\n"
     ]
    }
   ],
   "source": [
    "r= \"ramesh\"\n",
    "print (type(r))"
   ]
  },
  {
   "cell_type": "code",
   "execution_count": 14,
   "id": "a104f52b-0a1c-422a-a1a0-83824c1499fd",
   "metadata": {},
   "outputs": [
    {
     "name": "stdout",
     "output_type": "stream",
     "text": [
      "<class 'str'>\n"
     ]
    }
   ],
   "source": [
    "r= 'ramesh'\n",
    "print (type (r))"
   ]
  },
  {
   "cell_type": "code",
   "execution_count": 15,
   "id": "e416d36d-e948-49df-8114-75e0d9aa659c",
   "metadata": {},
   "outputs": [
    {
     "name": "stdout",
     "output_type": "stream",
     "text": [
      "<class 'str'>\n"
     ]
    }
   ],
   "source": [
    "r= \"\"\"ramesh\"\"\"\n",
    "print (type (r))"
   ]
  },
  {
   "cell_type": "code",
   "execution_count": 17,
   "id": "8e568507-a8d2-45f5-81ad-65ced768be1f",
   "metadata": {},
   "outputs": [
    {
     "name": "stdout",
     "output_type": "stream",
     "text": [
      "True <class 'bool'>\n"
     ]
    }
   ],
   "source": [
    "#boolean\n",
    "x= True \n",
    "print (x,type(x))"
   ]
  },
  {
   "cell_type": "code",
   "execution_count": 18,
   "id": "cafe9b43-1f1e-4464-a744-80a93094be88",
   "metadata": {},
   "outputs": [
    {
     "name": "stdout",
     "output_type": "stream",
     "text": [
      "False <class 'bool'>\n"
     ]
    }
   ],
   "source": [
    "x= False \n",
    "print (x, type(x))"
   ]
  },
  {
   "cell_type": "code",
   "execution_count": 19,
   "id": "a5a02984-db18-4bc7-a980-af5e83ca7fed",
   "metadata": {},
   "outputs": [
    {
     "name": "stdout",
     "output_type": "stream",
     "text": [
      "[1, 2, 3, 4] <class 'list'>\n"
     ]
    }
   ],
   "source": [
    "#list datatype are muteble\n",
    "x= [1,2,3,4]\n",
    "print (x, type(x))"
   ]
  },
  {
   "cell_type": "code",
   "execution_count": 20,
   "id": "bfff085e-19ac-465e-ad29-d9b35ae85ca0",
   "metadata": {},
   "outputs": [
    {
     "name": "stdout",
     "output_type": "stream",
     "text": [
      "(1, 2, 3, 4) <class 'tuple'>\n"
     ]
    }
   ],
   "source": [
    "#tuple datatype are immutable\n",
    "x= (1,2,3,4)\n",
    "print (x, type(x))"
   ]
  },
  {
   "cell_type": "code",
   "execution_count": 21,
   "id": "2d0b3b91-350d-410a-89a2-1c596aabdfde",
   "metadata": {},
   "outputs": [
    {
     "name": "stdout",
     "output_type": "stream",
     "text": [
      "{1, 2, 3, 4} <class 'set'>\n"
     ]
    }
   ],
   "source": [
    "#set datatype only contains unique values\n",
    "x= {1,2,3,4}\n",
    "print (x, type(x))"
   ]
  },
  {
   "cell_type": "code",
   "execution_count": 22,
   "id": "4120f068-8427-494e-9245-fa86baf6f1d8",
   "metadata": {},
   "outputs": [
    {
     "name": "stdout",
     "output_type": "stream",
     "text": [
      "{'name': 'ram', 'age': 22, 'address': 'ktm'} <class 'dict'>\n"
     ]
    }
   ],
   "source": [
    "#dictionary datatype\n",
    "person= {\n",
    "    \"name\":\"ram\", #key value pair with comma seperated\n",
    "    \"age\" : 22,\n",
    "    \"address\" : \"ktm\" #last comma is optional \n",
    "}\n",
    "print (person, type(person))"
   ]
  },
  {
   "cell_type": "code",
   "execution_count": 23,
   "id": "a9200cb1-d53f-4433-8d7b-5f16ab37881e",
   "metadata": {},
   "outputs": [
    {
     "name": "stdout",
     "output_type": "stream",
     "text": [
      "welcome to python course. \n",
      " i am nayna. \n",
      " hello everyone \n"
     ]
    }
   ],
   "source": [
    "#return statement \\n\n",
    "s= \"welcome to python course. \\n i am nayna. \\n hello everyone \" #line break dina lai \\n\n",
    "print (s)"
   ]
  },
  {
   "cell_type": "markdown",
   "id": "a35ef425-1a90-4439-9437-22b47cfb63ea",
   "metadata": {},
   "source": [
    "# MULTILINE STRING => \\n ko satta tinwota quotation rakhna milcha"
   ]
  },
  {
   "cell_type": "code",
   "execution_count": 1,
   "id": "001fc92d-3a9f-4f44-85df-c04ecb5677b4",
   "metadata": {},
   "outputs": [
    {
     "name": "stdout",
     "output_type": "stream",
     "text": [
      "welcome to python class.\n",
      "python is dynamically typed language. \n",
      "learn it.\n"
     ]
    }
   ],
   "source": [
    "s= \"\"\"welcome to python class.\n",
    "python is dynamically typed language. \n",
    "learn it.\"\"\"\n",
    "print (s)"
   ]
  },
  {
   "cell_type": "code",
   "execution_count": 27,
   "id": "40f1a002-07c4-40d9-93f6-5555172a7e74",
   "metadata": {},
   "outputs": [
    {
     "name": "stdout",
     "output_type": "stream",
     "text": [
      "welcome to python course. \\n i am nayna. \\n hello everyone \n"
     ]
    }
   ],
   "source": [
    "s= \"welcome to python course. \\\\n i am nayna. \\\\n hello everyone \" #\\n pani print garnu paryo vane double slash\n",
    "print (s)"
   ]
  },
  {
   "cell_type": "code",
   "execution_count": 28,
   "id": "b872551a-4bc0-4421-ae1d-6b95f66508eb",
   "metadata": {},
   "outputs": [
    {
     "name": "stdout",
     "output_type": "stream",
     "text": [
      "welcome to python course. \\n i am nayna. \\n hello everyone \n"
     ]
    }
   ],
   "source": [
    "#raw string => j cha tei print garne\n",
    "s= r\"welcome to python course. \\n i am nayna. \\n hello everyone \"\n",
    "print (s)"
   ]
  },
  {
   "cell_type": "code",
   "execution_count": 29,
   "id": "8df687b4-0ebc-4b64-92c0-fadb7c36f1b3",
   "metadata": {},
   "outputs": [
    {
     "name": "stdin",
     "output_type": "stream",
     "text": [
      "Enter the value of x: 2\n",
      "Enter the value of y: 3\n"
     ]
    },
    {
     "name": "stdout",
     "output_type": "stream",
     "text": [
      "5\n"
     ]
    }
   ],
   "source": [
    "#user sanga input magna lai\n",
    "x= input(\"Enter the value of x:\")\n",
    "y= input(\"Enter the value of y:\")\n",
    "\n",
    "sum = int(x)+ int(y)\n",
    "print (sum)"
   ]
  },
  {
   "cell_type": "code",
   "execution_count": 31,
   "id": "53eeffed-7224-4bd5-a4d4-0d754a73b3c0",
   "metadata": {},
   "outputs": [
    {
     "name": "stdout",
     "output_type": "stream",
     "text": [
      "So your name is nayna koju\n"
     ]
    }
   ],
   "source": [
    "first_name=\"nayna\"\n",
    "last_name= \"koju\"\n",
    "full_name= first_name + \" \" + last_name #concatenation\n",
    "print (\"So your name is\" + \" \" + full_name)"
   ]
  },
  {
   "cell_type": "code",
   "execution_count": 32,
   "id": "6cfae645-aac6-4fb7-a975-4a196dcb876b",
   "metadata": {},
   "outputs": [
    {
     "name": "stdin",
     "output_type": "stream",
     "text": [
      "enter your first name Nayna\n",
      "enter last name Koju\n"
     ]
    },
    {
     "name": "stdout",
     "output_type": "stream",
     "text": [
      "Nayna Koju\n"
     ]
    }
   ],
   "source": [
    "first_name=input (\"enter your first name\")\n",
    "last_name= input(\"enter last name\")\n",
    "full_name= first_name + \" \" + last_name #concatenation\n",
    "print (full_name)"
   ]
  },
  {
   "cell_type": "code",
   "execution_count": 33,
   "id": "bbf12d98-d088-4d57-9514-7afe4213003c",
   "metadata": {},
   "outputs": [
    {
     "data": {
      "text/plain": [
       "5.0"
      ]
     },
     "execution_count": 33,
     "metadata": {},
     "output_type": "execute_result"
    }
   ],
   "source": [
    "#type conversion\n",
    "float(5)"
   ]
  },
  {
   "cell_type": "code",
   "execution_count": 34,
   "id": "f4e7c6da-18d3-4192-af94-3b0e24937eac",
   "metadata": {},
   "outputs": [
    {
     "data": {
      "text/plain": [
       "2"
      ]
     },
     "execution_count": 34,
     "metadata": {},
     "output_type": "execute_result"
    }
   ],
   "source": [
    "int(2.5)"
   ]
  },
  {
   "cell_type": "code",
   "execution_count": 35,
   "id": "604c9c68-061c-4b33-b0b5-031013ec4ae1",
   "metadata": {},
   "outputs": [
    {
     "data": {
      "text/plain": [
       "'2'"
      ]
     },
     "execution_count": 35,
     "metadata": {},
     "output_type": "execute_result"
    }
   ],
   "source": [
    "str(2)"
   ]
  },
  {
   "cell_type": "code",
   "execution_count": 36,
   "id": "dae9f023-6439-49e4-922c-b75eb81393c2",
   "metadata": {},
   "outputs": [
    {
     "ename": "ValueError",
     "evalue": "invalid literal for int() with base 10: '1p'",
     "output_type": "error",
     "traceback": [
      "\u001b[1;31m---------------------------------------------------------------------------\u001b[0m",
      "\u001b[1;31mValueError\u001b[0m                                Traceback (most recent call last)",
      "Cell \u001b[1;32mIn[36], line 2\u001b[0m\n\u001b[0;32m      1\u001b[0m \u001b[38;5;66;03m#CONVERSION TO AND FROM STRING MUST CONTAIN COMPATIBLE VALUES\u001b[39;00m\n\u001b[1;32m----> 2\u001b[0m \u001b[38;5;28;43mint\u001b[39;49m\u001b[43m(\u001b[49m\u001b[38;5;124;43m\"\u001b[39;49m\u001b[38;5;124;43m1p\u001b[39;49m\u001b[38;5;124;43m\"\u001b[39;49m\u001b[43m)\u001b[49m\n",
      "\u001b[1;31mValueError\u001b[0m: invalid literal for int() with base 10: '1p'"
     ]
    }
   ],
   "source": [
    "#CONVERSION TO AND FROM STRING MUST CONTAIN COMPATIBLE VALUES\n",
    "int(\"1p\")"
   ]
  },
  {
   "cell_type": "code",
   "execution_count": 37,
   "id": "daaf04ba-e075-4a30-a477-79e17cbb017a",
   "metadata": {},
   "outputs": [
    {
     "name": "stdin",
     "output_type": "stream",
     "text": [
      "Enter the value of P: 2222\n",
      "Enter the value of T: 2\n",
      "Enter the value of R: 2\n"
     ]
    },
    {
     "name": "stdout",
     "output_type": "stream",
     "text": [
      "88.88\n"
     ]
    }
   ],
   "source": [
    "P= int(input(\"Enter the value of P:\"))\n",
    "T= int(input(\"Enter the value of T:\"))\n",
    "R= int(input(\"Enter the value of R:\"))\n",
    "\n",
    "Simple_Interest = (P*T*R)/100\n",
    "print (Simple_Interest)"
   ]
  },
  {
   "cell_type": "code",
   "execution_count": 38,
   "id": "48e9f85b-e9b2-4a03-a947-3cad62e958b9",
   "metadata": {},
   "outputs": [
    {
     "name": "stdin",
     "output_type": "stream",
     "text": [
      "Enter the value of P: 555\n",
      "Enter the value of T: 33\n",
      "ETnter the value of R: 3\n"
     ]
    },
    {
     "name": "stdout",
     "output_type": "stream",
     "text": [
      "the simple interest is: 549.45 /- only\n"
     ]
    }
   ],
   "source": [
    "#f-string interpolation\n",
    "P= int(input(\"Enter the value of P:\"))\n",
    "T= int(input(\"Enter the value of T:\"))\n",
    "R= int(input(\"ETnter the value of R:\"))\n",
    "\n",
    "Simple_Interest = (P*T*R)/100\n",
    "print (f\"the simple interest is: {Simple_Interest} /- only\")"
   ]
  },
  {
   "cell_type": "code",
   "execution_count": 39,
   "id": "66313c24-e634-4c16-8cd4-2290bb1ab4a0",
   "metadata": {},
   "outputs": [
    {
     "data": {
      "text/plain": [
       "1"
      ]
     },
     "execution_count": 39,
     "metadata": {},
     "output_type": "execute_result"
    }
   ],
   "source": [
    "4%3 #modulus remainder operator"
   ]
  },
  {
   "cell_type": "code",
   "execution_count": 40,
   "id": "2f403975-63d0-491c-b5bb-25c23f039646",
   "metadata": {},
   "outputs": [
    {
     "data": {
      "text/plain": [
       "2.5"
      ]
     },
     "execution_count": 40,
     "metadata": {},
     "output_type": "execute_result"
    }
   ],
   "source": [
    "5/2"
   ]
  },
  {
   "cell_type": "code",
   "execution_count": 41,
   "id": "28760691-5a2c-421e-b64e-5de69c65aeae",
   "metadata": {},
   "outputs": [
    {
     "data": {
      "text/plain": [
       "2"
      ]
     },
     "execution_count": 41,
     "metadata": {},
     "output_type": "execute_result"
    }
   ],
   "source": [
    "5//2 #floor division/ integer division"
   ]
  },
  {
   "cell_type": "code",
   "execution_count": 42,
   "id": "14a8fd45-01bc-4951-978f-a18ac2fb095f",
   "metadata": {},
   "outputs": [
    {
     "data": {
      "text/plain": [
       "4"
      ]
     },
     "execution_count": 42,
     "metadata": {},
     "output_type": "execute_result"
    }
   ],
   "source": [
    "#power operators\n",
    "2**2"
   ]
  },
  {
   "cell_type": "code",
   "execution_count": 43,
   "id": "8fe289a8-d296-48d4-a138-cd53562a4e3f",
   "metadata": {},
   "outputs": [
    {
     "data": {
      "text/plain": [
       "8"
      ]
     },
     "execution_count": 43,
     "metadata": {},
     "output_type": "execute_result"
    }
   ],
   "source": [
    "2**3"
   ]
  },
  {
   "cell_type": "code",
   "execution_count": 44,
   "id": "26daabd7-c171-43c3-b727-158aecf233f0",
   "metadata": {},
   "outputs": [
    {
     "data": {
      "text/plain": [
       "16"
      ]
     },
     "execution_count": 44,
     "metadata": {},
     "output_type": "execute_result"
    }
   ],
   "source": [
    "2**4"
   ]
  },
  {
   "cell_type": "code",
   "execution_count": 45,
   "id": "3702fb4e-918f-47fb-a1c6-16474d737136",
   "metadata": {},
   "outputs": [
    {
     "data": {
      "text/plain": [
       "False"
      ]
     },
     "execution_count": 45,
     "metadata": {},
     "output_type": "execute_result"
    }
   ],
   "source": [
    "#comparison operator\n",
    "2>4 #greater than                             #less then(<) #equal to (==) #not equal to (!=)"
   ]
  },
  {
   "cell_type": "code",
   "execution_count": 46,
   "id": "e74470e7-df61-4eb8-9bdc-0ff6bf0d9e1a",
   "metadata": {},
   "outputs": [
    {
     "data": {
      "text/plain": [
       "True"
      ]
     },
     "execution_count": 46,
     "metadata": {},
     "output_type": "execute_result"
    }
   ],
   "source": [
    "4>2"
   ]
  },
  {
   "cell_type": "code",
   "execution_count": 47,
   "id": "785152ab-270c-4c5e-bca1-3a0f3a26c7e9",
   "metadata": {},
   "outputs": [
    {
     "data": {
      "text/plain": [
       "False"
      ]
     },
     "execution_count": 47,
     "metadata": {},
     "output_type": "execute_result"
    }
   ],
   "source": [
    "2>=4 #greaterthan equal to"
   ]
  },
  {
   "cell_type": "code",
   "execution_count": 48,
   "id": "eb0a0b61-9e96-44b7-ab5e-3b089a3a452b",
   "metadata": {},
   "outputs": [
    {
     "data": {
      "text/plain": [
       "True"
      ]
     },
     "execution_count": 48,
     "metadata": {},
     "output_type": "execute_result"
    }
   ],
   "source": [
    "2>=2"
   ]
  },
  {
   "cell_type": "code",
   "execution_count": 49,
   "id": "01275b7e-11bc-498a-9616-e8823c6d95e2",
   "metadata": {},
   "outputs": [
    {
     "data": {
      "text/plain": [
       "True"
      ]
     },
     "execution_count": 49,
     "metadata": {},
     "output_type": "execute_result"
    }
   ],
   "source": [
    "5>=2 #kunai euta condition mile huncha"
   ]
  },
  {
   "cell_type": "code",
   "execution_count": 50,
   "id": "5a430994-b6b2-490b-af40-b2aa075b4acd",
   "metadata": {},
   "outputs": [
    {
     "name": "stdout",
     "output_type": "stream",
     "text": [
      "6\n"
     ]
    }
   ],
   "source": [
    "name=\"ramesh\"\n",
    "print(len(name))"
   ]
  },
  {
   "cell_type": "code",
   "execution_count": 51,
   "id": "42bf4c1a-d3b9-4ed9-8d80-d326d159f2ad",
   "metadata": {},
   "outputs": [
    {
     "data": {
      "text/plain": [
       "False"
      ]
     },
     "execution_count": 51,
     "metadata": {},
     "output_type": "execute_result"
    }
   ],
   "source": [
    "len(\"apple\") == len(\"banana\")"
   ]
  },
  {
   "cell_type": "markdown",
   "id": "b97de55f-cb1d-4809-bb26-e78e9476bee5",
   "metadata": {},
   "source": [
    "Python String"
   ]
  },
  {
   "cell_type": "code",
   "execution_count": null,
   "id": "264e21de-ee0c-43a4-a543-e81145408735",
   "metadata": {},
   "outputs": [],
   "source": []
  }
 ],
 "metadata": {
  "kernelspec": {
   "display_name": "Python 3 (ipykernel)",
   "language": "python",
   "name": "python3"
  },
  "language_info": {
   "codemirror_mode": {
    "name": "ipython",
    "version": 3
   },
   "file_extension": ".py",
   "mimetype": "text/x-python",
   "name": "python",
   "nbconvert_exporter": "python",
   "pygments_lexer": "ipython3",
   "version": "3.12.5"
  }
 },
 "nbformat": 4,
 "nbformat_minor": 5
}
