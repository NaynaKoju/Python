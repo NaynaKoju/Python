{
 "cells": [
  {
   "cell_type": "code",
   "execution_count": 10,
   "id": "2d4bf468-b633-417b-9553-6daacaf10309",
   "metadata": {},
   "outputs": [],
   "source": [
    "#...........................................................Tuple........"
   ]
  },
  {
   "cell_type": "code",
   "execution_count": 11,
   "id": "88248212-d33b-428f-b1a6-24be3fb05dcb",
   "metadata": {},
   "outputs": [
    {
     "name": "stdout",
     "output_type": "stream",
     "text": [
      "(1, 2, 3, 4, 5) <class 'tuple'>\n"
     ]
    }
   ],
   "source": [
    "x=(1,2,3,4,5,)\n",
    "print (x, type(x))"
   ]
  },
  {
   "cell_type": "code",
   "execution_count": 12,
   "id": "6c0626db-25c8-4eb3-97f2-7e34e40d3523",
   "metadata": {},
   "outputs": [
    {
     "name": "stdout",
     "output_type": "stream",
     "text": [
      "(1, 1.2, 3, 5j, 'ram', (1, 2, 3), {1, 2, 3}, [1, 2, 3], {'name': 'nayna'}) <class 'tuple'>\n"
     ]
    }
   ],
   "source": [
    "x= (1,1.2,3, 5j, \"ram\", (1,2,3), {1,2,3}, [1,2,3], {\"name\": \"nayna\"})\n",
    "print (x, type(x))"
   ]
  },
  {
   "cell_type": "code",
   "execution_count": 13,
   "id": "4416b37a-c3e5-450c-a38a-c4a67cab5b1d",
   "metadata": {},
   "outputs": [],
   "source": [
    "#tuple=> immutable datastructure=> cannot be changed"
   ]
  },
  {
   "cell_type": "code",
   "execution_count": 14,
   "id": "0a40a90e-0d16-4f17-925e-dff90bfdc526",
   "metadata": {},
   "outputs": [
    {
     "data": {
      "text/plain": [
       "2"
      ]
     },
     "execution_count": 14,
     "metadata": {},
     "output_type": "execute_result"
    }
   ],
   "source": [
    "x=(1,2,3,4,5)\n",
    "x[1]"
   ]
  },
  {
   "cell_type": "code",
   "execution_count": 2,
   "id": "a8836e9f-1bae-493d-a3ac-188bcc7d3a33",
   "metadata": {},
   "outputs": [
    {
     "data": {
      "text/plain": [
       "(3, 4)"
      ]
     },
     "execution_count": 2,
     "metadata": {},
     "output_type": "execute_result"
    }
   ],
   "source": [
    "x=(1,2,3,4,5)\n",
    "x[2:4]"
   ]
  },
  {
   "cell_type": "code",
   "execution_count": 3,
   "id": "0bde621e-7c5d-4d7a-a4f7-938d22432a4b",
   "metadata": {},
   "outputs": [
    {
     "ename": "TypeError",
     "evalue": "'tuple' object does not support item assignment",
     "output_type": "error",
     "traceback": [
      "\u001b[1;31m---------------------------------------------------------------------------\u001b[0m",
      "\u001b[1;31mTypeError\u001b[0m                                 Traceback (most recent call last)",
      "Cell \u001b[1;32mIn[3], line 2\u001b[0m\n\u001b[0;32m      1\u001b[0m x\u001b[38;5;241m=\u001b[39m(\u001b[38;5;241m1\u001b[39m,\u001b[38;5;241m2\u001b[39m,\u001b[38;5;241m3\u001b[39m,\u001b[38;5;241m4\u001b[39m,\u001b[38;5;241m5\u001b[39m)\n\u001b[1;32m----> 2\u001b[0m \u001b[43mx\u001b[49m\u001b[43m[\u001b[49m\u001b[38;5;241;43m0\u001b[39;49m\u001b[43m]\u001b[49m\u001b[38;5;241m=\u001b[39m \u001b[38;5;124m\"\u001b[39m\u001b[38;5;124mram\u001b[39m\u001b[38;5;124m\"\u001b[39m\n",
      "\u001b[1;31mTypeError\u001b[0m: 'tuple' object does not support item assignment"
     ]
    }
   ],
   "source": [
    "x=(1,2,3,4,5)\n",
    "x[0]= \"ram\""
   ]
  },
  {
   "cell_type": "code",
   "execution_count": 4,
   "id": "d045cdb6-c7df-496c-9494-7fc56e4ac394",
   "metadata": {},
   "outputs": [],
   "source": [
    "#help(tuple)"
   ]
  },
  {
   "cell_type": "code",
   "execution_count": 5,
   "id": "aa38a381-b98b-4338-a02d-0dc11df704d0",
   "metadata": {},
   "outputs": [
    {
     "data": {
      "text/plain": [
       "1"
      ]
     },
     "execution_count": 5,
     "metadata": {},
     "output_type": "execute_result"
    }
   ],
   "source": [
    "x=(1,2,3,4,5)\n",
    "x.count(1)"
   ]
  },
  {
   "cell_type": "code",
   "execution_count": 6,
   "id": "177a7203-9af3-4f66-81a7-8913b9ef1ba9",
   "metadata": {},
   "outputs": [
    {
     "data": {
      "text/plain": [
       "3"
      ]
     },
     "execution_count": 6,
     "metadata": {},
     "output_type": "execute_result"
    }
   ],
   "source": [
    "x=(1,2,3,4,5)\n",
    "x.index(4)"
   ]
  },
  {
   "cell_type": "code",
   "execution_count": 7,
   "id": "d51397e2-e3fd-4640-9ced-9bbf9ce25d72",
   "metadata": {},
   "outputs": [
    {
     "name": "stdout",
     "output_type": "stream",
     "text": [
      "1\n",
      "2\n",
      "3\n"
     ]
    }
   ],
   "source": [
    "x,y,z= 1,2,3\n",
    "print(x)\n",
    "print (y)\n",
    "print (z)"
   ]
  },
  {
   "cell_type": "code",
   "execution_count": 8,
   "id": "b8010b32-9493-4601-8581-ab30017ad1e1",
   "metadata": {},
   "outputs": [
    {
     "name": "stdout",
     "output_type": "stream",
     "text": [
      "1 <class 'int'>\n"
     ]
    }
   ],
   "source": [
    "#tuple banauna lai , hunuparcha () ko vitra\n",
    "x=(1)\n",
    "print (x, type(x))"
   ]
  },
  {
   "cell_type": "code",
   "execution_count": 9,
   "id": "02e868bd-9044-45c9-ba2b-6b7bbeb872a6",
   "metadata": {},
   "outputs": [
    {
     "name": "stdout",
     "output_type": "stream",
     "text": [
      "(1,) <class 'tuple'>\n"
     ]
    }
   ],
   "source": [
    "x= 1,\n",
    "print (x, type(x))"
   ]
  },
  {
   "cell_type": "code",
   "execution_count": 10,
   "id": "d090cc95-4fd2-4d20-8fd2-6dfabdf66a81",
   "metadata": {},
   "outputs": [],
   "source": [
    "#tuple unpacking\n",
    "#x,y,z = "
   ]
  },
  {
   "cell_type": "code",
   "execution_count": null,
   "id": "0e7ee75b-292f-45a6-8474-e78363858403",
   "metadata": {},
   "outputs": [],
   "source": [
    "#LIST VS TUPLE\n",
    "#LIST => mutable,                       tuple=> immutable\n",
    "#list => [],                            tuple => may need () but comma is necessary\n",
    "# list => slower than tuple             tuple => faster than list\n",
    "# list => takes more memory than tuple  tuple => takes less memory than list\n",
    "# list => homogeneous datastructure     tuple=> heterogeneous datastructure\n",
    "#fruits = [\"apple\", \"banana\", \"mango\"]=> same type of datastructure=>homogeneous\n",
    "#x= (1, \"ram\", 2.33333, 567778) => diff types => heterogeneous"
   ]
  }
 ],
 "metadata": {
  "kernelspec": {
   "display_name": "Python 3 (ipykernel)",
   "language": "python",
   "name": "python3"
  },
  "language_info": {
   "codemirror_mode": {
    "name": "ipython",
    "version": 3
   },
   "file_extension": ".py",
   "mimetype": "text/x-python",
   "name": "python",
   "nbconvert_exporter": "python",
   "pygments_lexer": "ipython3",
   "version": "3.12.5"
  }
 },
 "nbformat": 4,
 "nbformat_minor": 5
}
