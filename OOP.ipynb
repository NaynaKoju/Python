{
 "cells": [
  {
   "cell_type": "code",
   "execution_count": 2,
   "id": "f9d27d5c-62d3-4b96-81a5-7dfbf0b84d46",
   "metadata": {},
   "outputs": [],
   "source": [
    "#OOP => Object oriented programming\n",
    "#class => Person => blueprint => grouping garne rrelated tasks lai\n",
    "#object => ram = actual instance of class"
   ]
  },
  {
   "cell_type": "code",
   "execution_count": 4,
   "id": "54ec0542-0e22-4ee5-9263-8d5966791029",
   "metadata": {},
   "outputs": [],
   "source": [
    "#DateTime\n",
    "\n",
    "def today_date():\n",
    "    pass\n",
    "def today_time():\n",
    "    pass\n",
    "def today_day():\n",
    "    pass\n",
    "def today_week():\n",
    "    pass\n",
    "def today_month():\n",
    "    pass\n",
    "def today_year():\n",
    "    pass\n",
    "def today_utc_time():\n",
    "    pass"
   ]
  },
  {
   "cell_type": "code",
   "execution_count": 9,
   "id": "ffd979bc-4ddd-4e10-b900-471bc845989a",
   "metadata": {},
   "outputs": [],
   "source": [
    "class DateTime:    #class=> PascalCase\n",
    "    def today_date(): #funcion=> lowercase=> snake case\n",
    "        pass\n",
    "    def today_time():\n",
    "        pass\n",
    "    def today_day():\n",
    "        pass\n",
    "    def today_week():\n",
    "        pass\n",
    "    def today_month():\n",
    "        pass\n",
    "    def today_year():\n",
    "        pass\n",
    "    def today_utc_time():\n",
    "        pass"
   ]
  },
  {
   "cell_type": "code",
   "execution_count": 12,
   "id": "67c9547b-8f03-438d-8dc0-9d0812fdafad",
   "metadata": {},
   "outputs": [],
   "source": [
    "class Person:\n",
    "    name=\"Ram\"\n",
    "    age= 22\n",
    "    address=\"ktm\""
   ]
  },
  {
   "cell_type": "code",
   "execution_count": 13,
   "id": "11f0867a-0d25-4466-b638-988b272030dd",
   "metadata": {},
   "outputs": [],
   "source": [
    "#object banauna lai paila euta variable banaune ani class ko naam\n",
    "p= Person()"
   ]
  },
  {
   "cell_type": "code",
   "execution_count": 14,
   "id": "ba827e55-92c0-4c0e-ad2c-430d76d70189",
   "metadata": {},
   "outputs": [
    {
     "name": "stdout",
     "output_type": "stream",
     "text": [
      "<__main__.Person object at 0x000002286102F6B0>\n"
     ]
    }
   ],
   "source": [
    "print(p)"
   ]
  },
  {
   "cell_type": "code",
   "execution_count": 17,
   "id": "4087dd3a-d95a-4524-a356-9c8179012b7d",
   "metadata": {},
   "outputs": [],
   "source": [
    "#euta class ko jati wota object banayeni huncha\n",
    "p1= Person()\n"
   ]
  },
  {
   "cell_type": "code",
   "execution_count": 18,
   "id": "efdcadaa-34eb-4dba-91f4-5e3d724fd680",
   "metadata": {},
   "outputs": [],
   "source": [
    "p2= Person()"
   ]
  },
  {
   "cell_type": "code",
   "execution_count": 19,
   "id": "a878f000-da88-41dd-86c8-c8f263585a64",
   "metadata": {},
   "outputs": [
    {
     "data": {
      "text/plain": [
       "'Ram'"
      ]
     },
     "execution_count": 19,
     "metadata": {},
     "output_type": "execute_result"
    }
   ],
   "source": [
    "p1.name"
   ]
  },
  {
   "cell_type": "code",
   "execution_count": 20,
   "id": "37ddcb60-41e1-439c-9581-bcaa235619de",
   "metadata": {},
   "outputs": [
    {
     "data": {
      "text/plain": [
       "'Ram'"
      ]
     },
     "execution_count": 20,
     "metadata": {},
     "output_type": "execute_result"
    }
   ],
   "source": [
    "p.name"
   ]
  },
  {
   "cell_type": "code",
   "execution_count": 21,
   "id": "38573dad-ec2d-4499-bf81-8ddb3f1aa901",
   "metadata": {},
   "outputs": [
    {
     "data": {
      "text/plain": [
       "'Ram'"
      ]
     },
     "execution_count": 21,
     "metadata": {},
     "output_type": "execute_result"
    }
   ],
   "source": [
    "p2.name"
   ]
  },
  {
   "cell_type": "code",
   "execution_count": 22,
   "id": "052503c0-5a14-40a3-ad2e-97aad71fe3c6",
   "metadata": {},
   "outputs": [
    {
     "data": {
      "text/plain": [
       "'ktm'"
      ]
     },
     "execution_count": 22,
     "metadata": {},
     "output_type": "execute_result"
    }
   ],
   "source": [
    "p1.address"
   ]
  },
  {
   "cell_type": "code",
   "execution_count": 24,
   "id": "ec010de9-55c9-4d3a-99ce-c56fe1eefa41",
   "metadata": {},
   "outputs": [],
   "source": [
    "class Person:\n",
    "#attribute/property(inside class), variable (outside class)\n",
    "    name=\"Ram\"\n",
    "    age= 22\n",
    "    address=\"ktm\"\n",
    "\n",
    "#action/ behaviour/ method (inside class), function (outside class)\n",
    "    def eat():\n",
    "        pass\n",
    "    def walk():\n",
    "        pass\n",
    "    def sleep():\n",
    "        pass"
   ]
  },
  {
   "cell_type": "code",
   "execution_count": 25,
   "id": "8a937e56-57db-4c92-8de0-7eccde80db42",
   "metadata": {},
   "outputs": [],
   "source": [
    "p= Person"
   ]
  },
  {
   "cell_type": "code",
   "execution_count": 26,
   "id": "7bea6a1e-81d1-4eec-89f1-76276c2bf791",
   "metadata": {},
   "outputs": [
    {
     "data": {
      "text/plain": [
       "'Ram'"
      ]
     },
     "execution_count": 26,
     "metadata": {},
     "output_type": "execute_result"
    }
   ],
   "source": [
    "p.name"
   ]
  },
  {
   "cell_type": "code",
   "execution_count": 30,
   "id": "cc9bd79d-19be-40a4-9133-df4ad835e16a",
   "metadata": {},
   "outputs": [],
   "source": [
    "#function lai dynamic banuna\n",
    "def person(name,age, address):\n",
    "    print (name,age, address)"
   ]
  },
  {
   "cell_type": "code",
   "execution_count": 31,
   "id": "fb8ba210-fc0a-488a-83ef-6701dd0eb53f",
   "metadata": {},
   "outputs": [
    {
     "name": "stdout",
     "output_type": "stream",
     "text": [
      "nayna 22 ktm\n"
     ]
    }
   ],
   "source": [
    "person(\"nayna\", 22, \"ktm\")"
   ]
  },
  {
   "cell_type": "code",
   "execution_count": 33,
   "id": "9956d02a-3858-4ed6-bd8f-fee819a3f6de",
   "metadata": {},
   "outputs": [
    {
     "ename": "NameError",
     "evalue": "name 'name' is not defined",
     "output_type": "error",
     "traceback": [
      "\u001b[1;31m---------------------------------------------------------------------------\u001b[0m",
      "\u001b[1;31mNameError\u001b[0m                                 Traceback (most recent call last)",
      "Cell \u001b[1;32mIn[33], line 2\u001b[0m\n\u001b[0;32m      1\u001b[0m \u001b[38;5;66;03m#class lai esari funtion jasari pass garna mildaina\u001b[39;00m\n\u001b[1;32m----> 2\u001b[0m \u001b[38;5;28;01mclass\u001b[39;00m \u001b[38;5;21;01mPerson\u001b[39;00m(\u001b[43mname\u001b[49m, age, address):\n\u001b[0;32m      3\u001b[0m \u001b[38;5;66;03m#attribute/property(inside class), variable (outside class)\u001b[39;00m\n\u001b[0;32m      4\u001b[0m     name\u001b[38;5;241m=\u001b[39m\u001b[38;5;124m\"\u001b[39m\u001b[38;5;124mRam\u001b[39m\u001b[38;5;124m\"\u001b[39m\n\u001b[0;32m      5\u001b[0m     age\u001b[38;5;241m=\u001b[39m \u001b[38;5;241m22\u001b[39m\n",
      "\u001b[1;31mNameError\u001b[0m: name 'name' is not defined"
     ]
    }
   ],
   "source": [
    "#class lai esari funtion jasari pass garna mildaina\n",
    "class Person(name, age, address):\n",
    "#attribute/property(inside class), variable (outside class)\n",
    "    name=\"Ram\"\n",
    "    age= 22\n",
    "    address=\"ktm\"\n",
    "\n",
    "#action/ behaviour/ method (inside class), function (outside class)\n",
    "    def eat():\n",
    "        pass\n",
    "    def walk():\n",
    "        pass\n",
    "    def sleep():\n",
    "        pass"
   ]
  },
  {
   "cell_type": "code",
   "execution_count": 20,
   "id": "2bcdb1c2-51f4-4ecc-951a-c9f7c57f49f1",
   "metadata": {},
   "outputs": [],
   "source": [
    "#class lai dynamic banauna lai(bahira bata value pass garne)\n",
    "class Person:\n",
    "    def __init__(self,name, age, address):\n",
    "        print(name, age, address)\n",
    "#attribute/property(inside class), variable (outside class)\n",
    "    name=\"Ram\"\n",
    "    age= 22\n",
    "    address=\"ktm\"\n",
    "\n",
    "#action/ behaviour/ method (inside class), function (outside class)\n",
    "    def eat():\n",
    "        pass\n",
    "    def walk():\n",
    "        pass\n",
    "    def sleep():\n",
    "        pass"
   ]
  },
  {
   "cell_type": "code",
   "execution_count": 21,
   "id": "4346f496-6cab-4e03-b730-2946335684e2",
   "metadata": {},
   "outputs": [
    {
     "name": "stdout",
     "output_type": "stream",
     "text": [
      "esha 22 biratnagar\n"
     ]
    }
   ],
   "source": [
    "p1= Person (\"esha\", 22,\"biratnagar\")"
   ]
  },
  {
   "cell_type": "code",
   "execution_count": 22,
   "id": "6f49f907-3e46-4f7d-8607-d147065f8c11",
   "metadata": {},
   "outputs": [],
   "source": [
    "class Person:\n",
    "    def __init__(self,name, age, address):\n",
    "        print(name, age, address)\n",
    "#attribute/property(inside class), variable (outside class)\n",
    "        self.name=name\n",
    "        self.age= age\n",
    "        self.address=address\n",
    "\n",
    "#action/ behaviour/ method (inside class), function (outside class)\n",
    "    def eat(self):\n",
    "        print (\"Person is eating\")\n",
    "    def walk(self):\n",
    "         print (\"Person is walking\")\n",
    "    def sleep(self):\n",
    "         print (\"Person is sleeping\")"
   ]
  },
  {
   "cell_type": "code",
   "execution_count": 23,
   "id": "58f8a027-cd22-45f9-b081-1578bd6ebd19",
   "metadata": {},
   "outputs": [
    {
     "name": "stdout",
     "output_type": "stream",
     "text": [
      "ram 22 ktm\n"
     ]
    }
   ],
   "source": [
    "p1=Person(\"ram\", 22, \"ktm\")"
   ]
  },
  {
   "cell_type": "code",
   "execution_count": 24,
   "id": "56db91f1-adf4-40aa-801e-86e589fff539",
   "metadata": {},
   "outputs": [
    {
     "name": "stdout",
     "output_type": "stream",
     "text": [
      "Person is eating\n"
     ]
    }
   ],
   "source": [
    "p1.eat()"
   ]
  },
  {
   "cell_type": "code",
   "execution_count": 25,
   "id": "0a37e669-826e-4a71-9dfe-a6089cab35d6",
   "metadata": {},
   "outputs": [],
   "source": [
    "#task\n",
    "#name, age, address, college, faculty,roll_no\n",
    "class Student:\n",
    "    def __init__(self,name, age, address,college, faculty,roll_no):\n",
    "        self.name=name\n",
    "        self.age= age\n",
    "        self.address=address\n",
    "        self.college=college\n",
    "        self.faculty=faculty\n",
    "        self.roll_no=roll_no\n",
    "\n",
    "    def learn(self):\n",
    "        print(f\"Student is learning\")"
   ]
  },
  {
   "cell_type": "code",
   "execution_count": 26,
   "id": "904396d9-b7eb-49a1-8748-c2f2cd898a2c",
   "metadata": {},
   "outputs": [],
   "source": [
    "s1= Student(name= \"Nayna\", age=22, address=\"Ktm\", college=\"Ismt\", faculty=\"IT\", roll_no=1)"
   ]
  },
  {
   "cell_type": "code",
   "execution_count": 27,
   "id": "040ee371-c0a9-4088-93db-1db5b1acde3a",
   "metadata": {},
   "outputs": [
    {
     "name": "stdout",
     "output_type": "stream",
     "text": [
      "Student is learning\n"
     ]
    }
   ],
   "source": [
    "s1.learn()"
   ]
  },
  {
   "cell_type": "code",
   "execution_count": null,
   "id": "c994d84d-621c-470d-9c1e-ddddff6b68b7",
   "metadata": {},
   "outputs": [],
   "source": []
  },
  {
   "cell_type": "code",
   "execution_count": 54,
   "id": "5c73ca1d-727f-443e-9ffc-956dc4b79bac",
   "metadata": {},
   "outputs": [],
   "source": [
    "#student le kk padhne vanera banauna milne\n",
    "class Student:\n",
    "    def __init__(self,name, age, address,college, faculty,roll_no):\n",
    "        self.name=name\n",
    "        self.age= age\n",
    "        self.address=address\n",
    "        self.college=college\n",
    "        self.faculty=faculty\n",
    "        self.roll_no=roll_no\n",
    "        self.subjects=[]\n",
    "\n",
    "    def learn(self):\n",
    "        print(f\"Student is learning: {self.subjects}\")\n",
    "\n",
    "    def add_subject(self, name):\n",
    "        if name not in self.subjects:\n",
    "            self.subjects.append(name)"
   ]
  },
  {
   "cell_type": "code",
   "execution_count": 55,
   "id": "b4bdf7c1-bda9-4043-8f5e-189887809e41",
   "metadata": {},
   "outputs": [],
   "source": [
    "s1= Student(name= \"Nayna\", age=22, address=\"Ktm\", college=\"Ismt\", faculty=\"IT\", roll_no=1)"
   ]
  },
  {
   "cell_type": "code",
   "execution_count": 56,
   "id": "cee5eba2-941a-4ca9-9401-800c4eaf82e7",
   "metadata": {},
   "outputs": [
    {
     "name": "stdout",
     "output_type": "stream",
     "text": [
      "Student is learning: []\n"
     ]
    }
   ],
   "source": [
    "s1.learn()"
   ]
  },
  {
   "cell_type": "code",
   "execution_count": 57,
   "id": "b0e1ff51-335d-4a75-86b7-f8a6c043d6ec",
   "metadata": {},
   "outputs": [],
   "source": [
    "s1.add_subject(\"python\")"
   ]
  },
  {
   "cell_type": "code",
   "execution_count": 58,
   "id": "235601ae-94c8-45b4-a1b0-a294d0894940",
   "metadata": {},
   "outputs": [
    {
     "name": "stdout",
     "output_type": "stream",
     "text": [
      "Student is learning: ['python']\n"
     ]
    }
   ],
   "source": [
    "s1.learn()"
   ]
  },
  {
   "cell_type": "code",
   "execution_count": 59,
   "id": "cc9253cb-6adb-4c59-93fe-85def244eb2a",
   "metadata": {},
   "outputs": [],
   "source": [
    "s1.add_subject(\"django\")"
   ]
  },
  {
   "cell_type": "code",
   "execution_count": 60,
   "id": "a8da24c8-be9c-44f8-bff7-d824ed0ac1a6",
   "metadata": {},
   "outputs": [
    {
     "name": "stdout",
     "output_type": "stream",
     "text": [
      "Student is learning: ['python', 'django']\n"
     ]
    }
   ],
   "source": [
    "s1.learn()"
   ]
  },
  {
   "cell_type": "code",
   "execution_count": 61,
   "id": "e6fb2a6f-0fd4-4e65-97e8-dc6b54fc48df",
   "metadata": {},
   "outputs": [],
   "source": [
    "s1.add_subject(\"python\")"
   ]
  },
  {
   "cell_type": "code",
   "execution_count": 62,
   "id": "5f65eec9-226a-4fa4-92f9-637eaed7e272",
   "metadata": {},
   "outputs": [
    {
     "name": "stdout",
     "output_type": "stream",
     "text": [
      "Student is learning: ['python', 'django']\n"
     ]
    }
   ],
   "source": [
    "s1.learn()"
   ]
  },
  {
   "cell_type": "code",
   "execution_count": 63,
   "id": "1e9b9489-c088-4931-a368-c820eebf0635",
   "metadata": {},
   "outputs": [],
   "source": [
    "#jati wota subject halyo teti choti airacha, so ekchoti matra aauna lai"
   ]
  },
  {
   "cell_type": "code",
   "execution_count": 65,
   "id": "5c349584-4326-4df8-bd9f-ec7a46240931",
   "metadata": {},
   "outputs": [],
   "source": [
    "#to calculate area and perimeter of rectangle\n",
    "class Rectangle:\n",
    "    def __init__(self, length, breadth):\n",
    "        self.length= length\n",
    "        self.breadth= breadth\n",
    "    def area(self):\n",
    "        return self.length*self.breadth\n",
    "    def perimeter(self):\n",
    "        return 2*(self.length+self.breadth)"
   ]
  },
  {
   "cell_type": "code",
   "execution_count": 68,
   "id": "2ee13fbd-e112-4a4b-b336-9951ea32076e",
   "metadata": {},
   "outputs": [
    {
     "name": "stdout",
     "output_type": "stream",
     "text": [
      "20\n",
      "18\n"
     ]
    }
   ],
   "source": [
    "r1=Rectangle(4,5)\n",
    "print(r1.area())\n",
    "print(r1.perimeter())"
   ]
  },
  {
   "cell_type": "code",
   "execution_count": 84,
   "id": "327da36f-0525-4124-be73-700147867ed2",
   "metadata": {},
   "outputs": [],
   "source": [
    "#to calculate area and perimeter of circle\n",
    "from math import pi\n",
    "class Circle:\n",
    "    def __init__(self, radius):\n",
    "        self.r= radius\n",
    "    def area(self):\n",
    "        return pi*self.r**2\n",
    "    def perimeter(self):\n",
    "        return 2*pi*self.r"
   ]
  },
  {
   "cell_type": "code",
   "execution_count": 86,
   "id": "fa3b2c7c-ef5a-4ce9-9fc0-30c50bdf4dd1",
   "metadata": {},
   "outputs": [
    {
     "name": "stdout",
     "output_type": "stream",
     "text": [
      "78.53981633974483\n",
      "31.41592653589793\n"
     ]
    }
   ],
   "source": [
    "c1=Circle(5)\n",
    "print(c1.area())\n",
    "print(c1.perimeter())"
   ]
  },
  {
   "cell_type": "markdown",
   "id": "8cd6e367-2f79-4798-accc-33fb280e6ede",
   "metadata": {},
   "source": [
    "# Inheritance => Code Duplication remove garna"
   ]
  },
  {
   "cell_type": "code",
   "execution_count": 87,
   "id": "7a3ddd6a-af0e-4d44-9754-c5d6a1987bf1",
   "metadata": {},
   "outputs": [],
   "source": [
    "class Parent:\n",
    "    def hello(self):\n",
    "        print(\"I am fine\")\n",
    "\n",
    "class Child(Parent):    #single inheritance\n",
    "    pass"
   ]
  },
  {
   "cell_type": "code",
   "execution_count": 89,
   "id": "36151be7-11cc-4673-8af5-e0bb6c226190",
   "metadata": {},
   "outputs": [],
   "source": [
    "c= Child()    #child ko object"
   ]
  },
  {
   "cell_type": "code",
   "execution_count": 90,
   "id": "596da5bf-b024-455b-91ff-58f8390b56b7",
   "metadata": {},
   "outputs": [
    {
     "name": "stdout",
     "output_type": "stream",
     "text": [
      "I am fine\n"
     ]
    }
   ],
   "source": [
    "c.hello()"
   ]
  },
  {
   "cell_type": "code",
   "execution_count": 93,
   "id": "52c65dc9-5747-4202-8b0a-0b04359c7616",
   "metadata": {},
   "outputs": [],
   "source": [
    "#inheritance \n",
    "class Person:\n",
    "    def __init__(self,name, age, address):\n",
    "        self.name=name\n",
    "        self.age= age\n",
    "        self.address=address\n",
    "\n",
    "    def eat(self):     #self is object\n",
    "        print (f\"{self.name} is eating\")\n",
    "    def walk(self):\n",
    "         print (f\"{self.name} is walking\")\n",
    "    def sleep(self):\n",
    "         print (f\"{self.name} is sleeping\")\n",
    "    def info(self):\n",
    "        print(f\"Name: {self.name}\")\n",
    "        print(f\"Age: {self.age}\")\n",
    "        print(f\"Address: {self.address}\")\n",
    "\n",
    "class Student(Person):\n",
    "    def __init__(self,name, age, address,college, faculty,roll_no):\n",
    "        super().__init__(name,age,address)\n",
    "        self.college=college\n",
    "        self.faculty=faculty\n",
    "        self.roll_no=roll_no\n",
    "        self.subjects=[]\n",
    "\n",
    "    def learn(self):\n",
    "        print(f\"Student is learning: {self.subjects}\")\n",
    "\n",
    "    def add_subject(self, name):\n",
    "        if name not in self.subjects:\n",
    "            self.subjects.append(name)\n",
    "\n",
    "    def info(self):\n",
    "        super().info()\n",
    "        print (f\"College: {self.college}\")\n",
    "        print (f\"Faculty: {self.faculty}\")\n",
    "        print (f\"Subjects: {self.subjects}\")        "
   ]
  },
  {
   "cell_type": "code",
   "execution_count": 94,
   "id": "64bb9912-6fb0-4b72-84a7-665ebd1a07cd",
   "metadata": {},
   "outputs": [
    {
     "name": "stdout",
     "output_type": "stream",
     "text": [
      "Name: Nayna\n",
      "Age: 22\n",
      "Address: Ktm\n",
      "College: Ismt\n",
      "Faculty: IT\n",
      "Subjects: []\n"
     ]
    }
   ],
   "source": [
    "s1= Student(name= \"Nayna\", age=22, address=\"Ktm\", college=\"Ismt\", faculty=\"IT\", roll_no=1)\n",
    "s1.info()"
   ]
  },
  {
   "cell_type": "markdown",
   "id": "fe1ab731-e028-484c-9031-ebb95a90b615",
   "metadata": {},
   "source": [
    "# Multiple inheritance"
   ]
  },
  {
   "cell_type": "code",
   "execution_count": 95,
   "id": "07f6f382-e1a2-47cf-9814-4b69d49b73fa",
   "metadata": {},
   "outputs": [],
   "source": [
    "class Father:\n",
    "    pass\n",
    "class Mother:\n",
    "    pass\n",
    "class Child(Father, Mother):   #Multiple inheritance\n",
    "    pass"
   ]
  },
  {
   "cell_type": "code",
   "execution_count": 100,
   "id": "7d101b57-037d-442f-9e94-875ea622c6bb",
   "metadata": {},
   "outputs": [
    {
     "name": "stdout",
     "output_type": "stream",
     "text": [
      "Inside person class\n",
      "Name: Jessa Age 28\n",
      "Inside company class\n",
      "Name: Google location Atlanta\n",
      "Inside Employee class\n",
      "Salary: 1200 skill ML\n"
     ]
    }
   ],
   "source": [
    "#parent class1\n",
    "class Person:\n",
    "    def Person_info(self, name, age):\n",
    "        print(\"Inside person class\")\n",
    "        print(\"Name:\", name, \"Age\", age)\n",
    "\n",
    "#parent class2\n",
    "class Company:\n",
    "     def Company_info(self, company_name, location):\n",
    "        print(\"Inside company class\")\n",
    "        print(\"Name:\",company_name, \"location\", location)\n",
    "\n",
    "#child class\n",
    "class Employee(Person, Company):\n",
    "      def Employee_info(self, salary, skill):\n",
    "        print(\"Inside Employee class\")\n",
    "        print(\"Salary:\",salary, \"skill\", skill)\n",
    "\n",
    "#create object of employee\n",
    "emp= Employee()\n",
    "emp.Person_info(\"Jessa\", 28)\n",
    "emp.Company_info(\"Google\", \"Atlanta\")\n",
    "emp.Employee_info(1200, \"ML\")"
   ]
  },
  {
   "cell_type": "code",
   "execution_count": 2,
   "id": "f491e7ea-4e75-4187-a310-066fc1d6e1fd",
   "metadata": {},
   "outputs": [],
   "source": [
    "class Student:\n",
    "    def __init__(self,name, age, address,college, faculty,roll_no):\n",
    "        self.name=name\n",
    "        self.age= age\n",
    "        self.address=address\n",
    "        self.college=college\n",
    "        self.faculty=faculty\n",
    "        self.roll_no=roll_no\n",
    "        self.subjects=[]\n",
    "\n",
    "    def learn(self):\n",
    "        print(f\"Student is learning: {self.subjects}\")\n",
    "\n",
    "    def add_subject(self, name):\n",
    "        if name not in self.subjects:\n",
    "            self.subjects.append(name)\n",
    "class BachelorStudent:\n",
    "    def __init__(self,name, age, address,college, faculty,roll_no, university):\n",
    "        #calling students init method\n",
    "        super().__init__(name, age, address, college, faculty, roll_no)\n",
    "        self.university=university\n",
    "\n",
    "\n",
    "    #BachelorStudent class le Student ko info method override gareko ho\n",
    "    def add_subject(self, name):\n",
    "        #calling Student\"s info method\n",
    "        super().info()\n",
    "        print(f\"University: {self.university}\")"
   ]
  },
  {
   "cell_type": "code",
   "execution_count": null,
   "id": "3577a24b-bb69-4cd0-9090-738e028d813a",
   "metadata": {},
   "outputs": [],
   "source": []
  },
  {
   "cell_type": "code",
   "execution_count": 4,
   "id": "e3637308-46f8-4bbc-b2f1-f924d8bd880e",
   "metadata": {},
   "outputs": [],
   "source": [
    "#hierarchial inheritance\n",
    "class Person:\n",
    "    pass\n",
    "\n",
    "class Student(Person):\n",
    "    pass\n",
    "\n",
    "class Teacher(Person):\n",
    "    pass\n",
    "\n",
    "class Employee(Person):\n",
    "    pass\n",
    "\n",
    "class Principal(Person):\n",
    "    pass"
   ]
  },
  {
   "cell_type": "code",
   "execution_count": 7,
   "id": "9d65f953-1962-4ad8-9cd6-f585664d4f22",
   "metadata": {},
   "outputs": [
    {
     "name": "stdout",
     "output_type": "stream",
     "text": [
      "This is vehicle\n",
      "Car name is: BMW\n",
      "This is vehicle\n",
      "Truck name is: FORD\n"
     ]
    }
   ],
   "source": [
    "#example\n",
    "class Vehicle:\n",
    "    def info(self):\n",
    "        print(\"This is vehicle\")\n",
    "\n",
    "class Car(Vehicle):\n",
    "    def car_info(self, name):\n",
    "        print(\"Car name is:\", name)\n",
    "\n",
    "class Truck(Vehicle):\n",
    "    def truck_info(self, name):\n",
    "        print(\"Truck name is:\", name)\n",
    "\n",
    "obj1= Car()\n",
    "obj1.info()\n",
    "obj1.car_info(\"BMW\")\n",
    "\n",
    "obj2= Truck()\n",
    "obj2.info()\n",
    "obj2.truck_info(\"FORD\")"
   ]
  },
  {
   "cell_type": "code",
   "execution_count": 20,
   "id": "d20aec76-cb5d-4ce3-8fc5-2b73ed6d9bf0",
   "metadata": {},
   "outputs": [
    {
     "name": "stdout",
     "output_type": "stream",
     "text": [
      "inside Vehicle class\n"
     ]
    },
    {
     "ename": "TypeError",
     "evalue": "Car.car_info() missing 1 required positional argument: 'name'",
     "output_type": "error",
     "traceback": [
      "\u001b[1;31m---------------------------------------------------------------------------\u001b[0m",
      "\u001b[1;31mTypeError\u001b[0m                                 Traceback (most recent call last)",
      "Cell \u001b[1;32mIn[20], line 23\u001b[0m\n\u001b[0;32m     20\u001b[0m s_car\u001b[38;5;241m=\u001b[39mSportsCar()\n\u001b[0;32m     22\u001b[0m s_car\u001b[38;5;241m.\u001b[39mvehicle_info()\n\u001b[1;32m---> 23\u001b[0m \u001b[43ms_car\u001b[49m\u001b[38;5;241;43m.\u001b[39;49m\u001b[43mcar_info\u001b[49m\u001b[43m(\u001b[49m\u001b[43m)\u001b[49m\n\u001b[0;32m     24\u001b[0m s_car\u001b[38;5;241m.\u001b[39msports_car_info()\n",
      "\u001b[1;31mTypeError\u001b[0m: Car.car_info() missing 1 required positional argument: 'name'"
     ]
    }
   ],
   "source": [
    "#hybrid inheritance=> sphagetti code\n",
    "class Vehicle:\n",
    "    def vehicle_info(self):\n",
    "        print(\"inside Vehicle class\")\n",
    "\n",
    "class Car(Vehicle):\n",
    "    def car_info(self, name):\n",
    "        print(\"inside Car class\")\n",
    "\n",
    "class Truck(Vehicle):\n",
    "    def truck_info(self, name):\n",
    "        print(\"inside vehicle class\")\n",
    "\n",
    "#Sports Car can inherit property of Vehicle and Car\n",
    "class SportsCar(Car, Vehicle):\n",
    "    def sports_car_info(self):\n",
    "        print(\"inside SportsCar class\")\n",
    "\n",
    "#create object\n",
    "s_car=SportsCar()\n",
    "\n",
    "s_car.vehicle_info()\n",
    "s_car.car_info()\n",
    "s_car.sports_car_info()\n",
    "    "
   ]
  },
  {
   "cell_type": "code",
   "execution_count": 15,
   "id": "4f1bdfa4-093f-49a6-9100-ebfb9001af9b",
   "metadata": {},
   "outputs": [],
   "source": [
    "class Hello:\n",
    "    def hi(self):\n",
    "        print(self)"
   ]
  },
  {
   "cell_type": "code",
   "execution_count": 16,
   "id": "031bbe1d-bc1a-4b12-8a0d-c9180fcf9923",
   "metadata": {},
   "outputs": [],
   "source": [
    "h1= Hello()"
   ]
  },
  {
   "cell_type": "code",
   "execution_count": 17,
   "id": "7d1b2521-3919-4f3c-b8fc-c1a86177e9ac",
   "metadata": {},
   "outputs": [
    {
     "name": "stdout",
     "output_type": "stream",
     "text": [
      "<__main__.Hello object at 0x000001CF8EB98F50>\n"
     ]
    }
   ],
   "source": [
    "print(h1)"
   ]
  },
  {
   "cell_type": "code",
   "execution_count": 18,
   "id": "64f1fe3d-c70c-4f3b-b5e6-dc4cf216de43",
   "metadata": {},
   "outputs": [
    {
     "data": {
      "text/plain": [
       "<bound method Hello.hi of <__main__.Hello object at 0x000001CF8EB98F50>>"
      ]
     },
     "execution_count": 18,
     "metadata": {},
     "output_type": "execute_result"
    }
   ],
   "source": [
    "h1.hi"
   ]
  },
  {
   "cell_type": "code",
   "execution_count": 19,
   "id": "cc9ceb3b-6496-44a3-932f-dc99070fe308",
   "metadata": {},
   "outputs": [
    {
     "name": "stdout",
     "output_type": "stream",
     "text": [
      "<__main__.Hello object at 0x000001CF8EB98F50>\n"
     ]
    }
   ],
   "source": [
    "Hello.hi(h1)"
   ]
  },
  {
   "cell_type": "code",
   "execution_count": 21,
   "id": "108c7526-daca-4179-a078-317ff23a54ea",
   "metadata": {},
   "outputs": [],
   "source": [
    "class Rectangle:\n",
    "    def __init__(self, length, breadth):\n",
    "        #public attribute=> can be accessed outside of class\n",
    "        self.length= length\n",
    "        self.breadth= breadth\n",
    "\n",
    "    #pulic method\n",
    "    def area(self):\n",
    "        return self.length*self.breadth\n",
    "\n",
    "    #pulic method\n",
    "    def perimeter(self):\n",
    "        return 2*(self.length+self.breadth)"
   ]
  },
  {
   "cell_type": "code",
   "execution_count": 22,
   "id": "01d4982e-e588-4c12-8d28-2d5e99caca66",
   "metadata": {},
   "outputs": [],
   "source": [
    "r=Rectangle(2,3)"
   ]
  },
  {
   "cell_type": "code",
   "execution_count": 23,
   "id": "013dc819-96b9-4461-a103-6ea81d17fcb3",
   "metadata": {},
   "outputs": [
    {
     "data": {
      "text/plain": [
       "2"
      ]
     },
     "execution_count": 23,
     "metadata": {},
     "output_type": "execute_result"
    }
   ],
   "source": [
    "r.length"
   ]
  },
  {
   "cell_type": "code",
   "execution_count": 24,
   "id": "07d32975-7f24-4370-bc5b-b4907f403874",
   "metadata": {},
   "outputs": [
    {
     "data": {
      "text/plain": [
       "3"
      ]
     },
     "execution_count": 24,
     "metadata": {},
     "output_type": "execute_result"
    }
   ],
   "source": [
    "r.breadth"
   ]
  },
  {
   "cell_type": "code",
   "execution_count": 25,
   "id": "99ce06cf-c3b5-40a7-abf2-6e625d2c9ccc",
   "metadata": {},
   "outputs": [],
   "source": [
    "#__ (double underscore makes attribute private)\n",
    "class Rectangle:\n",
    "    def __init__(self, length, breadth):\n",
    "        #private attribute=> can not be accessed outside of class\n",
    "        self.__length= length\n",
    "        self.__breadth= breadth\n",
    "\n",
    "    #pulic method\n",
    "    def area(self):\n",
    "        return self.__length*self.__breadth\n",
    "\n",
    "    #pulic method\n",
    "    def perimeter(self):\n",
    "        return 2*(self.__length+self.__breadth)"
   ]
  },
  {
   "cell_type": "code",
   "execution_count": 28,
   "id": "cfc0065d-2af5-4194-b53f-6f5124cedcea",
   "metadata": {},
   "outputs": [],
   "source": [
    "r1=Rectangle(2,5)"
   ]
  },
  {
   "cell_type": "code",
   "execution_count": 29,
   "id": "2e25f03f-5ba3-4e8e-825b-f3c9c3af803f",
   "metadata": {},
   "outputs": [
    {
     "ename": "AttributeError",
     "evalue": "'Rectangle' object has no attribute 'length'",
     "output_type": "error",
     "traceback": [
      "\u001b[1;31m---------------------------------------------------------------------------\u001b[0m",
      "\u001b[1;31mAttributeError\u001b[0m                            Traceback (most recent call last)",
      "Cell \u001b[1;32mIn[29], line 1\u001b[0m\n\u001b[1;32m----> 1\u001b[0m \u001b[43mr1\u001b[49m\u001b[38;5;241;43m.\u001b[39;49m\u001b[43mlength\u001b[49m\n",
      "\u001b[1;31mAttributeError\u001b[0m: 'Rectangle' object has no attribute 'length'"
     ]
    }
   ],
   "source": [
    "r1.length"
   ]
  },
  {
   "cell_type": "code",
   "execution_count": 30,
   "id": "a710c399-f07c-4291-aad4-35d93c466dea",
   "metadata": {},
   "outputs": [
    {
     "ename": "AttributeError",
     "evalue": "'Rectangle' object has no attribute '__length'",
     "output_type": "error",
     "traceback": [
      "\u001b[1;31m---------------------------------------------------------------------------\u001b[0m",
      "\u001b[1;31mAttributeError\u001b[0m                            Traceback (most recent call last)",
      "Cell \u001b[1;32mIn[30], line 1\u001b[0m\n\u001b[1;32m----> 1\u001b[0m \u001b[43mr1\u001b[49m\u001b[38;5;241;43m.\u001b[39;49m\u001b[43m__length\u001b[49m\n",
      "\u001b[1;31mAttributeError\u001b[0m: 'Rectangle' object has no attribute '__length'"
     ]
    }
   ],
   "source": [
    "r1.__length"
   ]
  },
  {
   "cell_type": "code",
   "execution_count": 31,
   "id": "72646b0f-5a8d-4f92-825e-e847c42bec6c",
   "metadata": {},
   "outputs": [],
   "source": [
    "r1.__length=\"ram\""
   ]
  },
  {
   "cell_type": "code",
   "execution_count": 32,
   "id": "057829f8-f575-4a9f-b151-1e068f136c38",
   "metadata": {},
   "outputs": [
    {
     "data": {
      "text/plain": [
       "10"
      ]
     },
     "execution_count": 32,
     "metadata": {},
     "output_type": "execute_result"
    }
   ],
   "source": [
    "r1.area()"
   ]
  },
  {
   "cell_type": "code",
   "execution_count": 36,
   "id": "d4c97eaf-f168-44e8-8fb3-7b90642cf669",
   "metadata": {},
   "outputs": [],
   "source": [
    "#outside of class indirect access garna dina lai\n",
    "class Rectangle:\n",
    "    def __init__(self, length, breadth):\n",
    "        #private attribute=> can not be accessed outside of class\n",
    "        self.__length= length\n",
    "        self.__breadth= breadth\n",
    "\n",
    "    #pulic method\n",
    "    def area(self):\n",
    "        return self.__length*self.__breadth\n",
    "\n",
    "    #pulic method\n",
    "    def perimeter(self):\n",
    "        return 2*(self.__length+self.__breadth)\n",
    "\n",
    "    def length_getter(self):\n",
    "        return self.__length\n",
    "\n",
    "    def breadth_getter(self):\n",
    "        return self.__breadth"
   ]
  },
  {
   "cell_type": "code",
   "execution_count": 37,
   "id": "cbef1b4f-b785-4a8d-bdb6-b424a1a214b3",
   "metadata": {},
   "outputs": [],
   "source": [
    "r1=Rectangle(2,3)"
   ]
  },
  {
   "cell_type": "code",
   "execution_count": 38,
   "id": "b1ede414-d243-4622-b1c6-10d7e5a38aac",
   "metadata": {},
   "outputs": [
    {
     "data": {
      "text/plain": [
       "2"
      ]
     },
     "execution_count": 38,
     "metadata": {},
     "output_type": "execute_result"
    }
   ],
   "source": [
    "r1.length_getter()"
   ]
  },
  {
   "cell_type": "code",
   "execution_count": 39,
   "id": "b5114148-eacf-4112-b405-affa76082f23",
   "metadata": {},
   "outputs": [
    {
     "data": {
      "text/plain": [
       "3"
      ]
     },
     "execution_count": 39,
     "metadata": {},
     "output_type": "execute_result"
    }
   ],
   "source": [
    "r1.breadth_getter()"
   ]
  },
  {
   "cell_type": "code",
   "execution_count": 47,
   "id": "720ee3f0-8fbd-4f92-ab01-a20fa7f3f7c2",
   "metadata": {},
   "outputs": [],
   "source": [
    "##################\n",
    "class Rectangle:\n",
    "    def __init__(self, length, breadth):\n",
    "        #private attribute=> can not be accessed outside of class\n",
    "        self.__length= length\n",
    "        self.__breadth= breadth\n",
    "\n",
    "    #pulic method\n",
    "    def area(self):\n",
    "        return self.__length*self.__breadth\n",
    "\n",
    "    #pulic method\n",
    "    def perimeter(self):\n",
    "        return 2*(self.__length+self.__breadth)\n",
    "\n",
    "    def length_getter(self):\n",
    "        return self.__length\n",
    "\n",
    "    def length_setter(self,value):\n",
    "        self.__length= value        \n",
    "\n",
    "    def breadth_getter(self):\n",
    "        return self.__breadth"
   ]
  },
  {
   "cell_type": "code",
   "execution_count": 48,
   "id": "3e8485db-bc4f-4862-a66c-3a2f44693e79",
   "metadata": {},
   "outputs": [],
   "source": [
    "r1=Rectangle(2,3)"
   ]
  },
  {
   "cell_type": "code",
   "execution_count": 49,
   "id": "7d68d4f4-5461-481f-9c28-8bccbfa543b5",
   "metadata": {},
   "outputs": [
    {
     "data": {
      "text/plain": [
       "2"
      ]
     },
     "execution_count": 49,
     "metadata": {},
     "output_type": "execute_result"
    }
   ],
   "source": [
    "r1.length_getter()"
   ]
  },
  {
   "cell_type": "code",
   "execution_count": 50,
   "id": "0eaae560-9f36-48f5-a94d-74a5d0b5fbcc",
   "metadata": {},
   "outputs": [],
   "source": [
    "r1.length_setter(4)"
   ]
  },
  {
   "cell_type": "code",
   "execution_count": 51,
   "id": "ef65533c-6c27-43cd-af52-274ef82cd849",
   "metadata": {},
   "outputs": [
    {
     "data": {
      "text/plain": [
       "4"
      ]
     },
     "execution_count": 51,
     "metadata": {},
     "output_type": "execute_result"
    }
   ],
   "source": [
    "r1.length_getter()"
   ]
  },
  {
   "cell_type": "code",
   "execution_count": 52,
   "id": "4d0bdaf1-a1c2-4281-aa2b-7f20f99dc01e",
   "metadata": {},
   "outputs": [
    {
     "data": {
      "text/plain": [
       "12"
      ]
     },
     "execution_count": 52,
     "metadata": {},
     "output_type": "execute_result"
    }
   ],
   "source": [
    "r1.area()"
   ]
  },
  {
   "cell_type": "code",
   "execution_count": 66,
   "id": "7f30e0d2-9d6f-409c-848c-4fb792032e88",
   "metadata": {},
   "outputs": [],
   "source": [
    "#value validation\n",
    "class Rectangle:\n",
    "    def __init__(self, length, breadth):\n",
    "        #private attribute=> can not be accessed outside of class\n",
    "        self.__length= length\n",
    "        self.__breadth= breadth\n",
    "\n",
    "    #pulic method\n",
    "    def area(self):\n",
    "        return self.__length*self.__breadth\n",
    "\n",
    "    #pulic method\n",
    "    def perimeter(self):\n",
    "        return 2*(self.__length+self.__breadth)\n",
    "\n",
    "    def length_getter(self):\n",
    "        return self.__length\n",
    "\n",
    "    def length_setter(self,value):\n",
    "        #validation\n",
    "        if not isinstance(value,(int, float)):\n",
    "            raise ValueError(\"Not a Valid data type\")\n",
    "        self.__length= value        \n",
    "\n",
    "    def breadth_getter(self):\n",
    "        return self.__breadth\n",
    "\n",
    "    def breadth_setter(self,value):\n",
    "        if not isinstance(value,(int, float)):\n",
    "            raise ValueError(\"Not a Valid data type\")\n",
    "        self.__breadth= value   "
   ]
  },
  {
   "cell_type": "code",
   "execution_count": 67,
   "id": "1b231b53-4bff-40bd-9a05-569213f4c6b6",
   "metadata": {},
   "outputs": [],
   "source": [
    "r1=Rectangle (2,4)"
   ]
  },
  {
   "cell_type": "code",
   "execution_count": 68,
   "id": "ff125ed6-c816-4f90-bb1b-32182fe29f63",
   "metadata": {},
   "outputs": [
    {
     "ename": "ValueError",
     "evalue": "Not a Valid data type",
     "output_type": "error",
     "traceback": [
      "\u001b[1;31m---------------------------------------------------------------------------\u001b[0m",
      "\u001b[1;31mValueError\u001b[0m                                Traceback (most recent call last)",
      "Cell \u001b[1;32mIn[68], line 1\u001b[0m\n\u001b[1;32m----> 1\u001b[0m \u001b[43mr1\u001b[49m\u001b[38;5;241;43m.\u001b[39;49m\u001b[43mlength_setter\u001b[49m\u001b[43m(\u001b[49m\u001b[38;5;124;43m\"\u001b[39;49m\u001b[38;5;124;43mram\u001b[39;49m\u001b[38;5;124;43m\"\u001b[39;49m\u001b[43m)\u001b[49m\n",
      "Cell \u001b[1;32mIn[66], line 22\u001b[0m, in \u001b[0;36mRectangle.length_setter\u001b[1;34m(self, value)\u001b[0m\n\u001b[0;32m     19\u001b[0m \u001b[38;5;28;01mdef\u001b[39;00m \u001b[38;5;21mlength_setter\u001b[39m(\u001b[38;5;28mself\u001b[39m,value):\n\u001b[0;32m     20\u001b[0m     \u001b[38;5;66;03m#validation\u001b[39;00m\n\u001b[0;32m     21\u001b[0m     \u001b[38;5;28;01mif\u001b[39;00m \u001b[38;5;129;01mnot\u001b[39;00m \u001b[38;5;28misinstance\u001b[39m(value,(\u001b[38;5;28mint\u001b[39m, \u001b[38;5;28mfloat\u001b[39m)):\n\u001b[1;32m---> 22\u001b[0m         \u001b[38;5;28;01mraise\u001b[39;00m \u001b[38;5;167;01mValueError\u001b[39;00m(\u001b[38;5;124m\"\u001b[39m\u001b[38;5;124mNot a Valid data type\u001b[39m\u001b[38;5;124m\"\u001b[39m)\n\u001b[0;32m     23\u001b[0m     \u001b[38;5;28mself\u001b[39m\u001b[38;5;241m.\u001b[39m__length\u001b[38;5;241m=\u001b[39m value\n",
      "\u001b[1;31mValueError\u001b[0m: Not a Valid data type"
     ]
    }
   ],
   "source": [
    "r1.length_setter(\"ram\")"
   ]
  },
  {
   "cell_type": "code",
   "execution_count": 69,
   "id": "9e7945a0-1e49-4274-a8c7-a68620a6ae92",
   "metadata": {},
   "outputs": [
    {
     "ename": "ValueError",
     "evalue": "Not a Valid data type",
     "output_type": "error",
     "traceback": [
      "\u001b[1;31m---------------------------------------------------------------------------\u001b[0m",
      "\u001b[1;31mValueError\u001b[0m                                Traceback (most recent call last)",
      "Cell \u001b[1;32mIn[69], line 1\u001b[0m\n\u001b[1;32m----> 1\u001b[0m \u001b[43mr1\u001b[49m\u001b[38;5;241;43m.\u001b[39;49m\u001b[43mbreadth_setter\u001b[49m\u001b[43m(\u001b[49m\u001b[38;5;124;43m\"\u001b[39;49m\u001b[38;5;124;43mram\u001b[39;49m\u001b[38;5;124;43m\"\u001b[39;49m\u001b[43m)\u001b[49m\n",
      "Cell \u001b[1;32mIn[66], line 30\u001b[0m, in \u001b[0;36mRectangle.breadth_setter\u001b[1;34m(self, value)\u001b[0m\n\u001b[0;32m     28\u001b[0m \u001b[38;5;28;01mdef\u001b[39;00m \u001b[38;5;21mbreadth_setter\u001b[39m(\u001b[38;5;28mself\u001b[39m,value):\n\u001b[0;32m     29\u001b[0m     \u001b[38;5;28;01mif\u001b[39;00m \u001b[38;5;129;01mnot\u001b[39;00m \u001b[38;5;28misinstance\u001b[39m(value,(\u001b[38;5;28mint\u001b[39m, \u001b[38;5;28mfloat\u001b[39m)):\n\u001b[1;32m---> 30\u001b[0m         \u001b[38;5;28;01mraise\u001b[39;00m \u001b[38;5;167;01mValueError\u001b[39;00m(\u001b[38;5;124m\"\u001b[39m\u001b[38;5;124mNot a Valid data type\u001b[39m\u001b[38;5;124m\"\u001b[39m)\n\u001b[0;32m     31\u001b[0m     \u001b[38;5;28mself\u001b[39m\u001b[38;5;241m.\u001b[39m__breadth\u001b[38;5;241m=\u001b[39m value\n",
      "\u001b[1;31mValueError\u001b[0m: Not a Valid data type"
     ]
    }
   ],
   "source": [
    "r1.breadth_setter(\"ram\")"
   ]
  },
  {
   "cell_type": "code",
   "execution_count": 78,
   "id": "88dd7d1c-ea8d-4af1-9203-b9d8777dbbaa",
   "metadata": {},
   "outputs": [],
   "source": [
    "class Rectangle:\n",
    "    def __init__(self, length, breadth):\n",
    "        #private attribute=> can not be accessed outside of class\n",
    "        self.__length= length\n",
    "        self.__breadth= breadth\n",
    "\n",
    "    #pulic method\n",
    "    def area(self):\n",
    "        return self.__length*self.__breadth\n",
    "\n",
    "    #pulic method\n",
    "    def perimeter(self):\n",
    "        return 2*(self.__length + self.__breadth)\n",
    "\n",
    "    def __validate(self, value):\n",
    "        if not isinstance(value,(int, float)):\n",
    "            raise ValueError(\"Not a Valid data type\")\n",
    "\n",
    "    def length_getter(self):\n",
    "        return self.__length\n",
    "\n",
    "    def length_setter(self,value):\n",
    "        self.validate(value) \n",
    "        self.__length= value \n",
    "\n",
    "    def breadth_getter(self):\n",
    "        return self.__breadth\n",
    "\n",
    "    def breadth_setter(self,value):\n",
    "        self.validate(value)\n",
    "        self.__breadth= value   "
   ]
  },
  {
   "cell_type": "code",
   "execution_count": 79,
   "id": "41eb0057-43dd-4f9f-a562-7793e5aad376",
   "metadata": {},
   "outputs": [],
   "source": [
    "r1= Rectangle(2,3)"
   ]
  },
  {
   "cell_type": "code",
   "execution_count": 80,
   "id": "6ef492eb-d8d2-4287-84d8-79f2faee9265",
   "metadata": {},
   "outputs": [
    {
     "data": {
      "text/plain": [
       "6"
      ]
     },
     "execution_count": 80,
     "metadata": {},
     "output_type": "execute_result"
    }
   ],
   "source": [
    "r1.area()"
   ]
  },
  {
   "cell_type": "code",
   "execution_count": 84,
   "id": "945e24fd-74fd-4213-9ec1-15e6c7640cec",
   "metadata": {},
   "outputs": [],
   "source": [
    "class Point:\n",
    "    def __init__(self, x_coord, y_coord):\n",
    "        self.x= x_coord\n",
    "        self.y= y_coord"
   ]
  },
  {
   "cell_type": "code",
   "execution_count": 85,
   "id": "4edb5b9b-96c5-4e00-9d0a-612130068cb8",
   "metadata": {},
   "outputs": [],
   "source": [
    "p= Point(2,3)"
   ]
  },
  {
   "cell_type": "code",
   "execution_count": 86,
   "id": "1ffa31e4-4cfd-4fd6-b11f-05d656e9967e",
   "metadata": {},
   "outputs": [
    {
     "name": "stdout",
     "output_type": "stream",
     "text": [
      "<__main__.Point object at 0x000001CF8F2ABA40>\n"
     ]
    }
   ],
   "source": [
    "print(p)"
   ]
  },
  {
   "cell_type": "code",
   "execution_count": 90,
   "id": "452a2c0a-ae06-442c-9db1-78e7992851eb",
   "metadata": {},
   "outputs": [],
   "source": [
    "#Special method/ double underscore/ dunder/ magic method\n",
    "class Point:\n",
    "    def __init__(self, x_coord, y_coord):\n",
    "        self.x= x_coord\n",
    "        self.y= y_coord\n",
    "\n",
    "    def __str__(self):\n",
    "        return f\"Point({self.x}, {self.y})\""
   ]
  },
  {
   "cell_type": "code",
   "execution_count": 91,
   "id": "91830c0f-27f8-47c1-842c-1e909bea1eb9",
   "metadata": {},
   "outputs": [],
   "source": [
    "p= Point(2,3)"
   ]
  },
  {
   "cell_type": "code",
   "execution_count": 92,
   "id": "4b8a1f67-e70c-4077-a53f-f09e66cf7d0b",
   "metadata": {},
   "outputs": [
    {
     "name": "stdout",
     "output_type": "stream",
     "text": [
      "Point(2, 3)\n"
     ]
    }
   ],
   "source": [
    "print(p)"
   ]
  },
  {
   "cell_type": "code",
   "execution_count": 4,
   "id": "f4929648-8c41-4489-bff4-74b458ece68a",
   "metadata": {},
   "outputs": [],
   "source": [
    "###arko method\n",
    "class Point:\n",
    "    def __init__(self, x_coord, y_coord):\n",
    "        self.x= x_coord\n",
    "        self.y= y_coord\n",
    "\n",
    "    def __str__(self):   #__str__ chai framework/library/python use garne le use garcha\n",
    "        return f\"Point({self.x}, {self.y})\"\n",
    "\n",
    "    def __repr__(self):  #__repe__ chai framework/library/python banaune le use garcha\n",
    "        return f\"Point({self.x}, {self.y})\""
   ]
  },
  {
   "cell_type": "code",
   "execution_count": 5,
   "id": "768b80e0-e2de-4973-9103-5a3ee7cc29a5",
   "metadata": {},
   "outputs": [],
   "source": [
    "p= Point(8,9)"
   ]
  },
  {
   "cell_type": "code",
   "execution_count": 6,
   "id": "0053d1a6-063f-42dd-9150-1fa20fc9a18c",
   "metadata": {},
   "outputs": [
    {
     "data": {
      "text/plain": [
       "Point(8, 9)"
      ]
     },
     "execution_count": 6,
     "metadata": {},
     "output_type": "execute_result"
    }
   ],
   "source": [
    "p"
   ]
  },
  {
   "cell_type": "code",
   "execution_count": 10,
   "id": "07998259-f718-400a-86c4-ff248d2d9b65",
   "metadata": {},
   "outputs": [],
   "source": [
    "class Point:\n",
    "    def __init__(self, x, y):\n",
    "        self.x= x\n",
    "        self.y= y\n",
    "\n",
    "    def __str__(self):   #__str__ chai framework/library/python use garne le use garcha\n",
    "        return f\"Point({self.x}, {self.y})\"\n",
    "\n",
    "    def __repr__(self):  #__repe__ chai framework/library/python banaune le use garcha\n",
    "        return f\"Point({self.x}, {self.y})\"\n",
    "\n",
    "    def __add__(self, other):\n",
    "        total_x= self.x + other.x\n",
    "        total_y= self.y + other.y\n",
    "        return Point(total_x, total_y)\n",
    "\n",
    "    # def __add__(self, other):\n",
    "    #     total_x= self.x - other.x\n",
    "    #     total_y= self.y - other.y\n",
    "    #     return Point(total_x, total_y)"
   ]
  },
  {
   "cell_type": "code",
   "execution_count": 11,
   "id": "34f63f0b-36d2-448d-a1cd-89a41c1d21bf",
   "metadata": {},
   "outputs": [],
   "source": [
    "p1= Point(1,2)\n",
    "p2= Point(2,3)"
   ]
  },
  {
   "cell_type": "code",
   "execution_count": 12,
   "id": "deeeed5a-6398-47f8-a216-840901f7e8d3",
   "metadata": {},
   "outputs": [
    {
     "data": {
      "text/plain": [
       "Point(-1, -1)"
      ]
     },
     "execution_count": 12,
     "metadata": {},
     "output_type": "execute_result"
    }
   ],
   "source": [
    "p1+p2"
   ]
  },
  {
   "cell_type": "code",
   "execution_count": 19,
   "id": "931f149d-66bd-4092-a2d0-5394c7db84a0",
   "metadata": {},
   "outputs": [],
   "source": [
    "class Point:\n",
    "    def __init__(self, x, y):\n",
    "        self.x= x\n",
    "        self.y= y\n",
    "\n",
    "    def __str__(self):   #__str__ chai framework/library/python use garne le use garcha\n",
    "        return f\"Point({self.x}, {self.y})\"\n",
    "\n",
    "    def __repr__(self):  #__repe__ chai framework/library/python banaune le use garcha\n",
    "        return f\"Point({self.x}, {self.y})\"\n",
    "\n",
    "    # def __add__(self, other):\n",
    "    #     total_x= self.x + other.x\n",
    "    #     total_y= self.y + other.y\n",
    "    #     return Point(total_x, total_y)\n",
    "\n",
    "    def __sub__(self, other):\n",
    "        total_x= self.x - other.x\n",
    "        total_y= self.y - other.y\n",
    "        return Point(total_x, total_y)"
   ]
  },
  {
   "cell_type": "code",
   "execution_count": 20,
   "id": "9207d802-14fc-4055-9aa5-425f26c3303d",
   "metadata": {},
   "outputs": [],
   "source": [
    "p1= Point(1,2)\n",
    "p2= Point(2,3)"
   ]
  },
  {
   "cell_type": "code",
   "execution_count": 21,
   "id": "5b71f216-c279-4444-a16c-fd462bab7dda",
   "metadata": {},
   "outputs": [
    {
     "data": {
      "text/plain": [
       "Point(-1, -1)"
      ]
     },
     "execution_count": 21,
     "metadata": {},
     "output_type": "execute_result"
    }
   ],
   "source": [
    "p1-p2"
   ]
  },
  {
   "cell_type": "code",
   "execution_count": 22,
   "id": "a29bf8ec-63d3-48d3-8c7f-88c64d6ca924",
   "metadata": {},
   "outputs": [],
   "source": [
    "#distance nikalera kun greater herna ;lai\n",
    "from math import sqrt\n",
    "class Point:\n",
    "    def __init__(self, x, y):\n",
    "        self.x= x\n",
    "        self.y= y\n",
    "\n",
    "    def __str__(self):   #__str__ chai framework/library/python use garne le use garcha\n",
    "        return f\"Point({self.x}, {self.y})\"\n",
    "\n",
    "    def __repr__(self):  #__repe__ chai framework/library/python banaune le use garcha\n",
    "        return f\"Point({self.x}, {self.y})\"\n",
    "\n",
    "    def __add__(self, other):\n",
    "        total_x= self.x + other.x\n",
    "        total_y= self.y + other.y\n",
    "        return Point(total_x, total_y)\n",
    "\n",
    "    def __sub__(self, other):\n",
    "        total_x= self.x - other.x\n",
    "        total_y= self.y - other.y\n",
    "        return Point(total_x, total_y)\n",
    "\n",
    "    def __gt__(self,other):\n",
    "        self_distance= sqrt(self.x**2 + self.y**2)\n",
    "        other_distance= sqrt(other.x**2 + other.y**2)\n",
    "        if self_distance>other_distance:\n",
    "            return True\n",
    "        else:\n",
    "            return False"
   ]
  },
  {
   "cell_type": "code",
   "execution_count": 24,
   "id": "221209db-6b32-487b-8b91-1a0b53cfb392",
   "metadata": {},
   "outputs": [
    {
     "data": {
      "text/plain": [
       "False"
      ]
     },
     "execution_count": 24,
     "metadata": {},
     "output_type": "execute_result"
    }
   ],
   "source": [
    "p1= Point(1,2)\n",
    "p2= Point(2,3)\n",
    "p1>p2"
   ]
  },
  {
   "cell_type": "code",
   "execution_count": 25,
   "id": "054b4260-fa70-43f4-9a2d-15f64e4e3d5a",
   "metadata": {},
   "outputs": [
    {
     "data": {
      "text/plain": [
       "True"
      ]
     },
     "execution_count": 25,
     "metadata": {},
     "output_type": "execute_result"
    }
   ],
   "source": [
    "p1= Point(6,2)\n",
    "p2= Point(2,3)\n",
    "p1>p2"
   ]
  },
  {
   "cell_type": "code",
   "execution_count": 26,
   "id": "b0cb59fb-a9cc-462f-9c06-a9804042dbda",
   "metadata": {},
   "outputs": [
    {
     "data": {
      "text/plain": [
       "False"
      ]
     },
     "execution_count": 26,
     "metadata": {},
     "output_type": "execute_result"
    }
   ],
   "source": [
    "#less than chai aafai convert huncha\n",
    "p1= Point(6,2)\n",
    "p2= Point(2,3)\n",
    "p1<p2"
   ]
  },
  {
   "cell_type": "code",
   "execution_count": 34,
   "id": "bd718634-8b12-45f3-aabd-67c13c0bdac0",
   "metadata": {},
   "outputs": [],
   "source": [
    "#### less than ra equal ko code\n",
    "from math import sqrt\n",
    "class Point:\n",
    "    def __init__(self, x, y):\n",
    "        self.x= x\n",
    "        self.y= y\n",
    "\n",
    "    def __str__(self):   #__str__ chai framework/library/python use garne le use garcha\n",
    "        return f\"Point({self.x}, {self.y})\"\n",
    "\n",
    "    def __repr__(self):  #__repe__ chai framework/library/python banaune le use garcha\n",
    "        return f\"Point({self.x}, {self.y})\"\n",
    "\n",
    "    def __add__(self, other):\n",
    "        total_x= self.x + other.x\n",
    "        total_y= self.y + other.y\n",
    "        return Point(total_x, total_y)\n",
    "\n",
    "    def __sub__(self, other):\n",
    "        total_x= self.x - other.x\n",
    "        total_y= self.y - other.y\n",
    "        return Point(total_x, total_y)\n",
    "\n",
    "    def __gt__(self,other):\n",
    "        self_distance= sqrt(self.x**2 + self.y**2)\n",
    "        other_distance= sqrt(other.x**2 + other.y**2)\n",
    "        if self_distance>other_distance:\n",
    "            return True\n",
    "        else:\n",
    "            return False\n",
    "    def __lt__(self,other):\n",
    "        self_distance= sqrt(self.x**2 + self.y**2)\n",
    "        other_distance= sqrt(other.x**2 + other.y**2)\n",
    "        if self_distance<other_distance:\n",
    "            return True\n",
    "        else:\n",
    "            return False\n",
    "\n",
    "    def __eq__(self,other):\n",
    "        self_distance= sqrt(self.x**2 + self.y**2)\n",
    "        other_distance= sqrt(other.x**2 + other.y**2)\n",
    "        if self_distance == other_distance:\n",
    "            return True\n",
    "        else:\n",
    "            return False\n"
   ]
  },
  {
   "cell_type": "code",
   "execution_count": 35,
   "id": "d957fd2a-12f5-486a-97c4-943e91e1a81a",
   "metadata": {},
   "outputs": [
    {
     "data": {
      "text/plain": [
       "True"
      ]
     },
     "execution_count": 35,
     "metadata": {},
     "output_type": "execute_result"
    }
   ],
   "source": [
    "p1= Point(1,2)\n",
    "p2= Point(1,2)\n",
    "p1==p2"
   ]
  },
  {
   "cell_type": "code",
   "execution_count": null,
   "id": "06caae92-f001-470c-8077-83d480f120f3",
   "metadata": {},
   "outputs": [],
   "source": []
  }
 ],
 "metadata": {
  "kernelspec": {
   "display_name": "Python 3 (ipykernel)",
   "language": "python",
   "name": "python3"
  },
  "language_info": {
   "codemirror_mode": {
    "name": "ipython",
    "version": 3
   },
   "file_extension": ".py",
   "mimetype": "text/x-python",
   "name": "python",
   "nbconvert_exporter": "python",
   "pygments_lexer": "ipython3",
   "version": "3.12.5"
  }
 },
 "nbformat": 4,
 "nbformat_minor": 5
}
