{
 "cells": [
  {
   "cell_type": "code",
   "execution_count": 2,
   "id": "892c6242-023b-42d7-9253-925399455bba",
   "metadata": {},
   "outputs": [],
   "source": [
    "#...............flowcontrol\n",
    "#if....else..."
   ]
  },
  {
   "cell_type": "code",
   "execution_count": 4,
   "id": "2efe2c96-730d-4f85-8afc-21d38f839aca",
   "metadata": {},
   "outputs": [
    {
     "name": "stdout",
     "output_type": "stream",
     "text": [
      "Unauthorized\n"
     ]
    }
   ],
   "source": [
    "age= 17\n",
    "if age < 18:\n",
    "    print (\"Unauthorized\") # indentation/ white space=> 4 spaces=> 1tab"
   ]
  },
  {
   "cell_type": "code",
   "execution_count": 7,
   "id": "d72b2012-8b1a-4372-b1d3-e5e4fa26a226",
   "metadata": {},
   "outputs": [
    {
     "name": "stdin",
     "output_type": "stream",
     "text": [
      "Enter your age 2\n"
     ]
    },
    {
     "name": "stdout",
     "output_type": "stream",
     "text": [
      "Unauthorized\n"
     ]
    }
   ],
   "source": [
    "age= int(input(\"Enter your age\"))\n",
    "if age >= 18:\n",
    "    print (\"Authorized\")\n",
    "else:\n",
    "    print (\"Unauthorized\")"
   ]
  },
  {
   "cell_type": "code",
   "execution_count": 9,
   "id": "e1078a5e-085f-4e50-8984-95bbd24308d4",
   "metadata": {},
   "outputs": [
    {
     "name": "stdin",
     "output_type": "stream",
     "text": [
      "Enter your age 2\n"
     ]
    },
    {
     "name": "stdout",
     "output_type": "stream",
     "text": [
      "Unauthorized\n"
     ]
    }
   ],
   "source": [
    "age= int(input(\"Enter your age\"))\n",
    "if age >= 18:\n",
    "    print (\"Authorized\")\n",
    "if age <18:\n",
    "    print (\"Unauthorized\")"
   ]
  },
  {
   "cell_type": "code",
   "execution_count": 10,
   "id": "f16f3a12-12a1-4564-9613-b1d3307ba345",
   "metadata": {},
   "outputs": [
    {
     "name": "stdout",
     "output_type": "stream",
     "text": [
      "Unauthorized\n"
     ]
    }
   ],
   "source": [
    "age= 17\n",
    "if age >= 18:\n",
    "    print (\"Authorized\")\n",
    "    print (\"hi\")\n",
    "print (\"Unauthorized\")"
   ]
  },
  {
   "cell_type": "code",
   "execution_count": 11,
   "id": "ce303371-8063-491c-acc0-e8b4b3546cd0",
   "metadata": {},
   "outputs": [
    {
     "name": "stdout",
     "output_type": "stream",
     "text": [
      "Authorized\n",
      "hi\n",
      "Unauthorized\n"
     ]
    }
   ],
   "source": [
    "age= 19\n",
    "if age >= 18:\n",
    "    print (\"Authorized\")\n",
    "    print (\"hi\")\n",
    "print (\"Unauthorized\")"
   ]
  },
  {
   "cell_type": "code",
   "execution_count": 14,
   "id": "aaca3ca6-7d7d-4866-b21f-2567c59b349c",
   "metadata": {},
   "outputs": [
    {
     "name": "stdin",
     "output_type": "stream",
     "text": [
      "Enter your mark 45\n"
     ]
    },
    {
     "name": "stdout",
     "output_type": "stream",
     "text": [
      "Pass\n"
     ]
    }
   ],
   "source": [
    "marks= int(input(\"Enter your mark\"))\n",
    "if marks >= 45:\n",
    "    print (\"Pass\")\n",
    "else:\n",
    "    print (\"Fail\")"
   ]
  },
  {
   "cell_type": "code",
   "execution_count": 16,
   "id": "3e1a90bc-6381-40db-bc06-fe9f28e2a6ed",
   "metadata": {},
   "outputs": [],
   "source": [
    "#user sanga duita value magne, jun thulo cha tyo greatest vanne"
   ]
  },
  {
   "cell_type": "code",
   "execution_count": null,
   "id": "d12ca930-225d-42d8-9cd8-c068e3688690",
   "metadata": {},
   "outputs": [],
   "source": []
  }
 ],
 "metadata": {
  "kernelspec": {
   "display_name": "Python 3 (ipykernel)",
   "language": "python",
   "name": "python3"
  },
  "language_info": {
   "codemirror_mode": {
    "name": "ipython",
    "version": 3
   },
   "file_extension": ".py",
   "mimetype": "text/x-python",
   "name": "python",
   "nbconvert_exporter": "python",
   "pygments_lexer": "ipython3",
   "version": "3.12.5"
  }
 },
 "nbformat": 4,
 "nbformat_minor": 5
}
