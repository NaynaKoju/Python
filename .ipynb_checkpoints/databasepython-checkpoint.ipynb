{
 "cells": [
  {
   "cell_type": "code",
   "execution_count": 2,
   "id": "ea9ef34c-ceef-4f26-ab72-4ae56efadc43",
   "metadata": {},
   "outputs": [],
   "source": [
    "import sqlite3"
   ]
  },
  {
   "cell_type": "code",
   "execution_count": 3,
   "id": "37a8aef2-e504-4c38-8c8e-cb0099554d72",
   "metadata": {},
   "outputs": [],
   "source": [
    "con= sqlite3.connect(\"students1.sqlite3\") #database ko naam dya"
   ]
  },
  {
   "cell_type": "code",
   "execution_count": 4,
   "id": "57f81b46-f6e0-4d19-a505-a0507e7199b7",
   "metadata": {},
   "outputs": [],
   "source": [
    "cur= con.cursor() #select haru comment chalna lai. cur vanya chai cursor variable"
   ]
  },
  {
   "cell_type": "code",
   "execution_count": 7,
   "id": "8804350f-fed2-4cc3-8c48-90fdcc0e1a01",
   "metadata": {},
   "outputs": [
    {
     "ename": "OperationalError",
     "evalue": "table student already exists",
     "output_type": "error",
     "traceback": [
      "\u001b[1;31m---------------------------------------------------------------------------\u001b[0m",
      "\u001b[1;31mOperationalError\u001b[0m                          Traceback (most recent call last)",
      "Cell \u001b[1;32mIn[7], line 14\u001b[0m\n\u001b[0;32m      1\u001b[0m CREATE_TABLE_QUERY\u001b[38;5;241m=\u001b[39m\u001b[38;5;124m\"\"\"\u001b[39m\n\u001b[0;32m      2\u001b[0m \n\u001b[0;32m      3\u001b[0m \u001b[38;5;124mCREATE TABLE student(\u001b[39m\n\u001b[1;32m   (...)\u001b[0m\n\u001b[0;32m     12\u001b[0m \n\u001b[0;32m     13\u001b[0m \u001b[38;5;124m\"\"\"\u001b[39m\n\u001b[1;32m---> 14\u001b[0m \u001b[43mcur\u001b[49m\u001b[38;5;241;43m.\u001b[39;49m\u001b[43mexecute\u001b[49m\u001b[43m(\u001b[49m\u001b[43mCREATE_TABLE_QUERY\u001b[49m\u001b[43m)\u001b[49m\n",
      "\u001b[1;31mOperationalError\u001b[0m: table student already exists"
     ]
    }
   ],
   "source": [
    "CREATE_TABLE_QUERY=\"\"\"\n",
    "\n",
    "CREATE TABLE student(\n",
    "id int primary key,\n",
    "name varchar not null,\n",
    "address varchar not null,\n",
    "college varchar not null,\n",
    "age int not null,\n",
    "gender varchar(1) not null,\n",
    "faculty varchar not null\n",
    ");\n",
    "\n",
    "\"\"\"\n",
    "cur.execute(CREATE_TABLE_QUERY)"
   ]
  },
  {
   "cell_type": "code",
   "execution_count": 8,
   "id": "43eaa040-cb84-444b-8900-320877c4ba8e",
   "metadata": {},
   "outputs": [
    {
     "ename": "IntegrityError",
     "evalue": "UNIQUE constraint failed: student.id",
     "output_type": "error",
     "traceback": [
      "\u001b[1;31m---------------------------------------------------------------------------\u001b[0m",
      "\u001b[1;31mIntegrityError\u001b[0m                            Traceback (most recent call last)",
      "Cell \u001b[1;32mIn[8], line 10\u001b[0m\n\u001b[0;32m      1\u001b[0m INSERT_RECORDS\u001b[38;5;241m=\u001b[39m\u001b[38;5;124m'''\u001b[39m\n\u001b[0;32m      2\u001b[0m \u001b[38;5;124mINSERT INTO student\u001b[39m\n\u001b[0;32m      3\u001b[0m \u001b[38;5;124m(\u001b[39m\u001b[38;5;124m'\u001b[39m\u001b[38;5;124mid\u001b[39m\u001b[38;5;124m'\u001b[39m\u001b[38;5;124m, \u001b[39m\u001b[38;5;124m'\u001b[39m\u001b[38;5;124mname\u001b[39m\u001b[38;5;124m'\u001b[39m\u001b[38;5;124m, \u001b[39m\u001b[38;5;124m'\u001b[39m\u001b[38;5;124maddress\u001b[39m\u001b[38;5;124m'\u001b[39m\u001b[38;5;124m, \u001b[39m\u001b[38;5;124m'\u001b[39m\u001b[38;5;124mcollege\u001b[39m\u001b[38;5;124m'\u001b[39m\u001b[38;5;124m, \u001b[39m\u001b[38;5;124m'\u001b[39m\u001b[38;5;124mage\u001b[39m\u001b[38;5;124m'\u001b[39m\u001b[38;5;124m, \u001b[39m\u001b[38;5;124m'\u001b[39m\u001b[38;5;124mgender\u001b[39m\u001b[38;5;124m'\u001b[39m\u001b[38;5;124m, \u001b[39m\u001b[38;5;124m'\u001b[39m\u001b[38;5;124mfaculty\u001b[39m\u001b[38;5;124m'\u001b[39m\u001b[38;5;124m)\u001b[39m\n\u001b[1;32m   (...)\u001b[0m\n\u001b[0;32m      8\u001b[0m \u001b[38;5;124m(4, \u001b[39m\u001b[38;5;124m'\u001b[39m\u001b[38;5;124msita\u001b[39m\u001b[38;5;124m'\u001b[39m\u001b[38;5;124m, \u001b[39m\u001b[38;5;124m'\u001b[39m\u001b[38;5;124mktm\u001b[39m\u001b[38;5;124m'\u001b[39m\u001b[38;5;124m, \u001b[39m\u001b[38;5;124m'\u001b[39m\u001b[38;5;124mioe\u001b[39m\u001b[38;5;124m'\u001b[39m\u001b[38;5;124m, 24, \u001b[39m\u001b[38;5;124m'\u001b[39m\u001b[38;5;124mf\u001b[39m\u001b[38;5;124m'\u001b[39m\u001b[38;5;124m, \u001b[39m\u001b[38;5;124m'\u001b[39m\u001b[38;5;124mCE\u001b[39m\u001b[38;5;124m'\u001b[39m\u001b[38;5;124m);\u001b[39m\n\u001b[0;32m      9\u001b[0m \u001b[38;5;124m'''\u001b[39m\n\u001b[1;32m---> 10\u001b[0m \u001b[43mcur\u001b[49m\u001b[38;5;241;43m.\u001b[39;49m\u001b[43mexecute\u001b[49m\u001b[43m(\u001b[49m\u001b[43mINSERT_RECORDS\u001b[49m\u001b[43m)\u001b[49m\n",
      "\u001b[1;31mIntegrityError\u001b[0m: UNIQUE constraint failed: student.id"
     ]
    }
   ],
   "source": [
    "INSERT_RECORDS='''\n",
    "INSERT INTO student\n",
    "('id', 'name', 'address', 'college', 'age', 'gender', 'faculty')\n",
    "VALUES\n",
    "(1, 'ram', 'ktm', 'ncit', 18, 'm', 'IT'),\n",
    "(2, 'shyam', 'lalitpur', 'islington', 20, 'm', 'CSIT'),\n",
    "(3, 'gita', 'pokhara', 'ncit', 21, 'f', 'SE'),\n",
    "(4, 'sita', 'ktm', 'ioe', 24, 'f', 'CE');\n",
    "'''\n",
    "cur.execute(INSERT_RECORDS)\n"
   ]
  },
  {
   "cell_type": "code",
   "execution_count": 9,
   "id": "5da54be7-f893-41be-b55a-28d8e97d5bee",
   "metadata": {},
   "outputs": [],
   "source": [
    "con.commit()"
   ]
  },
  {
   "cell_type": "code",
   "execution_count": 10,
   "id": "8c762777-c315-4a79-9064-7fd58411dcab",
   "metadata": {},
   "outputs": [
    {
     "name": "stdout",
     "output_type": "stream",
     "text": [
      "<sqlite3.Cursor object at 0x000002823E90F140>\n"
     ]
    }
   ],
   "source": [
    "students= cur.execute(\"SELECT * from student;\")\n",
    "print(students)"
   ]
  },
  {
   "cell_type": "code",
   "execution_count": 11,
   "id": "ac7ea98a-4ea9-40d8-9c68-ca57a5e05d05",
   "metadata": {},
   "outputs": [
    {
     "name": "stdout",
     "output_type": "stream",
     "text": [
      "(1, 'ram', 'ktm', 'ncit', 18, 'm', 'IT')\n",
      "(2, 'shyam', 'lalitpur', 'islington', 20, 'm', 'CSIT')\n",
      "(3, 'gita', 'pokhara', 'ncit', 21, 'f', 'SE')\n",
      "(4, 'sita', 'ktm', 'ioe', 24, 'f', 'CE')\n"
     ]
    }
   ],
   "source": [
    "students= cur.execute(\"SELECT * from student;\")\n",
    "for student in students:\n",
    "    print(student)"
   ]
  },
  {
   "cell_type": "code",
   "execution_count": 12,
   "id": "3712d445-5c37-437c-a91f-9bd39ed7fa12",
   "metadata": {},
   "outputs": [
    {
     "name": "stdout",
     "output_type": "stream",
     "text": [
      "(2, 'shyam', 'lalitpur', 'islington', 20, 'm', 'CSIT')\n"
     ]
    }
   ],
   "source": [
    "students= cur.execute(\"\"\"SELECT * from student where address= 'lalitpur';\"\"\")\n",
    "for student in students:\n",
    "    print(student)"
   ]
  },
  {
   "cell_type": "code",
   "execution_count": 13,
   "id": "a6629253-ffea-4ecb-8c16-1a97d5d5ba4a",
   "metadata": {},
   "outputs": [
    {
     "name": "stdin",
     "output_type": "stream",
     "text": [
      "Enter your address: ktm\n"
     ]
    }
   ],
   "source": [
    "address= input(\"Enter your address:\")\n",
    "students= cur.execute(f\"\"\"SELECT * from student where address= '(address)';\"\"\")\n",
    "for student in students:\n",
    "    print(student)"
   ]
  },
  {
   "cell_type": "code",
   "execution_count": 14,
   "id": "e416e673-d367-4e87-831c-7f0027370e7c",
   "metadata": {},
   "outputs": [
    {
     "name": "stdin",
     "output_type": "stream",
     "text": [
      "Enter your address please kt m\n"
     ]
    }
   ],
   "source": [
    "#f string use garyo vane sql injection vayera database hack huncha\n",
    "address= input(\"Enter your address please\")\n",
    "students= cur.execute(f\"\"\"SELECT * from student where address= '(address)';\"\"\")\n",
    "for student in students:\n",
    "    print(student)"
   ]
  },
  {
   "cell_type": "code",
   "execution_count": 2,
   "id": "2c1a4fc3-645d-44bd-9ba6-b24809ca754e",
   "metadata": {},
   "outputs": [],
   "source": [
    "#SELECT * from student where address= 'lalitpur' or address='kathmandu'"
   ]
  },
  {
   "cell_type": "code",
   "execution_count": 16,
   "id": "88ebc80e-a734-4020-ba70-0513529f0068",
   "metadata": {},
   "outputs": [
    {
     "name": "stdin",
     "output_type": "stream",
     "text": [
      "Enter your address please ktm\n"
     ]
    },
    {
     "name": "stdout",
     "output_type": "stream",
     "text": [
      "(1, 'ram', 'ktm', 'ncit', 18, 'm', 'IT')\n",
      "(4, 'sita', 'ktm', 'ioe', 24, 'f', 'CE')\n"
     ]
    }
   ],
   "source": [
    "address= input(\"Enter your address please\")\n",
    "students= cur.execute(\"\"\"SELECT * from student where address=?;\"\"\", (address,))\n",
    "for student in students:\n",
    "    print(student)"
   ]
  },
  {
   "cell_type": "code",
   "execution_count": 6,
   "id": "ddd5b5a3-e788-4caf-9908-614f4ef899bc",
   "metadata": {},
   "outputs": [
    {
     "ename": "OperationalError",
     "evalue": "duplicate column name: university",
     "output_type": "error",
     "traceback": [
      "\u001b[1;31m---------------------------------------------------------------------------\u001b[0m",
      "\u001b[1;31mOperationalError\u001b[0m                          Traceback (most recent call last)",
      "Cell \u001b[1;32mIn[6], line 1\u001b[0m\n\u001b[1;32m----> 1\u001b[0m students\u001b[38;5;241m=\u001b[39m \u001b[43mcur\u001b[49m\u001b[38;5;241;43m.\u001b[39;49m\u001b[43mexecute\u001b[49m\u001b[43m(\u001b[49m\u001b[38;5;124;43mf\u001b[39;49m\u001b[38;5;124;43m\"\"\"\u001b[39;49m\u001b[38;5;124;43malter table student add column university varchar default \u001b[39;49m\u001b[38;5;124;43m'\u001b[39;49m\u001b[38;5;124;43mTU\u001b[39;49m\u001b[38;5;124;43m'\u001b[39;49m\u001b[38;5;124;43m;\u001b[39;49m\u001b[38;5;124;43m\"\"\"\u001b[39;49m\u001b[43m)\u001b[49m\n\u001b[0;32m      2\u001b[0m con\u001b[38;5;241m.\u001b[39mcommit()\n",
      "\u001b[1;31mOperationalError\u001b[0m: duplicate column name: university"
     ]
    }
   ],
   "source": [
    "students= cur.execute(f\"\"\"alter table student add column university varchar default 'TU';\"\"\")\n",
    "con.commit()"
   ]
  },
  {
   "cell_type": "code",
   "execution_count": 10,
   "id": "b34ba3ee-d06e-491c-9ba0-bc13792b3654",
   "metadata": {},
   "outputs": [
    {
     "ename": "IntegrityError",
     "evalue": "UNIQUE constraint failed: student.id",
     "output_type": "error",
     "traceback": [
      "\u001b[1;31m---------------------------------------------------------------------------\u001b[0m",
      "\u001b[1;31mIntegrityError\u001b[0m                            Traceback (most recent call last)",
      "Cell \u001b[1;32mIn[10], line 8\u001b[0m\n\u001b[0;32m      1\u001b[0m student\u001b[38;5;241m=\u001b[39m(\u001b[38;5;241m11\u001b[39m, \u001b[38;5;124m'\u001b[39m\u001b[38;5;124mramesh pradhan\u001b[39m\u001b[38;5;124m'\u001b[39m, \u001b[38;5;124m'\u001b[39m\u001b[38;5;124mlalitpur\u001b[39m\u001b[38;5;124m'\u001b[39m, \u001b[38;5;124m'\u001b[39m\u001b[38;5;124mncit\u001b[39m\u001b[38;5;124m'\u001b[39m, \u001b[38;5;241m23\u001b[39m, \u001b[38;5;124m'\u001b[39m\u001b[38;5;124mm\u001b[39m\u001b[38;5;124m'\u001b[39m, \u001b[38;5;124m'\u001b[39m\u001b[38;5;124mIT\u001b[39m\u001b[38;5;124m'\u001b[39m, \u001b[38;5;124m'\u001b[39m\u001b[38;5;124mTU\u001b[39m\u001b[38;5;124m'\u001b[39m)\n\u001b[0;32m      2\u001b[0m INSERT_RECORDS\u001b[38;5;241m=\u001b[39m \u001b[38;5;124m\"\"\"\u001b[39m\n\u001b[0;32m      3\u001b[0m \u001b[38;5;124mINSERT into student\u001b[39m\n\u001b[0;32m      4\u001b[0m \u001b[38;5;124m(\u001b[39m\u001b[38;5;124m\"\u001b[39m\u001b[38;5;124mid\u001b[39m\u001b[38;5;124m\"\u001b[39m\u001b[38;5;124m, \u001b[39m\u001b[38;5;124m\"\u001b[39m\u001b[38;5;124mname\u001b[39m\u001b[38;5;124m\"\u001b[39m\u001b[38;5;124m, \u001b[39m\u001b[38;5;124m\"\u001b[39m\u001b[38;5;124maddress\u001b[39m\u001b[38;5;124m\"\u001b[39m\u001b[38;5;124m, \u001b[39m\u001b[38;5;124m\"\u001b[39m\u001b[38;5;124mcollege\u001b[39m\u001b[38;5;124m\"\u001b[39m\u001b[38;5;124m, \u001b[39m\u001b[38;5;124m\"\u001b[39m\u001b[38;5;124mage\u001b[39m\u001b[38;5;124m\"\u001b[39m\u001b[38;5;124m, \u001b[39m\u001b[38;5;124m\"\u001b[39m\u001b[38;5;124mgender\u001b[39m\u001b[38;5;124m\"\u001b[39m\u001b[38;5;124m, \u001b[39m\u001b[38;5;124m\"\u001b[39m\u001b[38;5;124mfaculty\u001b[39m\u001b[38;5;124m\"\u001b[39m\u001b[38;5;124m, \u001b[39m\u001b[38;5;124m\"\u001b[39m\u001b[38;5;124muniversity\u001b[39m\u001b[38;5;124m\"\u001b[39m\u001b[38;5;124m)\u001b[39m\n\u001b[0;32m      5\u001b[0m \u001b[38;5;124mvalues\u001b[39m\n\u001b[0;32m      6\u001b[0m \u001b[38;5;124m(?,?,?,?,?,?,?,?);\u001b[39m\n\u001b[0;32m      7\u001b[0m \u001b[38;5;124m\"\"\"\u001b[39m\n\u001b[1;32m----> 8\u001b[0m \u001b[43mcur\u001b[49m\u001b[38;5;241;43m.\u001b[39;49m\u001b[43mexecute\u001b[49m\u001b[43m(\u001b[49m\u001b[43mINSERT_RECORDS\u001b[49m\u001b[43m,\u001b[49m\u001b[43m \u001b[49m\u001b[43mstudent\u001b[49m\u001b[43m)\u001b[49m\n\u001b[0;32m     10\u001b[0m con\u001b[38;5;241m.\u001b[39mcommit()\n",
      "\u001b[1;31mIntegrityError\u001b[0m: UNIQUE constraint failed: student.id"
     ]
    }
   ],
   "source": [
    "student=(11, 'ramesh pradhan', 'lalitpur', 'ncit', 23, 'm', 'IT', 'TU')\n",
    "INSERT_RECORDS= \"\"\"\n",
    "INSERT into student\n",
    "(\"id\", \"name\", \"address\", \"college\", \"age\", \"gender\", \"faculty\", \"university\")\n",
    "values\n",
    "(?,?,?,?,?,?,?,?);\n",
    "\"\"\"\n",
    "cur.execute(INSERT_RECORDS, student)\n",
    "\n",
    "con.commit()"
   ]
  },
  {
   "cell_type": "code",
   "execution_count": 9,
   "id": "6e104793-50dd-4d50-8fb1-ecf10d7190d5",
   "metadata": {},
   "outputs": [],
   "source": [
    "students=[\n",
    "    (8, \"hari bahadur\", \"lalitpur\",\"ncit\",23,\"m\", \"SE\", \"PU\"),\n",
    "    (9, \"madan bahadur\", \"kathmandu\",\"british college\",24,\"m\", \"IT\", \"UK\"),\n",
    "    (10, \"maya devi\", \"lalitpur\",\"ncit\",21,\"f\", \"CE\", \"PU\"),\n",
    "]\n",
    "for student in students:\n",
    "    INSERT_RECORDS= \"\"\"\n",
    "    \n",
    "    INSERT into student\n",
    "    (\"id\", \"name\", \"address\", \"college\", \"age\", \"gender\", \"faculty\", \"university\")\n",
    "    values\n",
    "    (?,?,?,?,?,?,?,?);\n",
    "    \n",
    "    \"\"\"\n",
    "    cur.execute(INSERT_RECORDS, student)\n",
    "    \n",
    "    con.commit()"
   ]
  },
  {
   "cell_type": "code",
   "execution_count": 12,
   "id": "94e84892-c238-4e0f-8726-3180ebcce8bc",
   "metadata": {},
   "outputs": [],
   "source": [
    "#bulk write use garda dherei data ekaichoti halna milcha\n",
    "students=[\n",
    "    (113, \"hari bahadur\", \"lalitpur\",\"ncit\",23,\"m\", \"SE\", \"PU\"),\n",
    "    (114, \"madan bahadur\", \"kathmandu\",\"british college\",24,\"m\", \"IT\", \"UK\"),\n",
    "    (115, \"maya devi\", \"lalitpur\",\"ncit\",21,\"f\", \"CE\", \"PU\"),\n",
    "]\n",
    "INSERT_RECORDS= \"\"\"\n",
    "    \n",
    "INSERT into student\n",
    "(\"id\", \"name\", \"address\", \"college\", \"age\", \"gender\", \"faculty\", \"university\")\n",
    "values\n",
    "(?,?,?,?,?,?,?,?);\n",
    "    \n",
    "\"\"\"\n",
    "cur.executemany(INSERT_RECORDS, students)  #insert at once=>bulk data\n",
    "con.commit()"
   ]
  },
  {
   "cell_type": "code",
   "execution_count": null,
   "id": "9b2860c8-848c-4d1f-8e6e-0e919984f618",
   "metadata": {},
   "outputs": [],
   "source": []
  }
 ],
 "metadata": {
  "kernelspec": {
   "display_name": "Python 3 (ipykernel)",
   "language": "python",
   "name": "python3"
  },
  "language_info": {
   "codemirror_mode": {
    "name": "ipython",
    "version": 3
   },
   "file_extension": ".py",
   "mimetype": "text/x-python",
   "name": "python",
   "nbconvert_exporter": "python",
   "pygments_lexer": "ipython3",
   "version": "3.12.5"
  }
 },
 "nbformat": 4,
 "nbformat_minor": 5
}
