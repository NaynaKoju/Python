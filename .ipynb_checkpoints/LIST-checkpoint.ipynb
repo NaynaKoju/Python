{
 "cells": [
  {
   "cell_type": "code",
   "execution_count": 1,
   "id": "9fd61a63-09ed-423c-9d98-53568d28d195",
   "metadata": {},
   "outputs": [],
   "source": [
    "#..........................LIST DATATYPE..............................."
   ]
  },
  {
   "cell_type": "code",
   "execution_count": 2,
   "id": "1d8b3bdc-924e-4abd-b8bc-75a2dc6b1dc1",
   "metadata": {},
   "outputs": [
    {
     "name": "stdout",
     "output_type": "stream",
     "text": [
      "[1, 2, 3, 4, 5] <class 'list'>\n"
     ]
    }
   ],
   "source": [
    "x= [1,2,3,4,5]\n",
    "print (x, type(x))"
   ]
  },
  {
   "cell_type": "code",
   "execution_count": 4,
   "id": "0dfb9f12-a8ca-428b-b82d-e02f2e051011",
   "metadata": {},
   "outputs": [
    {
     "name": "stdout",
     "output_type": "stream",
     "text": [
      "[1, 1.2, 3, 5j, 'ram', (1, 2, 3), {1, 2, 3}, [1, 2, 3], {'name': 'nayna'}]\n"
     ]
    }
   ],
   "source": [
    "#accepts any types of data in list in corresponding order\n",
    "x= [1,1.2,3, 5j, \"ram\", (1,2,3), {1,2,3}, [1,2,3], {\"name\": \"nayna\"}]\n",
    "print (x)"
   ]
  },
  {
   "cell_type": "code",
   "execution_count": 5,
   "id": "49564074-acf9-4525-925f-86b0bec4d514",
   "metadata": {},
   "outputs": [
    {
     "data": {
      "text/plain": [
       "'banana'"
      ]
     },
     "execution_count": 5,
     "metadata": {},
     "output_type": "execute_result"
    }
   ],
   "source": [
    "fruits= [\"apple\", \"banana\",\"mango\", \"orange\"]\n",
    "fruits[1]"
   ]
  },
  {
   "cell_type": "code",
   "execution_count": 8,
   "id": "d49b2611-18b6-4608-86dc-96ff838a883b",
   "metadata": {},
   "outputs": [
    {
     "data": {
      "text/plain": [
       "['banana', 'mango']"
      ]
     },
     "execution_count": 8,
     "metadata": {},
     "output_type": "execute_result"
    }
   ],
   "source": [
    "fruits= [\"apple\", \"banana\",\"mango\", \"orange\"]\n",
    "fruits[1:3]"
   ]
  },
  {
   "cell_type": "code",
   "execution_count": 9,
   "id": "4f98ab0c-0952-46e0-b0e0-f0cf9dd8e899",
   "metadata": {},
   "outputs": [
    {
     "data": {
      "text/plain": [
       "'orange'"
      ]
     },
     "execution_count": 9,
     "metadata": {},
     "output_type": "execute_result"
    }
   ],
   "source": [
    "fruits= [\"apple\", \"banana\",\"mango\", \"orange\"]\n",
    "fruits[-1]"
   ]
  },
  {
   "cell_type": "code",
   "execution_count": 13,
   "id": "b8c413b3-08cf-42ca-b695-de0e87f84256",
   "metadata": {},
   "outputs": [
    {
     "data": {
      "text/plain": [
       "3"
      ]
     },
     "execution_count": 13,
     "metadata": {},
     "output_type": "execute_result"
    }
   ],
   "source": [
    "x= [1,2, [3,4,5,6],7,8,9]\n",
    "x[2][0]"
   ]
  },
  {
   "cell_type": "code",
   "execution_count": 15,
   "id": "aec7b07d-8b82-4e5f-958b-a51e6d28eff6",
   "metadata": {},
   "outputs": [
    {
     "data": {
      "text/plain": [
       "[4, 5, 6]"
      ]
     },
     "execution_count": 15,
     "metadata": {},
     "output_type": "execute_result"
    }
   ],
   "source": [
    "x= [1,2, [3,4,5,6],7,8,9] #nested list\n",
    "x[2][1:4]"
   ]
  },
  {
   "cell_type": "code",
   "execution_count": 17,
   "id": "4aa6d671-40e0-4b0e-99de-8fd5522a013d",
   "metadata": {},
   "outputs": [
    {
     "data": {
      "text/plain": [
       "3"
      ]
     },
     "execution_count": 17,
     "metadata": {},
     "output_type": "execute_result"
    }
   ],
   "source": [
    "x= [1,[2, [3,4,5,6],7],8,9] \n",
    "x[1][1][0]"
   ]
  },
  {
   "cell_type": "code",
   "execution_count": 22,
   "id": "58a18035-75d1-4f40-a6ab-e4c8d1149f85",
   "metadata": {},
   "outputs": [
    {
     "data": {
      "text/plain": [
       "4"
      ]
     },
     "execution_count": 22,
     "metadata": {},
     "output_type": "execute_result"
    }
   ],
   "source": [
    "x= [1,[[2, [3,4,5,6],7],8],9] \n",
    "x[1][0][1][1]"
   ]
  },
  {
   "cell_type": "code",
   "execution_count": 28,
   "id": "a5d4ee87-7e7f-4c32-bfc7-42b8ea7bbb44",
   "metadata": {},
   "outputs": [
    {
     "data": {
      "text/plain": [
       "['grapes', 'banana', 'mango', 'orange']"
      ]
     },
     "execution_count": 28,
     "metadata": {},
     "output_type": "execute_result"
    }
   ],
   "source": [
    "# list => mutable object => can be changed once defined\n",
    "x= [\"apple\", \"banana\", \"mango\", \"orange\"]\n",
    "x[0]= \"grapes\"\n",
    "x  #print (x)"
   ]
  },
  {
   "cell_type": "code",
   "execution_count": 29,
   "id": "e303f996-d36e-4c73-8c53-fec47d4d822a",
   "metadata": {},
   "outputs": [
    {
     "data": {
      "text/plain": [
       "['grapes', 'banana', 'mango', 'orange', 'cherry']"
      ]
     },
     "execution_count": 29,
     "metadata": {},
     "output_type": "execute_result"
    }
   ],
   "source": [
    "#help(list)\n",
    "#append= list ko last ma add huncha \n",
    "x.append(\"cherry\")\n",
    "x"
   ]
  },
  {
   "cell_type": "code",
   "execution_count": 31,
   "id": "53874298-4fe4-4366-8fb0-4ce4d4ea4838",
   "metadata": {},
   "outputs": [
    {
     "data": {
      "text/plain": [
       "[]"
      ]
     },
     "execution_count": 31,
     "metadata": {},
     "output_type": "execute_result"
    }
   ],
   "source": [
    "#clear= removes all item\n",
    "x= [\"apple\", \"banana\", \"mango\", \"orange\"]\n",
    "x.clear()\n",
    "x"
   ]
  },
  {
   "cell_type": "code",
   "execution_count": 36,
   "id": "0b51b34b-58b8-4b0a-b680-becbddcce0da",
   "metadata": {},
   "outputs": [
    {
     "name": "stdout",
     "output_type": "stream",
     "text": [
      "2267443196608 2267443196608\n",
      "['apple', 'banana', 'mango', 'orange', 'grapes'] ['apple', 'banana', 'mango', 'orange', 'grapes']\n"
     ]
    }
   ],
   "source": [
    "fruits1= [\"apple\", \"banana\", \"mango\", \"orange\"]\n",
    "fruits2= fruits1\n",
    "\n",
    "print (id(fruits1), id(fruits2))\n",
    "\n",
    "fruits2.append(\"grapes\")\n",
    "print(fruits1, fruits2)"
   ]
  },
  {
   "cell_type": "code",
   "execution_count": 39,
   "id": "50d0a5a4-5a41-4a3a-ae35-2317f069b7e2",
   "metadata": {},
   "outputs": [
    {
     "name": "stdout",
     "output_type": "stream",
     "text": [
      "2267443379200 2267443396864\n",
      "['apple', 'banana', 'mango', 'orange'] ['apple', 'banana', 'mango', 'orange', 'grapes']\n"
     ]
    }
   ],
   "source": [
    "#duitai ma add nagarna lai jun ma add nagarne tesko value copy gardine pailai\n",
    "fruits1= [\"apple\", \"banana\", \"mango\", \"orange\"]\n",
    "fruits2= fruits1. copy()\n",
    "\n",
    "print (id(fruits1), id(fruits2))\n",
    "\n",
    "fruits2.append(\"grapes\")\n",
    "print(fruits1, fruits2)\n"
   ]
  },
  {
   "cell_type": "code",
   "execution_count": 40,
   "id": "0f6bfac5-0565-408a-a273-800c3c933707",
   "metadata": {},
   "outputs": [
    {
     "data": {
      "text/plain": [
       "1"
      ]
     },
     "execution_count": 40,
     "metadata": {},
     "output_type": "execute_result"
    }
   ],
   "source": [
    "fruits1= [\"apple\", \"banana\", \"mango\", \"orange\"]\n",
    "fruits.count(\"apple\")"
   ]
  },
  {
   "cell_type": "code",
   "execution_count": 43,
   "id": "e7c0556c-3ffc-4819-a820-2207988b45f7",
   "metadata": {},
   "outputs": [
    {
     "name": "stdout",
     "output_type": "stream",
     "text": [
      "['apple', 'banana', 'mango', 'orange', ['ram', 1, 22, 'grapes']]\n"
     ]
    }
   ],
   "source": [
    "fruits= [\"apple\", \"banana\", \"mango\", \"orange\"]\n",
    "fruits.append([\"ram\",1,22,\"grapes\"])\n",
    "print (fruits)"
   ]
  },
  {
   "cell_type": "code",
   "execution_count": 45,
   "id": "e9251a0e-38e5-4cd2-86e4-2264b0d7647b",
   "metadata": {},
   "outputs": [
    {
     "name": "stdout",
     "output_type": "stream",
     "text": [
      "['apple', 'banana', 'mango', 'orange', 'ram', 1, 22, 'grapes']\n"
     ]
    }
   ],
   "source": [
    "#extend => append le etikai add garcha whole list but extend le list bata jhikera initial ma thapcha\n",
    "fruits= [\"apple\", \"banana\", \"mango\", \"orange\"]\n",
    "fruits.extend([\"ram\",1,22,\"grapes\"])\n",
    "print (fruits)"
   ]
  },
  {
   "cell_type": "code",
   "execution_count": 47,
   "id": "86bcb86e-5fb0-48a1-9c97-ed10f76c9ba4",
   "metadata": {},
   "outputs": [
    {
     "data": {
      "text/plain": [
       "2"
      ]
     },
     "execution_count": 47,
     "metadata": {},
     "output_type": "execute_result"
    }
   ],
   "source": [
    "fruits= [\"apple\", \"banana\", \"mango\", \"orange\"]\n",
    "fruits.index(\"mango\")"
   ]
  },
  {
   "cell_type": "code",
   "execution_count": 48,
   "id": "e35b6b44-edee-4cc1-9406-0b9134ee1438",
   "metadata": {},
   "outputs": [
    {
     "ename": "ValueError",
     "evalue": "'litchi' is not in list",
     "output_type": "error",
     "traceback": [
      "\u001b[1;31m---------------------------------------------------------------------------\u001b[0m",
      "\u001b[1;31mValueError\u001b[0m                                Traceback (most recent call last)",
      "Cell \u001b[1;32mIn[48], line 2\u001b[0m\n\u001b[0;32m      1\u001b[0m fruits\u001b[38;5;241m=\u001b[39m [\u001b[38;5;124m\"\u001b[39m\u001b[38;5;124mapple\u001b[39m\u001b[38;5;124m\"\u001b[39m, \u001b[38;5;124m\"\u001b[39m\u001b[38;5;124mbanana\u001b[39m\u001b[38;5;124m\"\u001b[39m, \u001b[38;5;124m\"\u001b[39m\u001b[38;5;124mmango\u001b[39m\u001b[38;5;124m\"\u001b[39m, \u001b[38;5;124m\"\u001b[39m\u001b[38;5;124morange\u001b[39m\u001b[38;5;124m\"\u001b[39m]\n\u001b[1;32m----> 2\u001b[0m \u001b[43mfruits\u001b[49m\u001b[38;5;241;43m.\u001b[39;49m\u001b[43mindex\u001b[49m\u001b[43m(\u001b[49m\u001b[38;5;124;43m\"\u001b[39;49m\u001b[38;5;124;43mlitchi\u001b[39;49m\u001b[38;5;124;43m\"\u001b[39;49m\u001b[43m)\u001b[49m\n",
      "\u001b[1;31mValueError\u001b[0m: 'litchi' is not in list"
     ]
    }
   ],
   "source": [
    "fruits= [\"apple\", \"banana\", \"mango\", \"orange\"]\n",
    "fruits.index(\"litchi\")"
   ]
  },
  {
   "cell_type": "code",
   "execution_count": 52,
   "id": "c1041145-a300-4aab-b379-3ea77fbe611b",
   "metadata": {},
   "outputs": [
    {
     "name": "stdout",
     "output_type": "stream",
     "text": [
      "['apple', 'cherry', 'banana', 'mango', 'orange']\n"
     ]
    }
   ],
   "source": [
    "#insert=> aafulai chaine index ma thapna lai/ append le last ma add garcha\n",
    "fruits= [\"apple\", \"banana\", \"mango\", \"orange\"]\n",
    "fruits.insert(1,\"cherry\")\n",
    "print(fruits)"
   ]
  },
  {
   "cell_type": "code",
   "execution_count": 58,
   "id": "be658d13-c21c-4bf1-852b-d9d6ca217f4a",
   "metadata": {},
   "outputs": [
    {
     "name": "stdout",
     "output_type": "stream",
     "text": [
      "banana\n",
      "['apple', 'mango', 'orange']\n"
     ]
    }
   ],
   "source": [
    "#pop=> afulai chaine index ko value hatauna lai\n",
    "fruits= [\"apple\", \"banana\", \"mango\", \"orange\"]\n",
    "print(fruits.pop(1))\n",
    "print(fruits)"
   ]
  },
  {
   "cell_type": "code",
   "execution_count": 57,
   "id": "c63c1810-ec1e-42d1-bfd7-dccccaa3528a",
   "metadata": {},
   "outputs": [
    {
     "name": "stdout",
     "output_type": "stream",
     "text": [
      "['apple', 'banana', 'mango']\n"
     ]
    }
   ],
   "source": [
    "#pop ma indexing diyena like (1) vane last ko value hatcha\n",
    "fruits= [\"apple\", \"banana\", \"mango\", \"orange\"]\n",
    "fruits.pop()\n",
    "print(fruits)"
   ]
  },
  {
   "cell_type": "code",
   "execution_count": 60,
   "id": "733e4bf1-210f-47bc-be8c-f25a2eb7863e",
   "metadata": {},
   "outputs": [
    {
     "name": "stdout",
     "output_type": "stream",
     "text": [
      "['banana', 'mango', 'orange']\n"
     ]
    }
   ],
   "source": [
    "#remove=> index nadikana direct jun value hataune tei pass garne\n",
    "fruits= [\"apple\", \"banana\", \"mango\", \"orange\"]\n",
    "fruits.remove(\"apple\")\n",
    "print(fruits)"
   ]
  },
  {
   "cell_type": "code",
   "execution_count": 61,
   "id": "26a1dff8-14e9-4597-9693-1d77917bccb2",
   "metadata": {},
   "outputs": [
    {
     "ename": "ValueError",
     "evalue": "list.remove(x): x not in list",
     "output_type": "error",
     "traceback": [
      "\u001b[1;31m---------------------------------------------------------------------------\u001b[0m",
      "\u001b[1;31mValueError\u001b[0m                                Traceback (most recent call last)",
      "Cell \u001b[1;32mIn[61], line 2\u001b[0m\n\u001b[0;32m      1\u001b[0m fruits\u001b[38;5;241m=\u001b[39m [\u001b[38;5;124m\"\u001b[39m\u001b[38;5;124mapple\u001b[39m\u001b[38;5;124m\"\u001b[39m, \u001b[38;5;124m\"\u001b[39m\u001b[38;5;124mbanana\u001b[39m\u001b[38;5;124m\"\u001b[39m, \u001b[38;5;124m\"\u001b[39m\u001b[38;5;124mmango\u001b[39m\u001b[38;5;124m\"\u001b[39m, \u001b[38;5;124m\"\u001b[39m\u001b[38;5;124morange\u001b[39m\u001b[38;5;124m\"\u001b[39m]\n\u001b[1;32m----> 2\u001b[0m \u001b[43mfruits\u001b[49m\u001b[38;5;241;43m.\u001b[39;49m\u001b[43mremove\u001b[49m\u001b[43m(\u001b[49m\u001b[38;5;124;43m\"\u001b[39;49m\u001b[38;5;124;43mkiwi\u001b[39;49m\u001b[38;5;124;43m\"\u001b[39;49m\u001b[43m)\u001b[49m\n\u001b[0;32m      3\u001b[0m \u001b[38;5;28mprint\u001b[39m(fruits)\n",
      "\u001b[1;31mValueError\u001b[0m: list.remove(x): x not in list"
     ]
    }
   ],
   "source": [
    "fruits= [\"apple\", \"banana\", \"mango\", \"orange\"]\n",
    "fruits.remove(\"kiwi\")\n",
    "print(fruits)"
   ]
  },
  {
   "cell_type": "code",
   "execution_count": 64,
   "id": "c760cdf1-a217-4a3f-87b7-e108acca0a3c",
   "metadata": {},
   "outputs": [
    {
     "name": "stdout",
     "output_type": "stream",
     "text": [
      "[1, 2, 3, 4, 5, 7, 8, 22]\n"
     ]
    }
   ],
   "source": [
    "#sort => ascending order ma halna lai\n",
    "num= [1,3,4,5,2,7,8,22]\n",
    "num.sort()\n",
    "print (num)"
   ]
  },
  {
   "cell_type": "code",
   "execution_count": 65,
   "id": "3cf502ac-db98-407b-b92d-5a30fb980348",
   "metadata": {},
   "outputs": [
    {
     "name": "stdout",
     "output_type": "stream",
     "text": [
      "[22, 8, 7, 5, 4, 3, 2, 1]\n"
     ]
    }
   ],
   "source": [
    "#descending order ma sort garn\n",
    "num= [1,3,4,5,2,7,8,22]\n",
    "num.sort(reverse=True)\n",
    "print (num)"
   ]
  }
 ],
 "metadata": {
  "kernelspec": {
   "display_name": "Python 3 (ipykernel)",
   "language": "python",
   "name": "python3"
  },
  "language_info": {
   "codemirror_mode": {
    "name": "ipython",
    "version": 3
   },
   "file_extension": ".py",
   "mimetype": "text/x-python",
   "name": "python",
   "nbconvert_exporter": "python",
   "pygments_lexer": "ipython3",
   "version": "3.12.5"
  }
 },
 "nbformat": 4,
 "nbformat_minor": 5
}
