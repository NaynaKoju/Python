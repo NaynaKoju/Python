{
 "cells": [
  {
   "cell_type": "code",
   "execution_count": 2,
   "id": "b62d883b-3536-4d30-a81e-ccca052a2782",
   "metadata": {},
   "outputs": [
    {
     "name": "stdout",
     "output_type": "stream",
     "text": [
      "hello\n"
     ]
    }
   ],
   "source": [
    "age= 17\n",
    "if  age<18:\n",
    "    pass\n",
    "print (\"hello\")"
   ]
  },
  {
   "cell_type": "code",
   "execution_count": 7,
   "id": "a4efa720-d503-4026-b00e-b71b1756a499",
   "metadata": {},
   "outputs": [
    {
     "name": "stdout",
     "output_type": "stream",
     "text": [
      "30\n"
     ]
    }
   ],
   "source": [
    "#sum except 6\n",
    "numbers= [1,2,6,8,9,6,10]\n",
    "sum=0\n",
    "for i in numbers:\n",
    "    if i!=6:\n",
    "        sum+=i\n",
    "print(sum)"
   ]
  },
  {
   "cell_type": "code",
   "execution_count": 9,
   "id": "8b499998-e311-4fac-af3f-539f831ec947",
   "metadata": {},
   "outputs": [
    {
     "name": "stdout",
     "output_type": "stream",
     "text": [
      "42\n"
     ]
    }
   ],
   "source": [
    "#sum if condition ko bahira vayera sum chalcha loop bahira\n",
    "numbers= [1,2,6,8,9,6,10]\n",
    "sum=0\n",
    "for i in numbers:\n",
    "    if i==6:\n",
    "        pass\n",
    "    sum+=i\n",
    "print(sum)"
   ]
  },
  {
   "cell_type": "code",
   "execution_count": 22,
   "id": "098540fb-efae-4994-9de5-0b3b9a0ea5b8",
   "metadata": {},
   "outputs": [
    {
     "name": "stdout",
     "output_type": "stream",
     "text": [
      "30\n"
     ]
    }
   ],
   "source": [
    "numbers= [1,2,6,8,9,6,10]\n",
    "sum=0\n",
    "for i in numbers:\n",
    "    if i==6:\n",
    "        continue # skip the currently iterated item=> doesnot run anything after continue and jumps to next item\n",
    "    sum+=i\n",
    "print(sum)"
   ]
  },
  {
   "cell_type": "code",
   "execution_count": 21,
   "id": "67333b3a-333b-42b2-bb69-1616610befb1",
   "metadata": {},
   "outputs": [
    {
     "name": "stdout",
     "output_type": "stream",
     "text": [
      "3\n"
     ]
    }
   ],
   "source": [
    "#6 encounter hune bitikai sum stop\n",
    "numbers= [1,2,6,8,9,6,10]\n",
    "sum=0\n",
    "for i in numbers:\n",
    "    if i==6:\n",
    "        break #terminate the current loop\n",
    "    sum+=i\n",
    "print(sum)"
   ]
  }
 ],
 "metadata": {
  "kernelspec": {
   "display_name": "Python 3 (ipykernel)",
   "language": "python",
   "name": "python3"
  },
  "language_info": {
   "codemirror_mode": {
    "name": "ipython",
    "version": 3
   },
   "file_extension": ".py",
   "mimetype": "text/x-python",
   "name": "python",
   "nbconvert_exporter": "python",
   "pygments_lexer": "ipython3",
   "version": "3.12.5"
  }
 },
 "nbformat": 4,
 "nbformat_minor": 5
}
