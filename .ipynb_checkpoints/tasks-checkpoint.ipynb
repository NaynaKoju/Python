{
 "cells": [
  {
   "cell_type": "code",
   "execution_count": 3,
   "id": "221ea041-4d85-4dde-8108-69c787be8217",
   "metadata": {},
   "outputs": [],
   "source": [
    "#number even hoki odd\n",
    "def is_odd(n):\n",
    "    if n%2==1:\n",
    "        return True\n",
    "    else:\n",
    "        return False"
   ]
  },
  {
   "cell_type": "code",
   "execution_count": 4,
   "id": "982cdfc2-c57d-4e2f-a6d5-c0a150c00889",
   "metadata": {},
   "outputs": [
    {
     "data": {
      "text/plain": [
       "True"
      ]
     },
     "execution_count": 4,
     "metadata": {},
     "output_type": "execute_result"
    }
   ],
   "source": [
    "is_odd(3)"
   ]
  },
  {
   "cell_type": "code",
   "execution_count": 6,
   "id": "213bb9a2-248c-4b1c-b6f4-9861ed1d4e0a",
   "metadata": {},
   "outputs": [
    {
     "name": "stdout",
     "output_type": "stream",
     "text": [
      "odd\n"
     ]
    }
   ],
   "source": [
    "result= is_odd(3)\n",
    "if result:\n",
    "    print(\"odd\")\n",
    "else:\n",
    "    print(\"even\")"
   ]
  },
  {
   "cell_type": "code",
   "execution_count": 7,
   "id": "020f731a-39bf-4675-b087-24bbd483a92e",
   "metadata": {},
   "outputs": [
    {
     "data": {
      "text/plain": [
       "[1, 27, 17, 93, 9, 3, 1, 5]"
      ]
     },
     "execution_count": 7,
     "metadata": {},
     "output_type": "execute_result"
    }
   ],
   "source": [
    "list(filter(is_odd,[1,27,12,17,8,93,9,3,2,1,5]))"
   ]
  },
  {
   "cell_type": "code",
   "execution_count": 8,
   "id": "df4dfd1d-ac74-49ac-b27d-2bc308e1e956",
   "metadata": {},
   "outputs": [],
   "source": [
    "def is_odd(n):\n",
    "    return n%2==1"
   ]
  },
  {
   "cell_type": "code",
   "execution_count": 9,
   "id": "b10f3233-993b-4e37-bda1-305c6a5871dc",
   "metadata": {},
   "outputs": [
    {
     "data": {
      "text/plain": [
       "False"
      ]
     },
     "execution_count": 9,
     "metadata": {},
     "output_type": "execute_result"
    }
   ],
   "source": [
    "is_odd(2)"
   ]
  },
  {
   "cell_type": "code",
   "execution_count": 10,
   "id": "10b87d1d-46be-4be1-9ad7-72a03ce15e5e",
   "metadata": {},
   "outputs": [
    {
     "data": {
      "text/plain": [
       "True"
      ]
     },
     "execution_count": 10,
     "metadata": {},
     "output_type": "execute_result"
    }
   ],
   "source": [
    "is_odd(3)"
   ]
  },
  {
   "cell_type": "code",
   "execution_count": 13,
   "id": "8ba952ce-dc5b-40fe-b544-a9d4cb9e9295",
   "metadata": {},
   "outputs": [],
   "source": [
    "#lambda use\n",
    "is_odd= lambda n: n%2==1"
   ]
  },
  {
   "cell_type": "code",
   "execution_count": 14,
   "id": "ed69a077-13a6-4d54-8430-e58c3fd32a5f",
   "metadata": {},
   "outputs": [
    {
     "data": {
      "text/plain": [
       "False"
      ]
     },
     "execution_count": 14,
     "metadata": {},
     "output_type": "execute_result"
    }
   ],
   "source": [
    "is_odd(4)"
   ]
  },
  {
   "cell_type": "code",
   "execution_count": 15,
   "id": "5bc20bba-e945-48cd-840a-dce4c3be8f45",
   "metadata": {},
   "outputs": [
    {
     "data": {
      "text/plain": [
       "[1, 27, 17, 93, 9, 3, 1, 5]"
      ]
     },
     "execution_count": 15,
     "metadata": {},
     "output_type": "execute_result"
    }
   ],
   "source": [
    "#function nabanaikana direst lambda\n",
    "list(filter(lambda n: n%2==1,[1,27,12,17,8,93,9,3,2,1,5]))"
   ]
  },
  {
   "cell_type": "code",
   "execution_count": 16,
   "id": "a5a5e3c1-f5ab-484a-a77c-a4f0a8ab6f57",
   "metadata": {},
   "outputs": [
    {
     "name": "stdout",
     "output_type": "stream",
     "text": [
      "Help on class map in module builtins:\n",
      "\n",
      "class map(object)\n",
      " |  map(func, *iterables) --> map object\n",
      " |\n",
      " |  Make an iterator that computes the function using arguments from\n",
      " |  each of the iterables.  Stops when the shortest iterable is exhausted.\n",
      " |\n",
      " |  Methods defined here:\n",
      " |\n",
      " |  __getattribute__(self, name, /)\n",
      " |      Return getattr(self, name).\n",
      " |\n",
      " |  __iter__(self, /)\n",
      " |      Implement iter(self).\n",
      " |\n",
      " |  __next__(self, /)\n",
      " |      Implement next(self).\n",
      " |\n",
      " |  __reduce__(...)\n",
      " |      Return state information for pickling.\n",
      " |\n",
      " |  ----------------------------------------------------------------------\n",
      " |  Static methods defined here:\n",
      " |\n",
      " |  __new__(*args, **kwargs)\n",
      " |      Create and return a new object.  See help(type) for accurate signature.\n",
      "\n"
     ]
    }
   ],
   "source": [
    "help(map)"
   ]
  },
  {
   "cell_type": "code",
   "execution_count": 18,
   "id": "f3bcfc50-7f26-4bd7-8f22-eb155d2c4b8c",
   "metadata": {},
   "outputs": [
    {
     "data": {
      "text/plain": [
       "<map at 0x20771840340>"
      ]
     },
     "execution_count": 18,
     "metadata": {},
     "output_type": "execute_result"
    }
   ],
   "source": [
    "def square(n):\n",
    "    return n**2\n",
    "map(square,[1,2,3,4,5,6])"
   ]
  },
  {
   "cell_type": "code",
   "execution_count": 19,
   "id": "37e95d26-7921-4ae9-80fe-464420c54ccf",
   "metadata": {},
   "outputs": [
    {
     "data": {
      "text/plain": [
       "[1, 4, 9, 16, 25, 36]"
      ]
     },
     "execution_count": 19,
     "metadata": {},
     "output_type": "execute_result"
    }
   ],
   "source": [
    "list(map(square,[1,2,3,4,5,6]))"
   ]
  },
  {
   "cell_type": "code",
   "execution_count": 20,
   "id": "a56dfbdc-4794-48da-aa5e-108edad82207",
   "metadata": {},
   "outputs": [
    {
     "data": {
      "text/plain": [
       "[1, 4, 9, 16, 25, 36]"
      ]
     },
     "execution_count": 20,
     "metadata": {},
     "output_type": "execute_result"
    }
   ],
   "source": [
    "#square nabanaikana siddhai lambda\n",
    "list(map(lambda n: n**2,[1,2,3,4,5,6]))"
   ]
  },
  {
   "cell_type": "code",
   "execution_count": 22,
   "id": "db3b2792-365a-4dc8-83b0-a478c2f9339c",
   "metadata": {},
   "outputs": [],
   "source": [
    "#addition lai lambda ma convert\n",
    "def addition(x,y):\n",
    "    return x+y\n",
    "add= lambda x,y:x+y"
   ]
  },
  {
   "cell_type": "code",
   "execution_count": 23,
   "id": "41421654-3206-42ab-aaf8-5ad803155161",
   "metadata": {},
   "outputs": [
    {
     "data": {
      "text/plain": [
       "5"
      ]
     },
     "execution_count": 23,
     "metadata": {},
     "output_type": "execute_result"
    }
   ],
   "source": [
    "add(2,3)"
   ]
  },
  {
   "cell_type": "code",
   "execution_count": 26,
   "id": "a227c69d-30c7-4163-85c9-59a2ad164570",
   "metadata": {},
   "outputs": [
    {
     "name": "stdout",
     "output_type": "stream",
     "text": [
      "Help on built-in function reduce in module _functools:\n",
      "\n",
      "reduce(...)\n",
      "    reduce(function, iterable[, initial]) -> value\n",
      "\n",
      "    Apply a function of two arguments cumulatively to the items of a sequence\n",
      "    or iterable, from left to right, so as to reduce the iterable to a single\n",
      "    value.  For example, reduce(lambda x, y: x+y, [1, 2, 3, 4, 5]) calculates\n",
      "    ((((1+2)+3)+4)+5).  If initial is present, it is placed before the items\n",
      "    of the iterable in the calculation, and serves as a default when the\n",
      "    iterable is empty.\n",
      "\n"
     ]
    }
   ],
   "source": [
    "from functools import reduce\n",
    "\n",
    "help(reduce)"
   ]
  },
  {
   "cell_type": "code",
   "execution_count": 27,
   "id": "acb12603-4edf-4aee-8d71-961172858d77",
   "metadata": {},
   "outputs": [],
   "source": [
    "def addition(x,y):\n",
    "    return x+y"
   ]
  },
  {
   "cell_type": "code",
   "execution_count": 30,
   "id": "fc13975b-62f4-48f1-ad8c-9b9c956ca112",
   "metadata": {},
   "outputs": [
    {
     "data": {
      "text/plain": [
       "10"
      ]
     },
     "execution_count": 30,
     "metadata": {},
     "output_type": "execute_result"
    }
   ],
   "source": [
    "reduce (addition, [1,2,3,4]) #1,2,3,4 => duita duita items jancha => 3,3,4=> 6,4=> 10"
   ]
  },
  {
   "cell_type": "code",
   "execution_count": 32,
   "id": "58415dec-38e5-45f3-b608-547585abbf1c",
   "metadata": {},
   "outputs": [
    {
     "data": {
      "text/plain": [
       "10"
      ]
     },
     "execution_count": 32,
     "metadata": {},
     "output_type": "execute_result"
    }
   ],
   "source": [
    "reduce(lambda x,y: x+y,[1,2,3,4])"
   ]
  },
  {
   "cell_type": "code",
   "execution_count": 33,
   "id": "1cec64fb-712e-4851-9c99-c8d9b97a3bb2",
   "metadata": {},
   "outputs": [],
   "source": [
    "def mean(numbers):\n",
    "    sum=0\n",
    "    for i in numbers:\n",
    "        sum+=i\n",
    "\n",
    "    m=sum/len(numbers)\n",
    "    return m"
   ]
  },
  {
   "cell_type": "code",
   "execution_count": 36,
   "id": "509f737f-3f3b-45c8-aedf-afb7c0502840",
   "metadata": {},
   "outputs": [
    {
     "data": {
      "text/plain": [
       "4.5"
      ]
     },
     "execution_count": 36,
     "metadata": {},
     "output_type": "execute_result"
    }
   ],
   "source": [
    "mean([1,2,3,4,5,6,7,8])"
   ]
  },
  {
   "cell_type": "code",
   "execution_count": null,
   "id": "c8201f3c-18e9-4756-809e-9c9b7b03815e",
   "metadata": {},
   "outputs": [],
   "source": []
  }
 ],
 "metadata": {
  "kernelspec": {
   "display_name": "Python 3 (ipykernel)",
   "language": "python",
   "name": "python3"
  },
  "language_info": {
   "codemirror_mode": {
    "name": "ipython",
    "version": 3
   },
   "file_extension": ".py",
   "mimetype": "text/x-python",
   "name": "python",
   "nbconvert_exporter": "python",
   "pygments_lexer": "ipython3",
   "version": "3.12.5"
  }
 },
 "nbformat": 4,
 "nbformat_minor": 5
}
