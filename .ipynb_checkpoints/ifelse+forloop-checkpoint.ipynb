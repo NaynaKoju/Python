{
 "cells": [
  {
   "cell_type": "code",
   "execution_count": 2,
   "id": "6e549e3b-8c79-4bc7-8fe8-4a07f686af64",
   "metadata": {},
   "outputs": [
    {
     "name": "stdout",
     "output_type": "stream",
     "text": [
      "[1, 4, 9, 16, 25]\n"
     ]
    }
   ],
   "source": [
    "x= [1,2,3,4,5]\n",
    "output= []\n",
    "for i in x:\n",
    "    output.append (i**2) #{1,4,9,16,25}\n",
    "print (output)"
   ]
  },
  {
   "cell_type": "code",
   "execution_count": 13,
   "id": "0963e8a1-8e2d-48cd-b5df-73194f96e53b",
   "metadata": {},
   "outputs": [
    {
     "name": "stdout",
     "output_type": "stream",
     "text": [
      "odd\n",
      "even\n",
      "odd\n",
      "even\n",
      "odd\n"
     ]
    }
   ],
   "source": [
    "x= [1,2,3,4,5]\n",
    "output= []\n",
    "for i in x:\n",
    "    if i%2==0:\n",
    "        print (\"even\") #output.append(\"even\") #output.append garyo vane output list ma aucha\n",
    "    else:\n",
    "        print (\"odd\") #output.append(\"odd\")\n",
    "#print(output)"
   ]
  },
  {
   "cell_type": "code",
   "execution_count": 14,
   "id": "048f1194-19b2-4c21-818c-a71094c652b4",
   "metadata": {},
   "outputs": [
    {
     "name": "stdout",
     "output_type": "stream",
     "text": [
      "[11, 12, 24, 1, 2, 3, 6, 7, 19, 8, 9, 10]\n"
     ]
    }
   ],
   "source": [
    "x= [11,12,24, 1,2,3,1,6,2,7,1,11,19,3,8,9,3,9,10,11,12,24,1,2,3,8]\n",
    "#unique items =[11,12,24,1,2,3,6,7,19,8,9,10]\n",
    "unique_items= []\n",
    "for i in x:\n",
    "    if i not in unique_items:\n",
    "        unique_items.append(i)\n",
    "print (unique_items)"
   ]
  },
  {
   "cell_type": "code",
   "execution_count": 33,
   "id": "b710b8da-3f43-491e-901d-d03049eaf9e8",
   "metadata": {},
   "outputs": [
    {
     "name": "stdout",
     "output_type": "stream",
     "text": [
      "4\n"
     ]
    }
   ],
   "source": [
    "#to find number of vowels\n",
    "name= \"rAmesh pradhan\" #no of vowels=>aeiou\n",
    "count= 0\n",
    "for i in name:\n",
    "    if i.lower() in \"aeiou\":\n",
    "        count+=1\n",
    "print(count)"
   ]
  },
  {
   "cell_type": "code",
   "execution_count": 42,
   "id": "c0c2b28d-c1b9-43ed-8b60-93927fc74ec6",
   "metadata": {},
   "outputs": [
    {
     "name": "stdout",
     "output_type": "stream",
     "text": [
      "231\n"
     ]
    }
   ],
   "source": [
    "#To find total marks\n",
    "marks= {'Alan':99, 'Bill': 55, 'Cory':77}\n",
    "total_marks=0\n",
    "for mark in marks.values():\n",
    "    total_marks+= mark\n",
    "print(total_marks)"
   ]
  },
  {
   "cell_type": "code",
   "execution_count": 14,
   "id": "8cfb9090-b9d8-4b4d-8639-2ce397e40a22",
   "metadata": {},
   "outputs": [
    {
     "name": "stdout",
     "output_type": "stream",
     "text": [
      "The length of Alan has 4 characters.\n",
      "The length of Bil has 3 characters.\n",
      "The length of Ramesh has 6 characters.\n",
      "The length of Corry has 5 characters.\n",
      "The length of Ram has 3 characters.\n",
      "The length of Shyam bahadur has 13 characters.\n",
      "The length of Gita has 4 characters.\n",
      "The length of Ramkumari has 9 characters.\n"
     ]
    }
   ],
   "source": [
    "#name ma kati wota letter cha vanera print garne\n",
    "students=[\"Alan\", \"Bil\", 'Ramesh','Corry', 'Ram', 'Shyam bahadur', 'Gita', \"Ramkumari\"]\n",
    "for names in students:\n",
    "    name_length = len(names)\n",
    "    print(f\"The length of {names} has {name_length} characters.\")"
   ]
  },
  {
   "cell_type": "code",
   "execution_count": 20,
   "id": "ab9724e3-8ecb-494e-900b-5922f3f5eb0e",
   "metadata": {},
   "outputs": [
    {
     "name": "stdout",
     "output_type": "stream",
     "text": [
      "{'Alan': 4, 'Bil': 3, 'Ramesh': 6, 'Corry': 5, 'Ram': 3, 'Shyam bahadur': 13, 'Gita': 4, 'Ramkumari': 9}\n"
     ]
    }
   ],
   "source": [
    "students=[\"Alan\", \"Bil\", 'Ramesh','Corry', 'Ram', 'Shyam bahadur', 'Gita', \"Ramkumari\"]\n",
    "output={}\n",
    "for names in students:\n",
    "    output[names] = len(names)\n",
    "print(output)"
   ]
  },
  {
   "cell_type": "code",
   "execution_count": 5,
   "id": "a6196088-28e1-4053-a798-1e0f3ca8ca7c",
   "metadata": {},
   "outputs": [
    {
     "name": "stdout",
     "output_type": "stream",
     "text": [
      "{'Alan': 0, 'Bil': 1, 'Ramesh': 2, 'Corry': 3, 'Ram': 4, 'Shyam bahadur': 5, 'Gita': 6, 'Ramkumari': 7}\n"
     ]
    }
   ],
   "source": [
    "students=[\"Alan\", \"Bil\", 'Ramesh','Corry', 'Ram', 'Shyam bahadur', 'Gita', \"Ramkumari\"]\n",
    "output={}\n",
    "i=0\n",
    "for names in students:\n",
    "    output.update({names:i})\n",
    "    i+=1\n",
    "print(output)"
   ]
  },
  {
   "cell_type": "code",
   "execution_count": 2,
   "id": "a666da16-845d-42e9-89e9-ff012c31cab2",
   "metadata": {},
   "outputs": [
    {
     "data": {
      "text/plain": [
       "[0, 1, 2, 3, 4, 5, 6, 7, 8, 9]"
      ]
     },
     "execution_count": 2,
     "metadata": {},
     "output_type": "execute_result"
    }
   ],
   "source": [
    "list(range(0,10))"
   ]
  },
  {
   "cell_type": "code",
   "execution_count": 6,
   "id": "710ae9e8-b33b-4839-8eb5-5d4697669ac3",
   "metadata": {},
   "outputs": [
    {
     "name": "stdout",
     "output_type": "stream",
     "text": [
      "0\n",
      "1\n",
      "2\n",
      "3\n",
      "4\n",
      "5\n",
      "6\n",
      "7\n",
      "8\n",
      "9\n"
     ]
    }
   ],
   "source": [
    "for i in range(0,10,1):#start, stop, step\n",
    "    print (i)"
   ]
  },
  {
   "cell_type": "code",
   "execution_count": 7,
   "id": "34bf25db-74ed-4621-9e40-e98c9ced386d",
   "metadata": {},
   "outputs": [
    {
     "name": "stdout",
     "output_type": "stream",
     "text": [
      "0\n",
      "2\n",
      "4\n",
      "6\n",
      "8\n"
     ]
    }
   ],
   "source": [
    "for i in range(0,10,2):#start, stop, step\n",
    "    print (i)"
   ]
  },
  {
   "cell_type": "code",
   "execution_count": 8,
   "id": "8a12c80f-a71b-4508-8dc3-02b48bd4b123",
   "metadata": {},
   "outputs": [
    {
     "name": "stdout",
     "output_type": "stream",
     "text": [
      "10\n",
      "9\n",
      "8\n",
      "7\n",
      "6\n",
      "5\n",
      "4\n",
      "3\n",
      "2\n"
     ]
    }
   ],
   "source": [
    "for i in range(10,1,-1):#start, stop, step\n",
    "    print (i)"
   ]
  },
  {
   "cell_type": "code",
   "execution_count": 12,
   "id": "5e2124f9-1396-47a3-90e7-4ad9397150c6",
   "metadata": {},
   "outputs": [
    {
     "name": "stdout",
     "output_type": "stream",
     "text": [
      "{'Alan': 0, 'Bil': 1, 'Ramesh': 2, 'Corry': 3, 'Ram': 4, 'Shyam bahadur': 5, 'Gita': 6}\n"
     ]
    }
   ],
   "source": [
    "students=[\"Alan\", \"Bil\", 'Ramesh','Corry', 'Ram', 'Shyam bahadur', 'Gita']\n",
    "output={}\n",
    "i=0\n",
    "for i in range(0,7):\n",
    "    output[students[i]]=i\n",
    "print(output)"
   ]
  },
  {
   "cell_type": "code",
   "execution_count": 15,
   "id": "316d010d-50b7-4161-afc8-2330f71cd949",
   "metadata": {},
   "outputs": [
    {
     "name": "stdout",
     "output_type": "stream",
     "text": [
      "['Alan', 'Bil', 'Ramesh', 'Corry', 'Ram', 'Shyam bahadur', 'Gita']\n"
     ]
    }
   ],
   "source": [
    "d_input= {'Alan': 0, 'Bil': 1, 'Ramesh': 2, 'Corry': 3, 'Ram': 4, 'Shyam bahadur': 5, 'Gita': 6}\n",
    "#output= [\"Alan\", \"Bil\", 'Ramesh','Corry', 'Ram', 'Shyam bahadur', 'Gita']\n",
    "output=[]\n",
    "for i in d_input.keys():\n",
    "    output.append(i)\n",
    "print(output)"
   ]
  },
  {
   "cell_type": "code",
   "execution_count": 17,
   "id": "d6b9a212-93d5-43ec-9dd0-cd70ac70d31f",
   "metadata": {},
   "outputs": [
    {
     "name": "stdout",
     "output_type": "stream",
     "text": [
      "{'Alan': 0, 'Bil': 1, 'Ramesh': 2, 'Corry': 3, 'Ram': 4, 'Shyam bahadur': 5, 'Gita': 6, 'Sita': 7}\n"
     ]
    }
   ],
   "source": [
    "students=[\"Alan\", \"Bil\", 'Ramesh','Corry', 'Ram', 'Shyam bahadur', 'Gita', 'Sita']\n",
    "output={}\n",
    "for i in range(0,len(students)):\n",
    "    output[students[i]]=i\n",
    "print(output)"
   ]
  },
  {
   "cell_type": "code",
   "execution_count": 19,
   "id": "5f7b4a0d-6030-4eec-8e2e-31ebb1744f9e",
   "metadata": {},
   "outputs": [
    {
     "name": "stdout",
     "output_type": "stream",
     "text": [
      "{'milk': 267.96, 'bread': 343.2, 'butter': 475.2}\n"
     ]
    }
   ],
   "source": [
    "us_price= {\"milk\": 2.03, \"bread\": 2.6, \"butter\": 3.6}\n",
    "#convert in nepali price\n",
    "nep_price={}\n",
    "for k,v in us_price.items():\n",
    "    nep_price.update({k:v*132})\n",
    "print (nep_price)  "
   ]
  },
  {
   "cell_type": "code",
   "execution_count": 23,
   "id": "6f7e6f1d-0fb9-4867-ba03-90d9f063f50b",
   "metadata": {},
   "outputs": [
    {
     "name": "stdout",
     "output_type": "stream",
     "text": [
      "{'milk': 302.79479999999995, 'bread': 387.816, 'butter': 536.9759999999999}\n"
     ]
    }
   ],
   "source": [
    "us_price= {\"milk\": 2.03, \"bread\": 2.6, \"butter\": 3.6}\n",
    "#convert in nepali price\n",
    "nep_price={}\n",
    "for k,v in us_price.items():\n",
    "    nep_price.update({k:v*132*1.13})\n",
    "print (nep_price)  "
   ]
  },
  {
   "cell_type": "code",
   "execution_count": 29,
   "id": "c79dc862-0e9f-4d03-99af-25b62ccbd966",
   "metadata": {},
   "outputs": [
    {
     "name": "stdout",
     "output_type": "stream",
     "text": [
      "{'milk': 302.79479999999995, 'bread': 387.816, 'iphone': 158241.6, 'butter': 536.9759999999999, 'meat': 745.8, 'mobile': 79200.0, 'laptop': 158400.0, 'tv': 53856.0}\n"
     ]
    }
   ],
   "source": [
    "#less than 5=> 13% greater vayo vane 15% tax\n",
    "us_price={\n",
    "    \"milk\": 2.03,\n",
    "    \"bread\": 2.6,\n",
    "    \"iphone\": 999,\n",
    "    \"butter\": 3.6,\n",
    "    \"meat\": 5,\n",
    "    \"mobile\": 500,\n",
    "    \"laptop\": 1000,\n",
    "    \"tv\": 340\n",
    "}\n",
    "nep_price={}\n",
    "for k,v in us_price.items():\n",
    "    if v<=5:\n",
    "        nep_price.update({k:v*132*1.13})\n",
    "    else:\n",
    "        nep_price.update({k:v*132*1.20})\n",
    "print (nep_price) "
   ]
  }
 ],
 "metadata": {
  "kernelspec": {
   "display_name": "Python 3 (ipykernel)",
   "language": "python",
   "name": "python3"
  },
  "language_info": {
   "codemirror_mode": {
    "name": "ipython",
    "version": 3
   },
   "file_extension": ".py",
   "mimetype": "text/x-python",
   "name": "python",
   "nbconvert_exporter": "python",
   "pygments_lexer": "ipython3",
   "version": "3.12.5"
  }
 },
 "nbformat": 4,
 "nbformat_minor": 5
}
