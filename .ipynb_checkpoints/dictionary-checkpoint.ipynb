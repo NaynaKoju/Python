{
 "cells": [
  {
   "cell_type": "code",
   "execution_count": 5,
   "id": "136043e4-ad38-4a14-aba1-537f4bc48f41",
   "metadata": {},
   "outputs": [
    {
     "name": "stdout",
     "output_type": "stream",
     "text": [
      "{'id': 1, 'name': 'ram', 'age': 22, 'contact': 12344566, 'salary': 3000322.02} <class 'dict'>\n"
     ]
    }
   ],
   "source": [
    "# dictionary\n",
    "person={\n",
    "    \"id\": 1,  #key value pair\n",
    "    \"name\": \"ram\",\n",
    "    \"age\": 22,\n",
    "    \"contact\": 12344566,\n",
    "    \"salary\": 3000322.02\n",
    "}\n",
    "print (person, type (person))"
   ]
  },
  {
   "cell_type": "code",
   "execution_count": 7,
   "id": "a8629998-2e90-4a5a-8ca3-456afd57de68",
   "metadata": {},
   "outputs": [
    {
     "name": "stdout",
     "output_type": "stream",
     "text": [
      "ram\n"
     ]
    }
   ],
   "source": [
    "print (person[\"name\"])"
   ]
  },
  {
   "cell_type": "code",
   "execution_count": 9,
   "id": "263426e4-aa73-418b-84bf-5dac20e1a0de",
   "metadata": {},
   "outputs": [
    {
     "name": "stdout",
     "output_type": "stream",
     "text": [
      "{'id': 1, 'name': 'ram', 'age': 22, 'contact': 12344566, 'salary': 3000322.02, 'email': 'ram@gmail.com'}\n"
     ]
    }
   ],
   "source": [
    "person[\"email\"]= \"ram@gmail.com\"\n",
    "print (person)"
   ]
  },
  {
   "cell_type": "code",
   "execution_count": 11,
   "id": "41aeb765-26d4-4b0a-9703-4893b1caddac",
   "metadata": {},
   "outputs": [
    {
     "name": "stdout",
     "output_type": "stream",
     "text": [
      "{'id': 1, 'name': 'ram', 'contact': 12344566, 'salary': 3000322.02}\n"
     ]
    }
   ],
   "source": [
    "person={\n",
    "    \"id\": 1,  #key value pair\n",
    "    \"name\": \"ram\",\n",
    "    \"age\": 22,\n",
    "    \"contact\": 12344566,\n",
    "    \"salary\": 3000322.02\n",
    "}\n",
    "del person[\"age\"]\n",
    "print (person)"
   ]
  },
  {
   "cell_type": "code",
   "execution_count": 12,
   "id": "2174497a-fe49-4442-9177-84eb84f9fa9a",
   "metadata": {},
   "outputs": [],
   "source": [
    "#help(dict)"
   ]
  },
  {
   "cell_type": "code",
   "execution_count": 14,
   "id": "26daa8ca-7a51-479e-8b5f-c742c0dcbceb",
   "metadata": {},
   "outputs": [
    {
     "name": "stdout",
     "output_type": "stream",
     "text": [
      "{}\n"
     ]
    }
   ],
   "source": [
    "#clear => removes all data fron dict\n",
    "person={\n",
    "    \"id\": 1,  #key value pair\n",
    "    \"name\": \"ram\",\n",
    "    \"age\": 22,\n",
    "    \"contact\": 12344566,\n",
    "    \"salary\": 3000322.02\n",
    "}\n",
    "person.clear()\n",
    "print (person)"
   ]
  },
  {
   "cell_type": "code",
   "execution_count": 18,
   "id": "cb13f3af-e160-4ee0-aa26-b374886747bd",
   "metadata": {},
   "outputs": [
    {
     "name": "stdout",
     "output_type": "stream",
     "text": [
      "{'id': 1, 'name': 'ram', 'age': 22, 'contact': 12344566, 'salary': 3000322.02, 'email': 'ram@gmail.com'}\n",
      "{'id': 1, 'name': 'ram', 'age': 22, 'contact': 12344566, 'salary': 3000322.02, 'email': 'ram@gmail.com'}\n"
     ]
    }
   ],
   "source": [
    "x={\n",
    "    \"id\": 1, \n",
    "    \"name\": \"ram\",\n",
    "    \"age\": 22,\n",
    "    \"contact\": 12344566,\n",
    "    \"salary\": 3000322.02\n",
    "}\n",
    "y=x\n",
    "y[\"email\"]= \"ram@gmail.com\"\n",
    "print (x)\n",
    "print (y)"
   ]
  },
  {
   "cell_type": "code",
   "execution_count": 20,
   "id": "a21347c4-d3a1-4956-bb85-fb4bb0a935d4",
   "metadata": {},
   "outputs": [
    {
     "name": "stdout",
     "output_type": "stream",
     "text": [
      "{'id': 1, 'name': 'ram', 'age': 22, 'contact': 12344566, 'salary': 3000322.02}\n",
      "{'id': 1, 'name': 'ram', 'age': 22, 'contact': 12344566, 'salary': 3000322.02, 'email': 'ram@gmail.com'}\n"
     ]
    }
   ],
   "source": [
    "#copy => change garnu naparne value copy garne\n",
    "x={\n",
    "    \"id\": 1, \n",
    "    \"name\": \"ram\",\n",
    "    \"age\": 22,\n",
    "    \"contact\": 12344566,\n",
    "    \"salary\": 3000322.02\n",
    "}\n",
    "y=x.copy()\n",
    "y[\"email\"]= \"ram@gmail.com\"\n",
    "print (x)\n",
    "print (y)"
   ]
  },
  {
   "cell_type": "code",
   "execution_count": 21,
   "id": "84573f92-9b54-4298-9291-d9f384be353e",
   "metadata": {},
   "outputs": [
    {
     "ename": "KeyError",
     "evalue": "'email'",
     "output_type": "error",
     "traceback": [
      "\u001b[1;31m---------------------------------------------------------------------------\u001b[0m",
      "\u001b[1;31mKeyError\u001b[0m                                  Traceback (most recent call last)",
      "Cell \u001b[1;32mIn[21], line 8\u001b[0m\n\u001b[0;32m      1\u001b[0m person\u001b[38;5;241m=\u001b[39m{\n\u001b[0;32m      2\u001b[0m     \u001b[38;5;124m\"\u001b[39m\u001b[38;5;124mid\u001b[39m\u001b[38;5;124m\"\u001b[39m: \u001b[38;5;241m1\u001b[39m,  \u001b[38;5;66;03m#key value pair\u001b[39;00m\n\u001b[0;32m      3\u001b[0m     \u001b[38;5;124m\"\u001b[39m\u001b[38;5;124mname\u001b[39m\u001b[38;5;124m\"\u001b[39m: \u001b[38;5;124m\"\u001b[39m\u001b[38;5;124mram\u001b[39m\u001b[38;5;124m\"\u001b[39m,\n\u001b[1;32m   (...)\u001b[0m\n\u001b[0;32m      6\u001b[0m     \u001b[38;5;124m\"\u001b[39m\u001b[38;5;124msalary\u001b[39m\u001b[38;5;124m\"\u001b[39m: \u001b[38;5;241m3000322.02\u001b[39m\n\u001b[0;32m      7\u001b[0m }\n\u001b[1;32m----> 8\u001b[0m \u001b[43mperson\u001b[49m\u001b[43m[\u001b[49m\u001b[38;5;124;43m\"\u001b[39;49m\u001b[38;5;124;43memail\u001b[39;49m\u001b[38;5;124;43m\"\u001b[39;49m\u001b[43m]\u001b[49m\n\u001b[0;32m      9\u001b[0m \u001b[38;5;28mprint\u001b[39m (\u001b[38;5;124m\"\u001b[39m\u001b[38;5;124mhello\u001b[39m\u001b[38;5;124m\"\u001b[39m)\n",
      "\u001b[1;31mKeyError\u001b[0m: 'email'"
     ]
    }
   ],
   "source": [
    "person={\n",
    "    \"id\": 1,  #key value pair\n",
    "    \"name\": \"ram\",\n",
    "    \"age\": 22,\n",
    "    \"contact\": 12344566,\n",
    "    \"salary\": 3000322.02\n",
    "}\n",
    "person[\"email\"]\n",
    "print (\"hello\")"
   ]
  },
  {
   "cell_type": "code",
   "execution_count": 22,
   "id": "296d046f-9464-486a-a213-0969169a82e3",
   "metadata": {},
   "outputs": [
    {
     "name": "stdout",
     "output_type": "stream",
     "text": [
      "None <class 'NoneType'>\n"
     ]
    }
   ],
   "source": [
    "x= None #None datastructure\n",
    "print (x, type(x))"
   ]
  },
  {
   "cell_type": "code",
   "execution_count": 23,
   "id": "92f92638-80dc-4eea-bff7-dcd8233cfc2d",
   "metadata": {},
   "outputs": [
    {
     "name": "stdout",
     "output_type": "stream",
     "text": [
      "None\n"
     ]
    }
   ],
   "source": [
    "person={\n",
    "    \"id\": 1,  #key value pair\n",
    "    \"name\": \"ram\",\n",
    "    \"age\": 22,\n",
    "    \"contact\": 12344566,\n",
    "    \"salary\": 3000322.02\n",
    "}\n",
    "print (person.get(\"email\"))"
   ]
  },
  {
   "cell_type": "code",
   "execution_count": 24,
   "id": "cd9cedb8-8215-47af-8d3d-af8842892c28",
   "metadata": {},
   "outputs": [
    {
     "name": "stdout",
     "output_type": "stream",
     "text": [
      "22\n"
     ]
    }
   ],
   "source": [
    "person={\n",
    "    \"id\": 1,  #key value pair\n",
    "    \"name\": \"ram\",\n",
    "    \"age\": 22,\n",
    "    \"contact\": 12344566,\n",
    "    \"salary\": 3000322.02\n",
    "}\n",
    "print (person.get(\"age\"))"
   ]
  },
  {
   "cell_type": "code",
   "execution_count": 25,
   "id": "9ad1d02e-714e-4bc6-82f5-e6d7fe373ca9",
   "metadata": {},
   "outputs": [
    {
     "name": "stdout",
     "output_type": "stream",
     "text": [
      "ram@gmail.com\n"
     ]
    }
   ],
   "source": [
    "# data ma chaina vane pani default dekhauna lai tara database ma add hudaina\n",
    "person={\n",
    "    \"id\": 1,  #key value pair\n",
    "    \"name\": \"ram\",\n",
    "    \"age\": 22,\n",
    "    \"contact\": 12344566,\n",
    "    \"salary\": 3000322.02\n",
    "}\n",
    "print (person.get(\"email\", \"ram@gmail.com\"))"
   ]
  },
  {
   "cell_type": "code",
   "execution_count": 26,
   "id": "878c469b-390f-4f05-9447-8be14c92708b",
   "metadata": {},
   "outputs": [
    {
     "name": "stdout",
     "output_type": "stream",
     "text": [
      "ram@gmail.com\n",
      "{'id': 1, 'name': 'ram', 'age': 22, 'contact': 12344566, 'salary': 3000322.02, 'email': 'ram@gmail.com'}\n"
     ]
    }
   ],
   "source": [
    "person={\n",
    "    \"id\": 1,  #key value pair\n",
    "    \"name\": \"ram\",\n",
    "    \"age\": 22,\n",
    "    \"contact\": 12344566,\n",
    "    \"salary\": 3000322.02\n",
    "}\n",
    "print (person.setdefault(\"email\", \"ram@gmail.com\"))\n",
    "print (person)"
   ]
  },
  {
   "cell_type": "code",
   "execution_count": 30,
   "id": "0f97c86e-0d86-4fdb-baab-7d82856f4ffd",
   "metadata": {},
   "outputs": [
    {
     "name": "stdout",
     "output_type": "stream",
     "text": [
      "hari@gmail.com\n",
      "{'id': 1, 'name': 'ram', 'age': 22, 'email': 'hari@gmail.com', 'contact': 12344566, 'salary': 3000322.02}\n"
     ]
    }
   ],
   "source": [
    "#data ma pailai cha vane default last ma set garna mildaina \n",
    "person={\n",
    "    \"id\": 1,  #key value pair\n",
    "    \"name\": \"ram\",\n",
    "    \"age\": 22,\n",
    "    \"email\":\"hari@gmail.com\",\n",
    "    \"contact\": 12344566,\n",
    "    \"salary\": 3000322.02\n",
    "}\n",
    "print (person.setdefault(\"email\", \"ram@gmail.com\"))\n",
    "print (person)"
   ]
  },
  {
   "cell_type": "code",
   "execution_count": 32,
   "id": "e29acea4-6036-42d4-8a37-69077baa2793",
   "metadata": {},
   "outputs": [
    {
     "name": "stdout",
     "output_type": "stream",
     "text": [
      "dict_keys(['id', 'name', 'age', 'email', 'contact', 'salary'])\n"
     ]
    }
   ],
   "source": [
    "person={\n",
    "    \"id\": 1,  #key value pair\n",
    "    \"name\": \"ram\",\n",
    "    \"age\": 22,\n",
    "    \"email\":\"hari@gmail.com\",\n",
    "    \"contact\": 12344566,\n",
    "    \"salary\": 3000322.02\n",
    "}\n",
    "print (person.keys())"
   ]
  },
  {
   "cell_type": "code",
   "execution_count": 33,
   "id": "724d4c98-17fb-4aa2-be34-c6a66b6bbed4",
   "metadata": {},
   "outputs": [
    {
     "name": "stdout",
     "output_type": "stream",
     "text": [
      "dict_values([1, 'ram', 22, 'hari@gmail.com', 12344566, 3000322.02])\n"
     ]
    }
   ],
   "source": [
    "person={\n",
    "    \"id\": 1,  #key value pair\n",
    "    \"name\": \"ram\",\n",
    "    \"age\": 22,\n",
    "    \"email\":\"hari@gmail.com\",\n",
    "    \"contact\": 12344566,\n",
    "    \"salary\": 3000322.02\n",
    "}\n",
    "print (person.values())"
   ]
  },
  {
   "cell_type": "code",
   "execution_count": 34,
   "id": "e0cbf684-6715-4ed1-b338-3f485f07617d",
   "metadata": {},
   "outputs": [
    {
     "name": "stdout",
     "output_type": "stream",
     "text": [
      "dict_items([('id', 1), ('name', 'ram'), ('age', 22), ('email', 'hari@gmail.com'), ('contact', 12344566), ('salary', 3000322.02)])\n"
     ]
    }
   ],
   "source": [
    "person={\n",
    "    \"id\": 1,  #key value pair\n",
    "    \"name\": \"ram\",\n",
    "    \"age\": 22,\n",
    "    \"email\":\"hari@gmail.com\",\n",
    "    \"contact\": 12344566,\n",
    "    \"salary\": 3000322.02\n",
    "}\n",
    "print (person.items())"
   ]
  },
  {
   "cell_type": "code",
   "execution_count": 38,
   "id": "2769bc9b-fbdb-434b-aa47-3a2423aac3ad",
   "metadata": {},
   "outputs": [
    {
     "name": "stdout",
     "output_type": "stream",
     "text": [
      "{'id': 1, 'age': 22, 'email': 'hari@gmail.com', 'contact': 12344566, 'salary': 3000322.02}\n"
     ]
    }
   ],
   "source": [
    "person={\n",
    "    \"id\": 1,  #key value pair\n",
    "    \"name\": \"ram\",\n",
    "    \"age\": 22,\n",
    "    \"email\":\"hari@gmail.com\",\n",
    "    \"contact\": 12344566,\n",
    "    \"salary\": 3000322.02\n",
    "}\n",
    "person.pop(\"name\")\n",
    "print (person)"
   ]
  },
  {
   "cell_type": "code",
   "execution_count": 41,
   "id": "1befea43-23fa-4385-ac72-340578455dc1",
   "metadata": {},
   "outputs": [
    {
     "name": "stdout",
     "output_type": "stream",
     "text": [
      "('salary', 3000322.02)\n",
      "{'id': 1, 'name': 'ram', 'age': 22, 'email': 'hari@gmail.com', 'contact': 12344566}\n"
     ]
    }
   ],
   "source": [
    "person={\n",
    "    \"id\": 1,  #key value pair\n",
    "    \"name\": \"ram\",\n",
    "    \"age\": 22,\n",
    "    \"email\":\"hari@gmail.com\",\n",
    "    \"contact\": 12344566,\n",
    "    \"salary\": 3000322.02\n",
    "}\n",
    "print(person.popitem())\n",
    "print (person)"
   ]
  },
  {
   "cell_type": "code",
   "execution_count": 42,
   "id": "883f814d-f656-4eaf-8df3-33f925bc6041",
   "metadata": {},
   "outputs": [
    {
     "name": "stdout",
     "output_type": "stream",
     "text": [
      "{'id': 1, 'name': 'ram', 'age': 22, 'email': 'ram@gmail.com', 'contact': 12344566, 'salary': 3000322.02, 'college': 'ismt'}\n"
     ]
    }
   ],
   "source": [
    "person={\n",
    "    \"id\": 1,  #key value pair\n",
    "    \"name\": \"ram\",\n",
    "    \"age\": 22,\n",
    "    \"email\":\"hari@gmail.com\",\n",
    "    \"contact\": 12344566,\n",
    "    \"salary\": 3000322.02\n",
    "}\n",
    "person.update({\"email\": \"ram@gmail.com\", \"college\": \"ismt\"})\n",
    "print (person)"
   ]
  },
  {
   "cell_type": "code",
   "execution_count": 43,
   "id": "da94e909-5715-4641-b721-a68b6cd7c303",
   "metadata": {},
   "outputs": [],
   "source": [
    "# tuple, int, float, complex(no. datatypes), string => immutable\n",
    "#list, dictionary, set => mutable"
   ]
  }
 ],
 "metadata": {
  "kernelspec": {
   "display_name": "Python 3 (ipykernel)",
   "language": "python",
   "name": "python3"
  },
  "language_info": {
   "codemirror_mode": {
    "name": "ipython",
    "version": 3
   },
   "file_extension": ".py",
   "mimetype": "text/x-python",
   "name": "python",
   "nbconvert_exporter": "python",
   "pygments_lexer": "ipython3",
   "version": "3.12.5"
  }
 },
 "nbformat": 4,
 "nbformat_minor": 5
}
