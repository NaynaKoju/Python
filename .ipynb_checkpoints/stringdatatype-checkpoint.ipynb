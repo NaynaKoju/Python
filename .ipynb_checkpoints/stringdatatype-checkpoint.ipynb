{
 "cells": [
  {
   "cell_type": "code",
   "execution_count": 6,
   "id": "9c053a7d-6ace-44cf-b3aa-8ff91d1d3b07",
   "metadata": {},
   "outputs": [
    {
     "name": "stdout",
     "output_type": "stream",
     "text": [
      "Hello, I am nayna <class 'str'>\n"
     ]
    }
   ],
   "source": [
    "s= \"Hello, I am nayna\"\n",
    "print (s, type(s))"
   ]
  },
  {
   "cell_type": "code",
   "execution_count": 11,
   "id": "8ec366d5-7c53-4196-8b03-e713410d8b75",
   "metadata": {},
   "outputs": [
    {
     "data": {
      "text/plain": [
       "'h'"
      ]
     },
     "execution_count": 11,
     "metadata": {},
     "output_type": "execute_result"
    }
   ],
   "source": [
    "s= \"This is string\"\n",
    "s[1]          #indexing"
   ]
  },
  {
   "cell_type": "code",
   "execution_count": 12,
   "id": "07b6e158-3561-4976-9769-181ea65edb5a",
   "metadata": {},
   "outputs": [
    {
     "data": {
      "text/plain": [
       "'s'"
      ]
     },
     "execution_count": 12,
     "metadata": {},
     "output_type": "execute_result"
    }
   ],
   "source": [
    "s[6]"
   ]
  },
  {
   "cell_type": "code",
   "execution_count": 14,
   "id": "da824401-d969-4aa9-9a2a-cbd750a47bb0",
   "metadata": {},
   "outputs": [
    {
     "data": {
      "text/plain": [
       "('T', 'h', 'i', 's')"
      ]
     },
     "execution_count": 14,
     "metadata": {},
     "output_type": "execute_result"
    }
   ],
   "source": [
    "s[0],s[1],s[2],s[3]"
   ]
  },
  {
   "cell_type": "code",
   "execution_count": 17,
   "id": "ff7c0f99-6e87-4565-9d2e-a45dd3e0a658",
   "metadata": {},
   "outputs": [
    {
     "data": {
      "text/plain": [
       "'This'"
      ]
     },
     "execution_count": 17,
     "metadata": {},
     "output_type": "execute_result"
    }
   ],
   "source": [
    "#slicing\n",
    "s= \"This is string\"\n",
    "s[0:4]                      #slicing"
   ]
  },
  {
   "cell_type": "code",
   "execution_count": 19,
   "id": "c8618f60-8794-4c47-bb26-ca90f8365108",
   "metadata": {},
   "outputs": [
    {
     "data": {
      "text/plain": [
       "'is stri'"
      ]
     },
     "execution_count": 19,
     "metadata": {},
     "output_type": "execute_result"
    }
   ],
   "source": [
    "s[5:12]"
   ]
  },
  {
   "cell_type": "code",
   "execution_count": 22,
   "id": "6c1dde60-7dd0-4fc9-93ae-cab7aead682c",
   "metadata": {},
   "outputs": [
    {
     "name": "stdout",
     "output_type": "stream",
     "text": [
      "48\n"
     ]
    }
   ],
   "source": [
    "s= \"This is String. Strings in python are immutable.\"\n",
    "print (len(s))"
   ]
  },
  {
   "cell_type": "code",
   "execution_count": 24,
   "id": "e5e7bc19-ad7b-4bc2-b462-2a478b1eb094",
   "metadata": {},
   "outputs": [
    {
     "data": {
      "text/plain": [
       "'e'"
      ]
     },
     "execution_count": 24,
     "metadata": {},
     "output_type": "execute_result"
    }
   ],
   "source": [
    "s[-2]     #negative indexing = (-1,-2,...........)"
   ]
  },
  {
   "cell_type": "code",
   "execution_count": 32,
   "id": "b60f41c8-b987-4ec4-af7f-d5ce57d57ee2",
   "metadata": {},
   "outputs": [
    {
     "name": "stdout",
     "output_type": "stream",
     "text": [
      " immutable\n"
     ]
    }
   ],
   "source": [
    "s= \"This is String. Strings in python are immutable.\"\n",
    "print (s[-11:-1])"
   ]
  },
  {
   "cell_type": "code",
   "execution_count": 1,
   "id": "22154d96-4525-4f03-ace5-072b6b01022c",
   "metadata": {},
   "outputs": [
    {
     "name": "stdout",
     "output_type": "stream",
     "text": [
      "This is String\n"
     ]
    }
   ],
   "source": [
    "s= \"This is String. Strings in python are immutable.\"\n",
    "print (s[0: 14: 1]) #(start: stop: step)"
   ]
  },
  {
   "cell_type": "code",
   "execution_count": 2,
   "id": "37006ece-bc92-4cc0-8353-ca2fec071268",
   "metadata": {},
   "outputs": [
    {
     "name": "stdout",
     "output_type": "stream",
     "text": [
      "Ti sSrn\n"
     ]
    }
   ],
   "source": [
    "s= \"This is String. Strings in python are immutable.\"\n",
    "print (s[0: 14: 2]) #(start: stop: step)"
   ]
  },
  {
   "cell_type": "code",
   "execution_count": 8,
   "id": "e48bc3bf-38b0-4ea0-a6b0-602cf0f05c65",
   "metadata": {},
   "outputs": [
    {
     "name": "stdout",
     "output_type": "stream",
     "text": [
      "This is String. Strings in python are immutable.\n"
     ]
    }
   ],
   "source": [
    "s= \"This is String. Strings in python are immutable.\"\n",
    "print (s[0: : ]) #(start: stop: step)  #(s[:])"
   ]
  },
  {
   "cell_type": "code",
   "execution_count": 9,
   "id": "27ee21cf-d9e8-4350-bbca-983d00622319",
   "metadata": {},
   "outputs": [
    {
     "name": "stdout",
     "output_type": "stream",
     "text": [
      ".elbatummi era nohtyp ni sgnirtS .gnirtS si sihT\n"
     ]
    }
   ],
   "source": [
    "s= \"This is String. Strings in python are immutable.\"\n",
    "print (s[: :-1 ])  #(s[-1: :-1 ])  => same thing"
   ]
  },
  {
   "cell_type": "code",
   "execution_count": 11,
   "id": "8c37317d-d328-4dca-a024-b0b8a9102430",
   "metadata": {},
   "outputs": [
    {
     "name": "stdout",
     "output_type": "stream",
     "text": [
      "This is string. strings in python are immutable.\n"
     ]
    }
   ],
   "source": [
    "#help(str) => to know str features\n",
    "s= \"This is String. Strings in python are immutable.\"\n",
    "print (s.capitalize())"
   ]
  },
  {
   "cell_type": "code",
   "execution_count": 17,
   "id": "477618c4-782e-4744-9f9e-148a43e3c0b5",
   "metadata": {},
   "outputs": [
    {
     "name": "stdout",
     "output_type": "stream",
     "text": [
      "this is string. strings in python are immutable.\n"
     ]
    }
   ],
   "source": [
    "s= \"This is String. Strings in python are immutable.\"\n",
    "print (s.lower())"
   ]
  },
  {
   "cell_type": "code",
   "execution_count": 18,
   "id": "5e17cd3b-7103-4a4b-a169-07cd992b4de2",
   "metadata": {},
   "outputs": [
    {
     "name": "stdout",
     "output_type": "stream",
     "text": [
      "False\n"
     ]
    }
   ],
   "source": [
    "s= \"This is String. Strings in python are immutable.\"\n",
    "print (s.startswith(\"t\"))"
   ]
  },
  {
   "cell_type": "code",
   "execution_count": 19,
   "id": "2697354a-e605-43d1-9307-11d881967b59",
   "metadata": {},
   "outputs": [
    {
     "name": "stdout",
     "output_type": "stream",
     "text": [
      "True\n"
     ]
    }
   ],
   "source": [
    "s= \"This is String. Strings in python are immutable.\"\n",
    "print (s.startswith(\"T\"))"
   ]
  },
  {
   "cell_type": "code",
   "execution_count": 21,
   "id": "059f3d7b-3fde-4818-a94a-53443501087c",
   "metadata": {},
   "outputs": [
    {
     "name": "stdout",
     "output_type": "stream",
     "text": [
      "True\n"
     ]
    }
   ],
   "source": [
    "s= \"This is String. Strings in python are immutable.\"\n",
    "print (s.endswith(\"e.\"))"
   ]
  },
  {
   "cell_type": "code",
   "execution_count": 27,
   "id": "4f8f305c-081f-4f76-aac7-5544a8ada219",
   "metadata": {},
   "outputs": [
    {
     "name": "stdout",
     "output_type": "stream",
     "text": [
      "36\n"
     ]
    }
   ],
   "source": [
    "s= \"This is String. Strings in python are immutable.\"\n",
    "print (s.find(\"e\"))"
   ]
  },
  {
   "cell_type": "code",
   "execution_count": 28,
   "id": "4fd1434c-3201-455a-9092-aacde08ff6c6",
   "metadata": {},
   "outputs": [
    {
     "name": "stdout",
     "output_type": "stream",
     "text": [
      "2\n"
     ]
    }
   ],
   "source": [
    "s= \"This is String. Strings in python are immutable.\"\n",
    "print (s.count(\"e\"))"
   ]
  },
  {
   "cell_type": "code",
   "execution_count": 29,
   "id": "1ef4f7bd-6a1e-4601-a678-e8588472b2a9",
   "metadata": {},
   "outputs": [
    {
     "name": "stdout",
     "output_type": "stream",
     "text": [
      "tHIS IS sTRING. sTRINGS IN PYTHON ARE IMMUTABLE.\n"
     ]
    }
   ],
   "source": [
    "s= \"This is String. Strings in python are immutable.\"\n",
    "print (s.swapcase())"
   ]
  },
  {
   "cell_type": "code",
   "execution_count": 33,
   "id": "bf24b40b-6a90-43c9-97a8-3cde95cd3ea3",
   "metadata": {},
   "outputs": [
    {
     "name": "stdout",
     "output_type": "stream",
     "text": [
      "['ram', 'hari', 'sita']\n"
     ]
    }
   ],
   "source": [
    "x= \"ram->hari->sita\"\n",
    "print (x.split(\"->\"))"
   ]
  },
  {
   "cell_type": "code",
   "execution_count": 34,
   "id": "805e065b-6e8c-4bc7-89a0-c3bf720844a6",
   "metadata": {},
   "outputs": [
    {
     "name": "stdout",
     "output_type": "stream",
     "text": [
      "ram+hari+sita\n"
     ]
    }
   ],
   "source": [
    "x= ['ram', 'hari', 'sita']\n",
    "#output: ram+hari+sita\n",
    "print (\"+\".join(x))"
   ]
  }
 ],
 "metadata": {
  "kernelspec": {
   "display_name": "Python 3 (ipykernel)",
   "language": "python",
   "name": "python3"
  },
  "language_info": {
   "codemirror_mode": {
    "name": "ipython",
    "version": 3
   },
   "file_extension": ".py",
   "mimetype": "text/x-python",
   "name": "python",
   "nbconvert_exporter": "python",
   "pygments_lexer": "ipython3",
   "version": "3.12.5"
  }
 },
 "nbformat": 4,
 "nbformat_minor": 5
}
